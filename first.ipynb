{
 "cells": [
  {
   "cell_type": "code",
   "execution_count": 1,
   "metadata": {
    "autoscroll": false,
    "collapsed": false,
    "ein.hycell": false,
    "ein.tags": "worksheet-0",
    "slideshow": {
     "slide_type": "-"
    }
   },
   "outputs": [
    {
     "name": "stderr",
     "output_type": "stream",
     "text": [
      "\r",
      "Pandas Apply:   0%|          | 0/1000 [00:00<?, ?it/s]"
     ]
    },
    {
     "name": "stderr",
     "output_type": "stream",
     "text": [
      "\r",
      "Pandas Apply:   0%|          | 2/1000 [00:00<01:31, 10.92it/s]"
     ]
    },
    {
     "name": "stderr",
     "output_type": "stream",
     "text": [
      "\r",
      "Pandas Apply:   0%|          | 3/1000 [00:00<02:06,  7.87it/s]"
     ]
    },
    {
     "name": "stderr",
     "output_type": "stream",
     "text": [
      "\r",
      "Pandas Apply:   0%|          | 4/1000 [00:01<04:36,  3.61it/s]"
     ]
    },
    {
     "name": "stderr",
     "output_type": "stream",
     "text": [
      "\r",
      "Pandas Apply:   0%|          | 5/1000 [00:01<04:01,  4.12it/s]"
     ]
    },
    {
     "name": "stderr",
     "output_type": "stream",
     "text": [
      "\r",
      "Pandas Apply:   1%|          | 6/1000 [00:01<04:04,  4.07it/s]"
     ]
    },
    {
     "name": "stderr",
     "output_type": "stream",
     "text": [
      "\r",
      "Pandas Apply:   1%|          | 8/1000 [00:01<03:21,  4.92it/s]"
     ]
    },
    {
     "name": "stderr",
     "output_type": "stream",
     "text": [
      "\r",
      "Pandas Apply:   1%|          | 9/1000 [00:01<03:22,  4.90it/s]"
     ]
    },
    {
     "name": "stderr",
     "output_type": "stream",
     "text": [
      "\r",
      "Pandas Apply:   1%|          | 10/1000 [00:02<04:39,  3.54it/s]"
     ]
    },
    {
     "name": "stderr",
     "output_type": "stream",
     "text": [
      "\r",
      "Pandas Apply:   1%|          | 12/1000 [00:03<05:28,  3.01it/s]"
     ]
    },
    {
     "name": "stderr",
     "output_type": "stream",
     "text": [
      "\r",
      "Pandas Apply:   1%|▏         | 13/1000 [00:03<05:51,  2.81it/s]"
     ]
    },
    {
     "name": "stderr",
     "output_type": "stream",
     "text": [
      "\r",
      "Pandas Apply:   1%|▏         | 14/1000 [00:03<05:55,  2.77it/s]"
     ]
    },
    {
     "name": "stderr",
     "output_type": "stream",
     "text": [
      "\r",
      "Pandas Apply:   2%|▏         | 15/1000 [00:04<05:24,  3.03it/s]"
     ]
    },
    {
     "name": "stderr",
     "output_type": "stream",
     "text": [
      "\r",
      "Pandas Apply:   2%|▏         | 16/1000 [00:04<04:23,  3.74it/s]"
     ]
    },
    {
     "name": "stderr",
     "output_type": "stream",
     "text": [
      "\r",
      "Pandas Apply:   2%|▏         | 17/1000 [00:04<03:42,  4.42it/s]"
     ]
    },
    {
     "name": "stderr",
     "output_type": "stream",
     "text": [
      "\r",
      "Pandas Apply:   2%|▏         | 18/1000 [00:04<03:40,  4.45it/s]"
     ]
    },
    {
     "name": "stderr",
     "output_type": "stream",
     "text": [
      "\r",
      "Pandas Apply:   2%|▏         | 21/1000 [00:04<02:47,  5.86it/s]"
     ]
    },
    {
     "name": "stderr",
     "output_type": "stream",
     "text": [
      "\r",
      "Pandas Apply:   2%|▏         | 23/1000 [00:05<03:23,  4.79it/s]"
     ]
    },
    {
     "name": "stderr",
     "output_type": "stream",
     "text": [
      "\r",
      "Pandas Apply:   2%|▏         | 24/1000 [00:05<03:51,  4.21it/s]"
     ]
    },
    {
     "name": "stderr",
     "output_type": "stream",
     "text": [
      "\r",
      "Pandas Apply:   2%|▎         | 25/1000 [00:05<03:35,  4.53it/s]"
     ]
    },
    {
     "name": "stderr",
     "output_type": "stream",
     "text": [
      "\r",
      "Pandas Apply:   3%|▎         | 26/1000 [00:06<04:16,  3.80it/s]"
     ]
    },
    {
     "name": "stderr",
     "output_type": "stream",
     "text": [
      "\r",
      "Pandas Apply:   3%|▎         | 27/1000 [00:06<03:34,  4.53it/s]"
     ]
    },
    {
     "name": "stderr",
     "output_type": "stream",
     "text": [
      "\r",
      "Pandas Apply:   3%|▎         | 28/1000 [00:06<04:43,  3.42it/s]"
     ]
    },
    {
     "name": "stderr",
     "output_type": "stream",
     "text": [
      "\r",
      "Pandas Apply:   3%|▎         | 29/1000 [00:08<09:00,  1.80it/s]"
     ]
    },
    {
     "name": "stderr",
     "output_type": "stream",
     "text": [
      "\r",
      "Pandas Apply:   3%|▎         | 30/1000 [00:09<11:25,  1.42it/s]"
     ]
    },
    {
     "name": "stderr",
     "output_type": "stream",
     "text": [
      "\r",
      "Pandas Apply:   3%|▎         | 32/1000 [00:09<08:24,  1.92it/s]"
     ]
    },
    {
     "name": "stderr",
     "output_type": "stream",
     "text": [
      "\r",
      "Pandas Apply:   3%|▎         | 33/1000 [00:09<08:34,  1.88it/s]"
     ]
    },
    {
     "name": "stderr",
     "output_type": "stream",
     "text": [
      "\r",
      "Pandas Apply:   3%|▎         | 34/1000 [00:10<07:05,  2.27it/s]"
     ]
    },
    {
     "name": "stderr",
     "output_type": "stream",
     "text": [
      "\r",
      "Pandas Apply:   4%|▎         | 36/1000 [00:10<05:54,  2.72it/s]"
     ]
    },
    {
     "name": "stderr",
     "output_type": "stream",
     "text": [
      "\r",
      "Pandas Apply:   4%|▎         | 37/1000 [00:10<05:20,  3.00it/s]"
     ]
    },
    {
     "name": "stderr",
     "output_type": "stream",
     "text": [
      "\r",
      "Pandas Apply:   4%|▍         | 38/1000 [00:10<04:16,  3.76it/s]"
     ]
    },
    {
     "name": "stderr",
     "output_type": "stream",
     "text": [
      "\r",
      "Pandas Apply:   4%|▍         | 39/1000 [00:11<04:14,  3.78it/s]"
     ]
    },
    {
     "name": "stderr",
     "output_type": "stream",
     "text": [
      "\r",
      "Pandas Apply:   4%|▍         | 41/1000 [00:11<04:08,  3.87it/s]"
     ]
    },
    {
     "name": "stderr",
     "output_type": "stream",
     "text": [
      "\r",
      "Pandas Apply:   4%|▍         | 42/1000 [00:11<04:02,  3.95it/s]"
     ]
    },
    {
     "name": "stderr",
     "output_type": "stream",
     "text": [
      "\r",
      "Pandas Apply:   4%|▍         | 43/1000 [00:12<03:48,  4.20it/s]"
     ]
    },
    {
     "name": "stderr",
     "output_type": "stream",
     "text": [
      "\r",
      "Pandas Apply:   4%|▍         | 45/1000 [00:12<03:36,  4.41it/s]"
     ]
    },
    {
     "name": "stderr",
     "output_type": "stream",
     "text": [
      "\r",
      "Pandas Apply:   5%|▍         | 46/1000 [00:12<04:46,  3.33it/s]"
     ]
    },
    {
     "name": "stderr",
     "output_type": "stream",
     "text": [
      "\r",
      "Pandas Apply:   5%|▍         | 48/1000 [00:13<05:11,  3.05it/s]"
     ]
    },
    {
     "name": "stderr",
     "output_type": "stream",
     "text": [
      "\r",
      "Pandas Apply:   5%|▍         | 49/1000 [00:13<04:31,  3.51it/s]"
     ]
    },
    {
     "name": "stderr",
     "output_type": "stream",
     "text": [
      "\r",
      "Pandas Apply:   5%|▌         | 50/1000 [00:14<04:16,  3.70it/s]"
     ]
    },
    {
     "name": "stderr",
     "output_type": "stream",
     "text": [
      "\r",
      "Pandas Apply:   5%|▌         | 51/1000 [00:14<03:37,  4.37it/s]"
     ]
    },
    {
     "name": "stderr",
     "output_type": "stream",
     "text": [
      "\r",
      "Pandas Apply:   5%|▌         | 52/1000 [00:14<04:01,  3.93it/s]"
     ]
    },
    {
     "name": "stderr",
     "output_type": "stream",
     "text": [
      "\r",
      "Pandas Apply:   5%|▌         | 53/1000 [00:14<04:46,  3.31it/s]"
     ]
    },
    {
     "name": "stderr",
     "output_type": "stream",
     "text": [
      "\r",
      "Pandas Apply:   5%|▌         | 54/1000 [00:15<04:45,  3.31it/s]"
     ]
    },
    {
     "name": "stderr",
     "output_type": "stream",
     "text": [
      "\r",
      "Pandas Apply:   6%|▌         | 55/1000 [00:15<06:16,  2.51it/s]"
     ]
    },
    {
     "name": "stderr",
     "output_type": "stream",
     "text": [
      "\r",
      "Pandas Apply:   6%|▌         | 56/1000 [00:16<05:15,  3.00it/s]"
     ]
    },
    {
     "name": "stderr",
     "output_type": "stream",
     "text": [
      "\r",
      "Pandas Apply:   6%|▌         | 59/1000 [00:16<04:31,  3.46it/s]"
     ]
    },
    {
     "name": "stderr",
     "output_type": "stream",
     "text": [
      "\r",
      "Pandas Apply:   6%|▌         | 60/1000 [00:17<07:00,  2.23it/s]"
     ]
    },
    {
     "name": "stderr",
     "output_type": "stream",
     "text": [
      "\r",
      "Pandas Apply:   6%|▌         | 61/1000 [00:17<06:38,  2.36it/s]"
     ]
    },
    {
     "name": "stderr",
     "output_type": "stream",
     "text": [
      "\r",
      "Pandas Apply:   6%|▌         | 62/1000 [00:18<08:03,  1.94it/s]"
     ]
    },
    {
     "name": "stderr",
     "output_type": "stream",
     "text": [
      "\r",
      "Pandas Apply:   6%|▋         | 64/1000 [00:19<07:11,  2.17it/s]"
     ]
    },
    {
     "name": "stderr",
     "output_type": "stream",
     "text": [
      "\r",
      "Pandas Apply:   6%|▋         | 65/1000 [00:19<05:37,  2.77it/s]"
     ]
    },
    {
     "name": "stderr",
     "output_type": "stream",
     "text": [
      "\r",
      "Pandas Apply:   7%|▋         | 66/1000 [00:19<06:15,  2.49it/s]"
     ]
    },
    {
     "name": "stderr",
     "output_type": "stream",
     "text": [
      "\r",
      "Pandas Apply:   7%|▋         | 67/1000 [00:20<09:19,  1.67it/s]"
     ]
    },
    {
     "name": "stderr",
     "output_type": "stream",
     "text": [
      "\r",
      "Pandas Apply:   7%|▋         | 68/1000 [00:21<08:11,  1.90it/s]"
     ]
    },
    {
     "name": "stderr",
     "output_type": "stream",
     "text": [
      "\r",
      "Pandas Apply:   7%|▋         | 69/1000 [00:21<06:41,  2.32it/s]"
     ]
    },
    {
     "name": "stderr",
     "output_type": "stream",
     "text": [
      "\r",
      "Pandas Apply:   7%|▋         | 70/1000 [00:21<06:45,  2.29it/s]"
     ]
    },
    {
     "name": "stderr",
     "output_type": "stream",
     "text": [
      "\r",
      "Pandas Apply:   7%|▋         | 71/1000 [00:22<07:06,  2.18it/s]"
     ]
    },
    {
     "name": "stderr",
     "output_type": "stream",
     "text": [
      "\r",
      "Pandas Apply:   7%|▋         | 72/1000 [00:22<06:16,  2.47it/s]"
     ]
    },
    {
     "name": "stderr",
     "output_type": "stream",
     "text": [
      "\r",
      "Pandas Apply:   7%|▋         | 73/1000 [00:23<06:33,  2.35it/s]"
     ]
    },
    {
     "name": "stderr",
     "output_type": "stream",
     "text": [
      "\r",
      "Pandas Apply:   7%|▋         | 74/1000 [00:24<09:19,  1.65it/s]"
     ]
    },
    {
     "name": "stderr",
     "output_type": "stream",
     "text": [
      "\r",
      "Pandas Apply:   8%|▊         | 75/1000 [00:24<10:06,  1.52it/s]"
     ]
    },
    {
     "name": "stderr",
     "output_type": "stream",
     "text": [
      "\r",
      "Pandas Apply:   8%|▊         | 77/1000 [00:25<07:18,  2.10it/s]"
     ]
    },
    {
     "name": "stderr",
     "output_type": "stream",
     "text": [
      "\r",
      "Pandas Apply:   8%|▊         | 79/1000 [00:25<05:37,  2.73it/s]"
     ]
    },
    {
     "name": "stderr",
     "output_type": "stream",
     "text": [
      "\r",
      "Pandas Apply:   8%|▊         | 80/1000 [00:25<05:10,  2.96it/s]"
     ]
    },
    {
     "name": "stderr",
     "output_type": "stream",
     "text": [
      "\r",
      "Pandas Apply:   8%|▊         | 81/1000 [00:26<05:50,  2.62it/s]"
     ]
    },
    {
     "name": "stderr",
     "output_type": "stream",
     "text": [
      "\r",
      "Pandas Apply:   8%|▊         | 82/1000 [00:26<04:48,  3.18it/s]"
     ]
    },
    {
     "name": "stderr",
     "output_type": "stream",
     "text": [
      "\r",
      "Pandas Apply:   8%|▊         | 83/1000 [00:26<04:06,  3.72it/s]"
     ]
    },
    {
     "name": "stderr",
     "output_type": "stream",
     "text": [
      "\r",
      "Pandas Apply:   8%|▊         | 84/1000 [00:27<05:47,  2.63it/s]"
     ]
    },
    {
     "name": "stderr",
     "output_type": "stream",
     "text": [
      "\r",
      "Pandas Apply:   8%|▊         | 85/1000 [00:27<04:37,  3.30it/s]"
     ]
    },
    {
     "name": "stderr",
     "output_type": "stream",
     "text": [
      "\r",
      "Pandas Apply:   9%|▊         | 86/1000 [00:27<04:01,  3.78it/s]"
     ]
    },
    {
     "name": "stderr",
     "output_type": "stream",
     "text": [
      "\r",
      "Pandas Apply:   9%|▊         | 87/1000 [00:27<05:36,  2.71it/s]"
     ]
    },
    {
     "name": "stderr",
     "output_type": "stream",
     "text": [
      "\r",
      "Pandas Apply:   9%|▉         | 88/1000 [00:28<08:31,  1.78it/s]"
     ]
    },
    {
     "name": "stderr",
     "output_type": "stream",
     "text": [
      "\r",
      "Pandas Apply:   9%|▉         | 89/1000 [00:29<09:17,  1.64it/s]"
     ]
    },
    {
     "name": "stderr",
     "output_type": "stream",
     "text": [
      "\r",
      "Pandas Apply:   9%|▉         | 90/1000 [00:30<08:15,  1.84it/s]"
     ]
    },
    {
     "name": "stderr",
     "output_type": "stream",
     "text": [
      "\r",
      "Pandas Apply:   9%|▉         | 91/1000 [00:30<07:25,  2.04it/s]"
     ]
    },
    {
     "name": "stderr",
     "output_type": "stream",
     "text": [
      "\r",
      "Pandas Apply:   9%|▉         | 92/1000 [00:30<06:29,  2.33it/s]"
     ]
    },
    {
     "name": "stderr",
     "output_type": "stream",
     "text": [
      "\r",
      "Pandas Apply:   9%|▉         | 93/1000 [00:30<05:06,  2.96it/s]"
     ]
    },
    {
     "name": "stderr",
     "output_type": "stream",
     "text": [
      "\r",
      "Pandas Apply:   9%|▉         | 94/1000 [00:30<04:05,  3.69it/s]"
     ]
    },
    {
     "name": "stderr",
     "output_type": "stream",
     "text": [
      "\r",
      "Pandas Apply:  10%|▉         | 95/1000 [00:31<04:21,  3.46it/s]"
     ]
    },
    {
     "name": "stderr",
     "output_type": "stream",
     "text": [
      "\r",
      "Pandas Apply:  10%|▉         | 97/1000 [00:31<03:55,  3.83it/s]"
     ]
    },
    {
     "name": "stderr",
     "output_type": "stream",
     "text": [
      "\r",
      "Pandas Apply:  10%|▉         | 98/1000 [00:31<03:58,  3.78it/s]"
     ]
    },
    {
     "name": "stderr",
     "output_type": "stream",
     "text": [
      "\r",
      "Pandas Apply:  10%|▉         | 99/1000 [00:32<04:53,  3.07it/s]"
     ]
    },
    {
     "name": "stderr",
     "output_type": "stream",
     "text": [
      "\r",
      "Pandas Apply:  10%|█         | 100/1000 [00:32<05:20,  2.81it/s]"
     ]
    },
    {
     "name": "stderr",
     "output_type": "stream",
     "text": [
      "\r",
      "Pandas Apply:  10%|█         | 101/1000 [00:33<05:44,  2.61it/s]"
     ]
    },
    {
     "name": "stderr",
     "output_type": "stream",
     "text": [
      "\r",
      "Pandas Apply:  10%|█         | 102/1000 [00:33<06:11,  2.42it/s]"
     ]
    },
    {
     "name": "stderr",
     "output_type": "stream",
     "text": [
      "\r",
      "Pandas Apply:  10%|█         | 103/1000 [00:35<10:20,  1.45it/s]"
     ]
    },
    {
     "name": "stderr",
     "output_type": "stream",
     "text": [
      "\r",
      "Pandas Apply:  10%|█         | 104/1000 [00:35<08:18,  1.80it/s]"
     ]
    },
    {
     "name": "stderr",
     "output_type": "stream",
     "text": [
      "\r",
      "Pandas Apply:  11%|█         | 106/1000 [00:35<06:14,  2.39it/s]"
     ]
    },
    {
     "name": "stderr",
     "output_type": "stream",
     "text": [
      "\r",
      "Pandas Apply:  11%|█         | 107/1000 [00:35<05:42,  2.61it/s]"
     ]
    },
    {
     "name": "stderr",
     "output_type": "stream",
     "text": [
      "\r",
      "Pandas Apply:  11%|█         | 108/1000 [00:36<05:56,  2.50it/s]"
     ]
    },
    {
     "name": "stderr",
     "output_type": "stream",
     "text": [
      "\r",
      "Pandas Apply:  11%|█         | 109/1000 [00:36<06:39,  2.23it/s]"
     ]
    },
    {
     "name": "stderr",
     "output_type": "stream",
     "text": [
      "\r",
      "Pandas Apply:  11%|█         | 110/1000 [00:37<05:53,  2.52it/s]"
     ]
    },
    {
     "name": "stderr",
     "output_type": "stream",
     "text": [
      "\r",
      "Pandas Apply:  11%|█         | 111/1000 [00:38<09:24,  1.58it/s]"
     ]
    },
    {
     "name": "stderr",
     "output_type": "stream",
     "text": [
      "\r",
      "Pandas Apply:  11%|█         | 112/1000 [00:38<07:16,  2.03it/s]"
     ]
    },
    {
     "name": "stderr",
     "output_type": "stream",
     "text": [
      "\r",
      "Pandas Apply:  11%|█▏        | 114/1000 [00:38<05:39,  2.61it/s]"
     ]
    },
    {
     "name": "stderr",
     "output_type": "stream",
     "text": [
      "\r",
      "Pandas Apply:  12%|█▏        | 115/1000 [00:39<05:10,  2.85it/s]"
     ]
    },
    {
     "name": "stderr",
     "output_type": "stream",
     "text": [
      "\r",
      "Pandas Apply:  12%|█▏        | 117/1000 [00:40<05:51,  2.51it/s]"
     ]
    },
    {
     "name": "stderr",
     "output_type": "stream",
     "text": [
      "\r",
      "Pandas Apply:  12%|█▏        | 118/1000 [00:40<05:01,  2.92it/s]"
     ]
    },
    {
     "name": "stderr",
     "output_type": "stream",
     "text": [
      "\r",
      "Pandas Apply:  12%|█▏        | 119/1000 [00:40<06:05,  2.41it/s]"
     ]
    },
    {
     "name": "stderr",
     "output_type": "stream",
     "text": [
      "\r",
      "Pandas Apply:  12%|█▏        | 121/1000 [00:40<04:29,  3.26it/s]"
     ]
    },
    {
     "name": "stderr",
     "output_type": "stream",
     "text": [
      "\r",
      "Pandas Apply:  12%|█▏        | 122/1000 [00:41<03:37,  4.04it/s]"
     ]
    },
    {
     "name": "stderr",
     "output_type": "stream",
     "text": [
      "\r",
      "Pandas Apply:  12%|█▏        | 123/1000 [00:41<03:53,  3.75it/s]"
     ]
    },
    {
     "name": "stderr",
     "output_type": "stream",
     "text": [
      "\r",
      "Pandas Apply:  12%|█▎        | 125/1000 [00:41<04:07,  3.54it/s]"
     ]
    },
    {
     "name": "stderr",
     "output_type": "stream",
     "text": [
      "\r",
      "Pandas Apply:  13%|█▎        | 126/1000 [00:42<04:52,  2.98it/s]"
     ]
    },
    {
     "name": "stderr",
     "output_type": "stream",
     "text": [
      "\r",
      "Pandas Apply:  13%|█▎        | 127/1000 [00:43<07:57,  1.83it/s]"
     ]
    },
    {
     "name": "stderr",
     "output_type": "stream",
     "text": [
      "\r",
      "Pandas Apply:  13%|█▎        | 128/1000 [00:43<07:46,  1.87it/s]"
     ]
    },
    {
     "name": "stderr",
     "output_type": "stream",
     "text": [
      "\r",
      "Pandas Apply:  13%|█▎        | 129/1000 [00:44<07:49,  1.86it/s]"
     ]
    },
    {
     "name": "stderr",
     "output_type": "stream",
     "text": [
      "\r",
      "Pandas Apply:  13%|█▎        | 130/1000 [00:44<06:21,  2.28it/s]"
     ]
    },
    {
     "name": "stderr",
     "output_type": "stream",
     "text": [
      "\r",
      "Pandas Apply:  13%|█▎        | 131/1000 [00:45<06:07,  2.36it/s]"
     ]
    },
    {
     "name": "stderr",
     "output_type": "stream",
     "text": [
      "\r",
      "Pandas Apply:  13%|█▎        | 132/1000 [00:45<06:39,  2.17it/s]"
     ]
    },
    {
     "name": "stderr",
     "output_type": "stream",
     "text": [
      "\r",
      "Pandas Apply:  13%|█▎        | 133/1000 [00:45<05:26,  2.65it/s]"
     ]
    },
    {
     "name": "stderr",
     "output_type": "stream",
     "text": [
      "\r",
      "Pandas Apply:  13%|█▎        | 134/1000 [00:46<05:28,  2.63it/s]"
     ]
    },
    {
     "name": "stderr",
     "output_type": "stream",
     "text": [
      "\r",
      "Pandas Apply:  14%|█▎        | 135/1000 [00:46<04:33,  3.16it/s]"
     ]
    },
    {
     "name": "stderr",
     "output_type": "stream",
     "text": [
      "\r",
      "Pandas Apply:  14%|█▎        | 136/1000 [00:47<06:18,  2.28it/s]"
     ]
    },
    {
     "name": "stderr",
     "output_type": "stream",
     "text": [
      "\r",
      "Pandas Apply:  14%|█▎        | 137/1000 [00:47<06:16,  2.29it/s]"
     ]
    },
    {
     "name": "stderr",
     "output_type": "stream",
     "text": [
      "\r",
      "Pandas Apply:  14%|█▍        | 139/1000 [00:47<05:08,  2.79it/s]"
     ]
    },
    {
     "name": "stderr",
     "output_type": "stream",
     "text": [
      "\r",
      "Pandas Apply:  14%|█▍        | 140/1000 [00:48<05:10,  2.77it/s]"
     ]
    },
    {
     "name": "stderr",
     "output_type": "stream",
     "text": [
      "\r",
      "Pandas Apply:  14%|█▍        | 141/1000 [00:48<04:06,  3.49it/s]"
     ]
    },
    {
     "name": "stderr",
     "output_type": "stream",
     "text": [
      "\r",
      "Pandas Apply:  14%|█▍        | 142/1000 [00:49<07:12,  1.99it/s]"
     ]
    },
    {
     "name": "stderr",
     "output_type": "stream",
     "text": [
      "\r",
      "Pandas Apply:  14%|█▍        | 143/1000 [00:49<05:49,  2.45it/s]"
     ]
    },
    {
     "name": "stderr",
     "output_type": "stream",
     "text": [
      "\r",
      "Pandas Apply:  14%|█▍        | 144/1000 [00:49<05:15,  2.71it/s]"
     ]
    },
    {
     "name": "stderr",
     "output_type": "stream",
     "text": [
      "\r",
      "Pandas Apply:  14%|█▍        | 145/1000 [00:50<05:42,  2.49it/s]"
     ]
    },
    {
     "name": "stderr",
     "output_type": "stream",
     "text": [
      "\r",
      "Pandas Apply:  15%|█▍        | 147/1000 [00:50<04:20,  3.28it/s]"
     ]
    },
    {
     "name": "stderr",
     "output_type": "stream",
     "text": [
      "\r",
      "Pandas Apply:  15%|█▍        | 148/1000 [00:50<04:13,  3.36it/s]"
     ]
    },
    {
     "name": "stderr",
     "output_type": "stream",
     "text": [
      "\r",
      "Pandas Apply:  15%|█▍        | 149/1000 [00:51<04:00,  3.54it/s]"
     ]
    },
    {
     "name": "stderr",
     "output_type": "stream",
     "text": [
      "\r",
      "Pandas Apply:  15%|█▌        | 150/1000 [00:51<04:19,  3.28it/s]"
     ]
    },
    {
     "name": "stderr",
     "output_type": "stream",
     "text": [
      "\r",
      "Pandas Apply:  15%|█▌        | 151/1000 [00:51<03:27,  4.08it/s]"
     ]
    },
    {
     "name": "stderr",
     "output_type": "stream",
     "text": [
      "\r",
      "Pandas Apply:  15%|█▌        | 152/1000 [00:51<03:26,  4.11it/s]"
     ]
    },
    {
     "name": "stderr",
     "output_type": "stream",
     "text": [
      "\r",
      "Pandas Apply:  15%|█▌        | 153/1000 [00:51<03:26,  4.11it/s]"
     ]
    },
    {
     "name": "stderr",
     "output_type": "stream",
     "text": [
      "\r",
      "Pandas Apply:  15%|█▌        | 154/1000 [00:53<10:10,  1.39it/s]"
     ]
    },
    {
     "name": "stderr",
     "output_type": "stream",
     "text": [
      "\r",
      "Pandas Apply:  16%|█▌        | 155/1000 [00:54<09:19,  1.51it/s]"
     ]
    },
    {
     "name": "stderr",
     "output_type": "stream",
     "text": [
      "\r",
      "Pandas Apply:  16%|█▌        | 156/1000 [00:54<08:00,  1.76it/s]"
     ]
    },
    {
     "name": "stderr",
     "output_type": "stream",
     "text": [
      "\r",
      "Pandas Apply:  16%|█▌        | 157/1000 [00:55<07:08,  1.97it/s]"
     ]
    },
    {
     "name": "stderr",
     "output_type": "stream",
     "text": [
      "\r",
      "Pandas Apply:  16%|█▌        | 158/1000 [00:55<08:27,  1.66it/s]"
     ]
    },
    {
     "name": "stderr",
     "output_type": "stream",
     "text": [
      "\r",
      "Pandas Apply:  16%|█▌        | 159/1000 [00:56<07:38,  1.83it/s]"
     ]
    },
    {
     "name": "stderr",
     "output_type": "stream",
     "text": [
      "\r",
      "Pandas Apply:  16%|█▌        | 160/1000 [00:56<07:16,  1.92it/s]"
     ]
    },
    {
     "name": "stderr",
     "output_type": "stream",
     "text": [
      "\r",
      "Pandas Apply:  16%|█▌        | 161/1000 [00:57<07:10,  1.95it/s]"
     ]
    },
    {
     "name": "stderr",
     "output_type": "stream",
     "text": [
      "\r",
      "Pandas Apply:  16%|█▌        | 162/1000 [00:57<06:04,  2.30it/s]"
     ]
    },
    {
     "name": "stderr",
     "output_type": "stream",
     "text": [
      "\r",
      "Pandas Apply:  16%|█▋        | 163/1000 [00:57<04:50,  2.88it/s]"
     ]
    },
    {
     "name": "stderr",
     "output_type": "stream",
     "text": [
      "\r",
      "Pandas Apply:  16%|█▋        | 165/1000 [00:58<04:09,  3.34it/s]"
     ]
    },
    {
     "name": "stderr",
     "output_type": "stream",
     "text": [
      "\r",
      "Pandas Apply:  17%|█▋        | 166/1000 [00:58<04:47,  2.90it/s]"
     ]
    },
    {
     "name": "stderr",
     "output_type": "stream",
     "text": [
      "\r",
      "Pandas Apply:  17%|█▋        | 168/1000 [00:58<03:58,  3.49it/s]"
     ]
    },
    {
     "name": "stderr",
     "output_type": "stream",
     "text": [
      "\r",
      "Pandas Apply:  17%|█▋        | 170/1000 [00:58<03:10,  4.35it/s]"
     ]
    },
    {
     "name": "stderr",
     "output_type": "stream",
     "text": [
      "\r",
      "Pandas Apply:  17%|█▋        | 171/1000 [00:59<02:48,  4.92it/s]"
     ]
    },
    {
     "name": "stderr",
     "output_type": "stream",
     "text": [
      "\r",
      "Pandas Apply:  17%|█▋        | 172/1000 [00:59<05:23,  2.56it/s]"
     ]
    },
    {
     "name": "stderr",
     "output_type": "stream",
     "text": [
      "\r",
      "Pandas Apply:  17%|█▋        | 173/1000 [01:00<06:42,  2.06it/s]"
     ]
    },
    {
     "name": "stderr",
     "output_type": "stream",
     "text": [
      "\r",
      "Pandas Apply:  17%|█▋        | 174/1000 [01:01<07:45,  1.78it/s]"
     ]
    },
    {
     "name": "stderr",
     "output_type": "stream",
     "text": [
      "\r",
      "Pandas Apply:  18%|█▊        | 175/1000 [01:01<07:43,  1.78it/s]"
     ]
    },
    {
     "name": "stderr",
     "output_type": "stream",
     "text": [
      "\r",
      "Pandas Apply:  18%|█▊        | 176/1000 [01:02<06:14,  2.20it/s]"
     ]
    },
    {
     "name": "stderr",
     "output_type": "stream",
     "text": [
      "\r",
      "Pandas Apply:  18%|█▊        | 177/1000 [01:02<05:41,  2.41it/s]"
     ]
    },
    {
     "name": "stderr",
     "output_type": "stream",
     "text": [
      "\r",
      "Pandas Apply:  18%|█▊        | 179/1000 [01:02<04:39,  2.94it/s]"
     ]
    },
    {
     "name": "stderr",
     "output_type": "stream",
     "text": [
      "\r",
      "Pandas Apply:  18%|█▊        | 180/1000 [01:02<03:58,  3.44it/s]"
     ]
    },
    {
     "name": "stderr",
     "output_type": "stream",
     "text": [
      "\r",
      "Pandas Apply:  18%|█▊        | 181/1000 [01:03<03:27,  3.95it/s]"
     ]
    },
    {
     "name": "stderr",
     "output_type": "stream",
     "text": [
      "\r",
      "Pandas Apply:  18%|█▊        | 182/1000 [01:03<03:35,  3.79it/s]"
     ]
    },
    {
     "name": "stderr",
     "output_type": "stream",
     "text": [
      "\r",
      "Pandas Apply:  18%|█▊        | 183/1000 [01:03<03:15,  4.18it/s]"
     ]
    },
    {
     "name": "stderr",
     "output_type": "stream",
     "text": [
      "\r",
      "Pandas Apply:  18%|█▊        | 184/1000 [01:03<03:23,  4.01it/s]"
     ]
    },
    {
     "name": "stderr",
     "output_type": "stream",
     "text": [
      "\r",
      "Pandas Apply:  18%|█▊        | 185/1000 [01:04<04:10,  3.25it/s]"
     ]
    },
    {
     "name": "stderr",
     "output_type": "stream",
     "text": [
      "\r",
      "Pandas Apply:  19%|█▊        | 186/1000 [01:04<03:40,  3.70it/s]"
     ]
    },
    {
     "name": "stderr",
     "output_type": "stream",
     "text": [
      "\r",
      "Pandas Apply:  19%|█▊        | 187/1000 [01:04<03:45,  3.60it/s]"
     ]
    },
    {
     "name": "stderr",
     "output_type": "stream",
     "text": [
      "\r",
      "Pandas Apply:  19%|█▉        | 189/1000 [01:05<03:16,  4.13it/s]"
     ]
    },
    {
     "name": "stderr",
     "output_type": "stream",
     "text": [
      "\r",
      "Pandas Apply:  19%|█▉        | 190/1000 [01:05<03:12,  4.21it/s]"
     ]
    },
    {
     "name": "stderr",
     "output_type": "stream",
     "text": [
      "\r",
      "Pandas Apply:  19%|█▉        | 191/1000 [01:05<02:46,  4.86it/s]"
     ]
    },
    {
     "name": "stderr",
     "output_type": "stream",
     "text": [
      "\r",
      "Pandas Apply:  19%|█▉        | 192/1000 [01:05<02:35,  5.20it/s]"
     ]
    },
    {
     "name": "stderr",
     "output_type": "stream",
     "text": [
      "\r",
      "Pandas Apply:  19%|█▉        | 193/1000 [01:07<08:12,  1.64it/s]"
     ]
    },
    {
     "name": "stderr",
     "output_type": "stream",
     "text": [
      "\r",
      "Pandas Apply:  19%|█▉        | 194/1000 [01:07<07:31,  1.78it/s]"
     ]
    },
    {
     "name": "stderr",
     "output_type": "stream",
     "text": [
      "\r",
      "Pandas Apply:  20%|█▉        | 196/1000 [01:07<05:45,  2.33it/s]"
     ]
    },
    {
     "name": "stderr",
     "output_type": "stream",
     "text": [
      "\r",
      "Pandas Apply:  20%|█▉        | 197/1000 [01:08<05:44,  2.33it/s]"
     ]
    },
    {
     "name": "stderr",
     "output_type": "stream",
     "text": [
      "\r",
      "Pandas Apply:  20%|█▉        | 198/1000 [01:09<07:12,  1.85it/s]"
     ]
    },
    {
     "name": "stderr",
     "output_type": "stream",
     "text": [
      "\r",
      "Pandas Apply:  20%|█▉        | 199/1000 [01:09<05:52,  2.27it/s]"
     ]
    },
    {
     "name": "stderr",
     "output_type": "stream",
     "text": [
      "\r",
      "Pandas Apply:  20%|██        | 200/1000 [01:09<04:42,  2.83it/s]"
     ]
    },
    {
     "name": "stderr",
     "output_type": "stream",
     "text": [
      "\r",
      "Pandas Apply:  20%|██        | 202/1000 [01:09<03:53,  3.41it/s]"
     ]
    },
    {
     "name": "stderr",
     "output_type": "stream",
     "text": [
      "\r",
      "Pandas Apply:  20%|██        | 203/1000 [01:09<03:23,  3.91it/s]"
     ]
    },
    {
     "name": "stderr",
     "output_type": "stream",
     "text": [
      "\r",
      "Pandas Apply:  20%|██        | 204/1000 [01:11<07:23,  1.80it/s]"
     ]
    },
    {
     "name": "stderr",
     "output_type": "stream",
     "text": [
      "\r",
      "Pandas Apply:  20%|██        | 205/1000 [01:11<06:02,  2.19it/s]"
     ]
    },
    {
     "name": "stderr",
     "output_type": "stream",
     "text": [
      "\r",
      "Pandas Apply:  21%|██        | 206/1000 [01:11<05:21,  2.47it/s]"
     ]
    },
    {
     "name": "stderr",
     "output_type": "stream",
     "text": [
      "\r",
      "Pandas Apply:  21%|██        | 207/1000 [01:12<06:38,  1.99it/s]"
     ]
    },
    {
     "name": "stderr",
     "output_type": "stream",
     "text": [
      "\r",
      "Pandas Apply:  21%|██        | 208/1000 [01:12<06:04,  2.17it/s]"
     ]
    },
    {
     "name": "stderr",
     "output_type": "stream",
     "text": [
      "\r",
      "Pandas Apply:  21%|██        | 209/1000 [01:13<06:37,  1.99it/s]"
     ]
    },
    {
     "name": "stderr",
     "output_type": "stream",
     "text": [
      "\r",
      "Pandas Apply:  21%|██        | 210/1000 [01:13<05:39,  2.33it/s]"
     ]
    },
    {
     "name": "stderr",
     "output_type": "stream",
     "text": [
      "\r",
      "Pandas Apply:  21%|██        | 211/1000 [01:13<04:30,  2.91it/s]"
     ]
    },
    {
     "name": "stderr",
     "output_type": "stream",
     "text": [
      "\r",
      "Pandas Apply:  21%|██        | 212/1000 [01:14<04:06,  3.20it/s]"
     ]
    },
    {
     "name": "stderr",
     "output_type": "stream",
     "text": [
      "\r",
      "Pandas Apply:  21%|██▏       | 213/1000 [01:14<03:24,  3.84it/s]"
     ]
    },
    {
     "name": "stderr",
     "output_type": "stream",
     "text": [
      "\r",
      "Pandas Apply:  21%|██▏       | 214/1000 [01:14<04:06,  3.18it/s]"
     ]
    },
    {
     "name": "stderr",
     "output_type": "stream",
     "text": [
      "\r",
      "Pandas Apply:  22%|██▏       | 215/1000 [01:14<04:02,  3.24it/s]"
     ]
    },
    {
     "name": "stderr",
     "output_type": "stream",
     "text": [
      "\r",
      "Pandas Apply:  22%|██▏       | 216/1000 [01:15<04:22,  2.99it/s]"
     ]
    },
    {
     "name": "stderr",
     "output_type": "stream",
     "text": [
      "\r",
      "Pandas Apply:  22%|██▏       | 218/1000 [01:15<03:47,  3.44it/s]"
     ]
    },
    {
     "name": "stderr",
     "output_type": "stream",
     "text": [
      "\r",
      "Pandas Apply:  22%|██▏       | 219/1000 [01:16<04:21,  2.98it/s]"
     ]
    },
    {
     "name": "stderr",
     "output_type": "stream",
     "text": [
      "\r",
      "Pandas Apply:  22%|██▏       | 220/1000 [01:16<03:48,  3.42it/s]"
     ]
    },
    {
     "name": "stderr",
     "output_type": "stream",
     "text": [
      "\r",
      "Pandas Apply:  22%|██▏       | 221/1000 [01:16<03:39,  3.55it/s]"
     ]
    },
    {
     "name": "stderr",
     "output_type": "stream",
     "text": [
      "\r",
      "Pandas Apply:  22%|██▏       | 222/1000 [01:16<03:28,  3.74it/s]"
     ]
    },
    {
     "name": "stderr",
     "output_type": "stream",
     "text": [
      "\r",
      "Pandas Apply:  22%|██▏       | 223/1000 [01:17<04:41,  2.76it/s]"
     ]
    },
    {
     "name": "stderr",
     "output_type": "stream",
     "text": [
      "\r",
      "Pandas Apply:  22%|██▏       | 224/1000 [01:17<04:29,  2.88it/s]"
     ]
    },
    {
     "name": "stderr",
     "output_type": "stream",
     "text": [
      "\r",
      "Pandas Apply:  22%|██▎       | 225/1000 [01:17<03:54,  3.30it/s]"
     ]
    },
    {
     "name": "stderr",
     "output_type": "stream",
     "text": [
      "\r",
      "Pandas Apply:  23%|██▎       | 226/1000 [01:18<04:10,  3.09it/s]"
     ]
    },
    {
     "name": "stderr",
     "output_type": "stream",
     "text": [
      "\r",
      "Pandas Apply:  23%|██▎       | 227/1000 [01:18<03:43,  3.45it/s]"
     ]
    },
    {
     "name": "stderr",
     "output_type": "stream",
     "text": [
      "\r",
      "Pandas Apply:  23%|██▎       | 228/1000 [01:19<05:17,  2.43it/s]"
     ]
    },
    {
     "name": "stderr",
     "output_type": "stream",
     "text": [
      "\r",
      "Pandas Apply:  23%|██▎       | 229/1000 [01:20<09:56,  1.29it/s]"
     ]
    },
    {
     "name": "stderr",
     "output_type": "stream",
     "text": [
      "\r",
      "Pandas Apply:  23%|██▎       | 230/1000 [01:21<10:50,  1.18it/s]"
     ]
    },
    {
     "name": "stderr",
     "output_type": "stream",
     "text": [
      "\r",
      "Pandas Apply:  23%|██▎       | 231/1000 [01:22<09:26,  1.36it/s]"
     ]
    },
    {
     "name": "stderr",
     "output_type": "stream",
     "text": [
      "\r",
      "Pandas Apply:  23%|██▎       | 232/1000 [01:22<08:25,  1.52it/s]"
     ]
    },
    {
     "name": "stderr",
     "output_type": "stream",
     "text": [
      "\r",
      "Pandas Apply:  23%|██▎       | 233/1000 [01:22<06:31,  1.96it/s]"
     ]
    },
    {
     "name": "stderr",
     "output_type": "stream",
     "text": [
      "\r",
      "Pandas Apply:  23%|██▎       | 234/1000 [01:23<05:28,  2.33it/s]"
     ]
    },
    {
     "name": "stderr",
     "output_type": "stream",
     "text": [
      "\r",
      "Pandas Apply:  24%|██▎       | 235/1000 [01:23<05:29,  2.32it/s]"
     ]
    },
    {
     "name": "stderr",
     "output_type": "stream",
     "text": [
      "\r",
      "Pandas Apply:  24%|██▎       | 236/1000 [01:24<05:54,  2.15it/s]"
     ]
    },
    {
     "name": "stderr",
     "output_type": "stream",
     "text": [
      "\r",
      "Pandas Apply:  24%|██▎       | 237/1000 [01:24<05:03,  2.51it/s]"
     ]
    },
    {
     "name": "stderr",
     "output_type": "stream",
     "text": [
      "\r",
      "Pandas Apply:  24%|██▍       | 238/1000 [01:25<06:15,  2.03it/s]"
     ]
    },
    {
     "name": "stderr",
     "output_type": "stream",
     "text": [
      "\r",
      "Pandas Apply:  24%|██▍       | 240/1000 [01:25<04:37,  2.74it/s]"
     ]
    },
    {
     "name": "stderr",
     "output_type": "stream",
     "text": [
      "\r",
      "Pandas Apply:  24%|██▍       | 241/1000 [01:25<05:03,  2.50it/s]"
     ]
    },
    {
     "name": "stderr",
     "output_type": "stream",
     "text": [
      "\r",
      "Pandas Apply:  24%|██▍       | 242/1000 [01:26<05:44,  2.20it/s]"
     ]
    },
    {
     "name": "stderr",
     "output_type": "stream",
     "text": [
      "\r",
      "Pandas Apply:  24%|██▍       | 243/1000 [01:26<04:44,  2.66it/s]"
     ]
    },
    {
     "name": "stderr",
     "output_type": "stream",
     "text": [
      "\r",
      "Pandas Apply:  24%|██▍       | 244/1000 [01:27<05:08,  2.45it/s]"
     ]
    },
    {
     "name": "stderr",
     "output_type": "stream",
     "text": [
      "\r",
      "Pandas Apply:  24%|██▍       | 245/1000 [01:27<04:26,  2.83it/s]"
     ]
    },
    {
     "name": "stderr",
     "output_type": "stream",
     "text": [
      "\r",
      "Pandas Apply:  25%|██▍       | 246/1000 [01:27<04:13,  2.97it/s]"
     ]
    },
    {
     "name": "stderr",
     "output_type": "stream",
     "text": [
      "\r",
      "Pandas Apply:  25%|██▍       | 247/1000 [01:28<06:54,  1.82it/s]"
     ]
    },
    {
     "name": "stderr",
     "output_type": "stream",
     "text": [
      "\r",
      "Pandas Apply:  25%|██▍       | 248/1000 [01:29<06:40,  1.88it/s]"
     ]
    },
    {
     "name": "stderr",
     "output_type": "stream",
     "text": [
      "\r",
      "Pandas Apply:  25%|██▌       | 250/1000 [01:29<05:19,  2.34it/s]"
     ]
    },
    {
     "name": "stderr",
     "output_type": "stream",
     "text": [
      "\r",
      "Pandas Apply:  25%|██▌       | 251/1000 [01:31<10:40,  1.17it/s]"
     ]
    },
    {
     "name": "stderr",
     "output_type": "stream",
     "text": [
      "\r",
      "Pandas Apply:  25%|██▌       | 253/1000 [01:31<07:46,  1.60it/s]"
     ]
    },
    {
     "name": "stderr",
     "output_type": "stream",
     "text": [
      "\r",
      "Pandas Apply:  25%|██▌       | 254/1000 [01:32<08:50,  1.41it/s]"
     ]
    },
    {
     "name": "stderr",
     "output_type": "stream",
     "text": [
      "\r",
      "Pandas Apply:  26%|██▌       | 255/1000 [01:32<08:23,  1.48it/s]"
     ]
    },
    {
     "name": "stderr",
     "output_type": "stream",
     "text": [
      "\r",
      "Pandas Apply:  26%|██▌       | 256/1000 [01:33<09:10,  1.35it/s]"
     ]
    },
    {
     "name": "stderr",
     "output_type": "stream",
     "text": [
      "\r",
      "Pandas Apply:  26%|██▌       | 257/1000 [01:34<07:54,  1.57it/s]"
     ]
    },
    {
     "name": "stderr",
     "output_type": "stream",
     "text": [
      "\r",
      "Pandas Apply:  26%|██▌       | 258/1000 [01:34<06:50,  1.81it/s]"
     ]
    },
    {
     "name": "stderr",
     "output_type": "stream",
     "text": [
      "\r",
      "Pandas Apply:  26%|██▌       | 259/1000 [01:34<05:32,  2.23it/s]"
     ]
    },
    {
     "name": "stderr",
     "output_type": "stream",
     "text": [
      "\r",
      "Pandas Apply:  26%|██▌       | 260/1000 [01:35<04:31,  2.73it/s]"
     ]
    },
    {
     "name": "stderr",
     "output_type": "stream",
     "text": [
      "\r",
      "Pandas Apply:  26%|██▌       | 261/1000 [01:36<09:20,  1.32it/s]"
     ]
    },
    {
     "name": "stderr",
     "output_type": "stream",
     "text": [
      "\r",
      "Pandas Apply:  26%|██▌       | 262/1000 [01:37<08:32,  1.44it/s]"
     ]
    },
    {
     "name": "stderr",
     "output_type": "stream",
     "text": [
      "\r",
      "Pandas Apply:  26%|██▋       | 263/1000 [01:37<07:12,  1.71it/s]"
     ]
    },
    {
     "name": "stderr",
     "output_type": "stream",
     "text": [
      "\r",
      "Pandas Apply:  26%|██▋       | 264/1000 [01:37<05:44,  2.14it/s]"
     ]
    },
    {
     "name": "stderr",
     "output_type": "stream",
     "text": [
      "\r",
      "Pandas Apply:  26%|██▋       | 265/1000 [01:38<06:13,  1.97it/s]"
     ]
    },
    {
     "name": "stderr",
     "output_type": "stream",
     "text": [
      "\r",
      "Pandas Apply:  27%|██▋       | 266/1000 [01:38<05:03,  2.42it/s]"
     ]
    },
    {
     "name": "stderr",
     "output_type": "stream",
     "text": [
      "\r",
      "Pandas Apply:  27%|██▋       | 267/1000 [01:38<04:33,  2.68it/s]"
     ]
    },
    {
     "name": "stderr",
     "output_type": "stream",
     "text": [
      "\r",
      "Pandas Apply:  27%|██▋       | 268/1000 [01:39<06:09,  1.98it/s]"
     ]
    },
    {
     "name": "stderr",
     "output_type": "stream",
     "text": [
      "\r",
      "Pandas Apply:  27%|██▋       | 269/1000 [01:40<05:51,  2.08it/s]"
     ]
    },
    {
     "name": "stderr",
     "output_type": "stream",
     "text": [
      "\r",
      "Pandas Apply:  27%|██▋       | 270/1000 [01:41<07:41,  1.58it/s]"
     ]
    },
    {
     "name": "stderr",
     "output_type": "stream",
     "text": [
      "\r",
      "Pandas Apply:  27%|██▋       | 272/1000 [01:41<06:33,  1.85it/s]"
     ]
    },
    {
     "name": "stderr",
     "output_type": "stream",
     "text": [
      "\r",
      "Pandas Apply:  27%|██▋       | 273/1000 [01:42<05:41,  2.13it/s]"
     ]
    },
    {
     "name": "stderr",
     "output_type": "stream",
     "text": [
      "\r",
      "Pandas Apply:  27%|██▋       | 274/1000 [01:42<04:27,  2.71it/s]"
     ]
    },
    {
     "name": "stderr",
     "output_type": "stream",
     "text": [
      "\r",
      "Pandas Apply:  28%|██▊       | 275/1000 [01:42<06:03,  2.00it/s]"
     ]
    },
    {
     "name": "stderr",
     "output_type": "stream",
     "text": [
      "\r",
      "Pandas Apply:  28%|██▊       | 276/1000 [01:43<05:13,  2.31it/s]"
     ]
    },
    {
     "name": "stderr",
     "output_type": "stream",
     "text": [
      "\r",
      "Pandas Apply:  28%|██▊       | 278/1000 [01:43<04:08,  2.90it/s]"
     ]
    },
    {
     "name": "stderr",
     "output_type": "stream",
     "text": [
      "\r",
      "Pandas Apply:  28%|██▊       | 279/1000 [01:45<08:16,  1.45it/s]"
     ]
    },
    {
     "name": "stderr",
     "output_type": "stream",
     "text": [
      "\r",
      "Pandas Apply:  28%|██▊       | 280/1000 [01:45<07:42,  1.56it/s]"
     ]
    },
    {
     "name": "stderr",
     "output_type": "stream",
     "text": [
      "\r",
      "Pandas Apply:  28%|██▊       | 281/1000 [01:45<06:07,  1.96it/s]"
     ]
    },
    {
     "name": "stderr",
     "output_type": "stream",
     "text": [
      "\r",
      "Pandas Apply:  28%|██▊       | 282/1000 [01:45<04:44,  2.52it/s]"
     ]
    },
    {
     "name": "stderr",
     "output_type": "stream",
     "text": [
      "\r",
      "Pandas Apply:  28%|██▊       | 283/1000 [01:46<04:23,  2.72it/s]"
     ]
    },
    {
     "name": "stderr",
     "output_type": "stream",
     "text": [
      "\r",
      "Pandas Apply:  28%|██▊       | 284/1000 [01:46<05:55,  2.01it/s]"
     ]
    },
    {
     "name": "stderr",
     "output_type": "stream",
     "text": [
      "\r",
      "Pandas Apply:  28%|██▊       | 285/1000 [01:47<05:28,  2.18it/s]"
     ]
    },
    {
     "name": "stderr",
     "output_type": "stream",
     "text": [
      "\r",
      "Pandas Apply:  29%|██▊       | 286/1000 [01:47<05:14,  2.27it/s]"
     ]
    },
    {
     "name": "stderr",
     "output_type": "stream",
     "text": [
      "\r",
      "Pandas Apply:  29%|██▊       | 287/1000 [01:48<04:52,  2.44it/s]"
     ]
    },
    {
     "name": "stderr",
     "output_type": "stream",
     "text": [
      "\r",
      "Pandas Apply:  29%|██▉       | 288/1000 [01:48<06:37,  1.79it/s]"
     ]
    },
    {
     "name": "stderr",
     "output_type": "stream",
     "text": [
      "\r",
      "Pandas Apply:  29%|██▉       | 289/1000 [01:49<05:52,  2.02it/s]"
     ]
    },
    {
     "name": "stderr",
     "output_type": "stream",
     "text": [
      "\r",
      "Pandas Apply:  29%|██▉       | 290/1000 [01:49<04:57,  2.39it/s]"
     ]
    },
    {
     "name": "stderr",
     "output_type": "stream",
     "text": [
      "\r",
      "Pandas Apply:  29%|██▉       | 291/1000 [01:49<04:12,  2.81it/s]"
     ]
    },
    {
     "name": "stderr",
     "output_type": "stream",
     "text": [
      "\r",
      "Pandas Apply:  29%|██▉       | 292/1000 [01:50<04:15,  2.77it/s]"
     ]
    },
    {
     "name": "stderr",
     "output_type": "stream",
     "text": [
      "\r",
      "Pandas Apply:  29%|██▉       | 293/1000 [01:50<05:18,  2.22it/s]"
     ]
    },
    {
     "name": "stderr",
     "output_type": "stream",
     "text": [
      "\r",
      "Pandas Apply:  29%|██▉       | 294/1000 [01:51<05:55,  1.99it/s]"
     ]
    },
    {
     "name": "stderr",
     "output_type": "stream",
     "text": [
      "\r",
      "Pandas Apply:  30%|██▉       | 296/1000 [01:51<05:06,  2.29it/s]"
     ]
    },
    {
     "name": "stderr",
     "output_type": "stream",
     "text": [
      "\r",
      "Pandas Apply:  30%|██▉       | 297/1000 [01:52<03:58,  2.95it/s]"
     ]
    },
    {
     "name": "stderr",
     "output_type": "stream",
     "text": [
      "\r",
      "Pandas Apply:  30%|██▉       | 298/1000 [01:52<04:03,  2.88it/s]"
     ]
    },
    {
     "name": "stderr",
     "output_type": "stream",
     "text": [
      "\r",
      "Pandas Apply:  30%|██▉       | 299/1000 [01:53<05:31,  2.12it/s]"
     ]
    },
    {
     "name": "stderr",
     "output_type": "stream",
     "text": [
      "\r",
      "Pandas Apply:  30%|███       | 300/1000 [01:53<04:46,  2.44it/s]"
     ]
    },
    {
     "name": "stderr",
     "output_type": "stream",
     "text": [
      "\r",
      "Pandas Apply:  30%|███       | 301/1000 [01:53<04:09,  2.80it/s]"
     ]
    },
    {
     "name": "stderr",
     "output_type": "stream",
     "text": [
      "\r",
      "Pandas Apply:  30%|███       | 303/1000 [01:53<03:14,  3.59it/s]"
     ]
    },
    {
     "name": "stderr",
     "output_type": "stream",
     "text": [
      "\r",
      "Pandas Apply:  30%|███       | 305/1000 [01:54<03:38,  3.19it/s]"
     ]
    },
    {
     "name": "stderr",
     "output_type": "stream",
     "text": [
      "\r",
      "Pandas Apply:  31%|███       | 306/1000 [01:55<04:55,  2.35it/s]"
     ]
    },
    {
     "name": "stderr",
     "output_type": "stream",
     "text": [
      "\r",
      "Pandas Apply:  31%|███       | 307/1000 [01:55<05:22,  2.15it/s]"
     ]
    },
    {
     "name": "stderr",
     "output_type": "stream",
     "text": [
      "\r",
      "Pandas Apply:  31%|███       | 308/1000 [01:56<04:50,  2.38it/s]"
     ]
    },
    {
     "name": "stderr",
     "output_type": "stream",
     "text": [
      "\r",
      "Pandas Apply:  31%|███       | 309/1000 [01:56<04:13,  2.73it/s]"
     ]
    },
    {
     "name": "stderr",
     "output_type": "stream",
     "text": [
      "\r",
      "Pandas Apply:  31%|███       | 310/1000 [01:56<04:10,  2.76it/s]"
     ]
    },
    {
     "name": "stderr",
     "output_type": "stream",
     "text": [
      "\r",
      "Pandas Apply:  31%|███       | 311/1000 [01:57<05:40,  2.02it/s]"
     ]
    },
    {
     "name": "stderr",
     "output_type": "stream",
     "text": [
      "\r",
      "Pandas Apply:  31%|███       | 312/1000 [01:58<06:27,  1.78it/s]"
     ]
    },
    {
     "name": "stderr",
     "output_type": "stream",
     "text": [
      "\r",
      "Pandas Apply:  31%|███▏      | 313/1000 [01:58<04:53,  2.34it/s]"
     ]
    },
    {
     "name": "stderr",
     "output_type": "stream",
     "text": [
      "\r",
      "Pandas Apply:  32%|███▏      | 315/1000 [01:59<04:41,  2.44it/s]"
     ]
    },
    {
     "name": "stderr",
     "output_type": "stream",
     "text": [
      "\r",
      "Pandas Apply:  32%|███▏      | 318/1000 [01:59<03:39,  3.11it/s]"
     ]
    },
    {
     "name": "stderr",
     "output_type": "stream",
     "text": [
      "\r",
      "Pandas Apply:  32%|███▏      | 319/1000 [01:59<03:15,  3.49it/s]"
     ]
    },
    {
     "name": "stderr",
     "output_type": "stream",
     "text": [
      "\r",
      "Pandas Apply:  32%|███▏      | 320/1000 [02:00<03:42,  3.06it/s]"
     ]
    },
    {
     "name": "stderr",
     "output_type": "stream",
     "text": [
      "\r",
      "Pandas Apply:  32%|███▏      | 321/1000 [02:00<03:19,  3.40it/s]"
     ]
    },
    {
     "name": "stderr",
     "output_type": "stream",
     "text": [
      "\r",
      "Pandas Apply:  32%|███▏      | 323/1000 [02:00<02:42,  4.18it/s]"
     ]
    },
    {
     "name": "stderr",
     "output_type": "stream",
     "text": [
      "\r",
      "Pandas Apply:  32%|███▏      | 324/1000 [02:00<02:52,  3.92it/s]"
     ]
    },
    {
     "name": "stderr",
     "output_type": "stream",
     "text": [
      "\r",
      "Pandas Apply:  32%|███▎      | 325/1000 [02:01<04:26,  2.53it/s]"
     ]
    },
    {
     "name": "stderr",
     "output_type": "stream",
     "text": [
      "\r",
      "Pandas Apply:  33%|███▎      | 327/1000 [02:01<03:30,  3.19it/s]"
     ]
    },
    {
     "name": "stderr",
     "output_type": "stream",
     "text": [
      "\r",
      "Pandas Apply:  33%|███▎      | 328/1000 [02:02<02:50,  3.94it/s]"
     ]
    },
    {
     "name": "stderr",
     "output_type": "stream",
     "text": [
      "\r",
      "Pandas Apply:  33%|███▎      | 329/1000 [02:02<02:45,  4.04it/s]"
     ]
    },
    {
     "name": "stderr",
     "output_type": "stream",
     "text": [
      "\r",
      "Pandas Apply:  33%|███▎      | 330/1000 [02:04<07:44,  1.44it/s]"
     ]
    },
    {
     "name": "stderr",
     "output_type": "stream",
     "text": [
      "\r",
      "Pandas Apply:  33%|███▎      | 331/1000 [02:04<05:55,  1.88it/s]"
     ]
    },
    {
     "name": "stderr",
     "output_type": "stream",
     "text": [
      "\r",
      "Pandas Apply:  33%|███▎      | 332/1000 [02:04<05:03,  2.20it/s]"
     ]
    },
    {
     "name": "stderr",
     "output_type": "stream",
     "text": [
      "\r",
      "Pandas Apply:  33%|███▎      | 333/1000 [02:04<05:17,  2.10it/s]"
     ]
    },
    {
     "name": "stderr",
     "output_type": "stream",
     "text": [
      "\r",
      "Pandas Apply:  33%|███▎      | 334/1000 [02:05<04:45,  2.33it/s]"
     ]
    },
    {
     "name": "stderr",
     "output_type": "stream",
     "text": [
      "\r",
      "Pandas Apply:  34%|███▎      | 335/1000 [02:05<03:40,  3.02it/s]"
     ]
    },
    {
     "name": "stderr",
     "output_type": "stream",
     "text": [
      "\r",
      "Pandas Apply:  34%|███▎      | 336/1000 [02:05<03:21,  3.29it/s]"
     ]
    },
    {
     "name": "stderr",
     "output_type": "stream",
     "text": [
      "\r",
      "Pandas Apply:  34%|███▎      | 337/1000 [02:05<03:04,  3.59it/s]"
     ]
    },
    {
     "name": "stderr",
     "output_type": "stream",
     "text": [
      "\r",
      "Pandas Apply:  34%|███▍      | 339/1000 [02:06<03:01,  3.64it/s]"
     ]
    },
    {
     "name": "stderr",
     "output_type": "stream",
     "text": [
      "\r",
      "Pandas Apply:  34%|███▍      | 340/1000 [02:06<03:05,  3.55it/s]"
     ]
    },
    {
     "name": "stderr",
     "output_type": "stream",
     "text": [
      "\r",
      "Pandas Apply:  34%|███▍      | 343/1000 [02:06<02:23,  4.57it/s]"
     ]
    },
    {
     "name": "stderr",
     "output_type": "stream",
     "text": [
      "\r",
      "Pandas Apply:  34%|███▍      | 344/1000 [02:07<02:22,  4.60it/s]"
     ]
    },
    {
     "name": "stderr",
     "output_type": "stream",
     "text": [
      "\r",
      "Pandas Apply:  34%|███▍      | 345/1000 [02:07<02:56,  3.72it/s]"
     ]
    },
    {
     "name": "stderr",
     "output_type": "stream",
     "text": [
      "\r",
      "Pandas Apply:  35%|███▍      | 346/1000 [02:07<02:41,  4.04it/s]"
     ]
    },
    {
     "name": "stderr",
     "output_type": "stream",
     "text": [
      "\r",
      "Pandas Apply:  35%|███▍      | 347/1000 [02:08<04:15,  2.56it/s]"
     ]
    },
    {
     "name": "stderr",
     "output_type": "stream",
     "text": [
      "\r",
      "Pandas Apply:  35%|███▍      | 348/1000 [02:08<03:24,  3.20it/s]"
     ]
    },
    {
     "name": "stderr",
     "output_type": "stream",
     "text": [
      "\r",
      "Pandas Apply:  35%|███▍      | 349/1000 [02:08<03:37,  2.99it/s]"
     ]
    },
    {
     "name": "stderr",
     "output_type": "stream",
     "text": [
      "\r",
      "Pandas Apply:  35%|███▌      | 350/1000 [02:09<02:52,  3.76it/s]"
     ]
    },
    {
     "name": "stderr",
     "output_type": "stream",
     "text": [
      "\r",
      "Pandas Apply:  35%|███▌      | 351/1000 [02:09<03:05,  3.51it/s]"
     ]
    },
    {
     "name": "stderr",
     "output_type": "stream",
     "text": [
      "\r",
      "Pandas Apply:  35%|███▌      | 352/1000 [02:09<02:28,  4.35it/s]"
     ]
    },
    {
     "name": "stderr",
     "output_type": "stream",
     "text": [
      "\r",
      "Pandas Apply:  35%|███▌      | 354/1000 [02:09<02:31,  4.26it/s]"
     ]
    },
    {
     "name": "stderr",
     "output_type": "stream",
     "text": [
      "\r",
      "Pandas Apply:  36%|███▌      | 356/1000 [02:10<01:57,  5.46it/s]"
     ]
    },
    {
     "name": "stderr",
     "output_type": "stream",
     "text": [
      "\r",
      "Pandas Apply:  36%|███▌      | 357/1000 [02:10<02:45,  3.88it/s]"
     ]
    },
    {
     "name": "stderr",
     "output_type": "stream",
     "text": [
      "\r",
      "Pandas Apply:  36%|███▌      | 360/1000 [02:10<02:17,  4.64it/s]"
     ]
    },
    {
     "name": "stderr",
     "output_type": "stream",
     "text": [
      "\r",
      "Pandas Apply:  36%|███▌      | 361/1000 [02:11<02:33,  4.16it/s]"
     ]
    },
    {
     "name": "stderr",
     "output_type": "stream",
     "text": [
      "\r",
      "Pandas Apply:  36%|███▌      | 362/1000 [02:11<03:42,  2.87it/s]"
     ]
    },
    {
     "name": "stderr",
     "output_type": "stream",
     "text": [
      "\r",
      "Pandas Apply:  36%|███▋      | 363/1000 [02:12<04:10,  2.54it/s]"
     ]
    },
    {
     "name": "stderr",
     "output_type": "stream",
     "text": [
      "\r",
      "Pandas Apply:  36%|███▋      | 364/1000 [02:12<04:07,  2.57it/s]"
     ]
    },
    {
     "name": "stderr",
     "output_type": "stream",
     "text": [
      "\r",
      "Pandas Apply:  36%|███▋      | 365/1000 [02:13<05:39,  1.87it/s]"
     ]
    },
    {
     "name": "stderr",
     "output_type": "stream",
     "text": [
      "\r",
      "Pandas Apply:  37%|███▋      | 366/1000 [02:14<05:44,  1.84it/s]"
     ]
    },
    {
     "name": "stderr",
     "output_type": "stream",
     "text": [
      "\r",
      "Pandas Apply:  37%|███▋      | 367/1000 [02:14<05:12,  2.02it/s]"
     ]
    },
    {
     "name": "stderr",
     "output_type": "stream",
     "text": [
      "\r",
      "Pandas Apply:  37%|███▋      | 368/1000 [02:14<05:00,  2.10it/s]"
     ]
    },
    {
     "name": "stderr",
     "output_type": "stream",
     "text": [
      "\r",
      "Pandas Apply:  37%|███▋      | 369/1000 [02:15<05:47,  1.82it/s]"
     ]
    },
    {
     "name": "stderr",
     "output_type": "stream",
     "text": [
      "\r",
      "Pandas Apply:  37%|███▋      | 370/1000 [02:15<04:36,  2.28it/s]"
     ]
    },
    {
     "name": "stderr",
     "output_type": "stream",
     "text": [
      "\r",
      "Pandas Apply:  37%|███▋      | 372/1000 [02:16<03:43,  2.81it/s]"
     ]
    },
    {
     "name": "stderr",
     "output_type": "stream",
     "text": [
      "\r",
      "Pandas Apply:  37%|███▋      | 374/1000 [02:16<03:24,  3.06it/s]"
     ]
    },
    {
     "name": "stderr",
     "output_type": "stream",
     "text": [
      "\r",
      "Pandas Apply:  38%|███▊      | 375/1000 [02:16<03:07,  3.34it/s]"
     ]
    },
    {
     "name": "stderr",
     "output_type": "stream",
     "text": [
      "\r",
      "Pandas Apply:  38%|███▊      | 376/1000 [02:17<04:03,  2.56it/s]"
     ]
    },
    {
     "name": "stderr",
     "output_type": "stream",
     "text": [
      "\r",
      "Pandas Apply:  38%|███▊      | 377/1000 [02:18<04:58,  2.09it/s]"
     ]
    },
    {
     "name": "stderr",
     "output_type": "stream",
     "text": [
      "\r",
      "Pandas Apply:  38%|███▊      | 378/1000 [02:18<04:44,  2.18it/s]"
     ]
    },
    {
     "name": "stderr",
     "output_type": "stream",
     "text": [
      "\r",
      "Pandas Apply:  38%|███▊      | 380/1000 [02:18<03:43,  2.78it/s]"
     ]
    },
    {
     "name": "stderr",
     "output_type": "stream",
     "text": [
      "\r",
      "Pandas Apply:  38%|███▊      | 381/1000 [02:19<04:33,  2.27it/s]"
     ]
    },
    {
     "name": "stderr",
     "output_type": "stream",
     "text": [
      "\r",
      "Pandas Apply:  38%|███▊      | 383/1000 [02:19<03:59,  2.58it/s]"
     ]
    },
    {
     "name": "stderr",
     "output_type": "stream",
     "text": [
      "\r",
      "Pandas Apply:  38%|███▊      | 384/1000 [02:20<04:02,  2.54it/s]"
     ]
    },
    {
     "name": "stderr",
     "output_type": "stream",
     "text": [
      "\r",
      "Pandas Apply:  38%|███▊      | 385/1000 [02:21<06:16,  1.64it/s]"
     ]
    },
    {
     "name": "stderr",
     "output_type": "stream",
     "text": [
      "\r",
      "Pandas Apply:  39%|███▊      | 386/1000 [02:22<05:51,  1.75it/s]"
     ]
    },
    {
     "name": "stderr",
     "output_type": "stream",
     "text": [
      "\r",
      "Pandas Apply:  39%|███▊      | 387/1000 [02:22<04:48,  2.13it/s]"
     ]
    },
    {
     "name": "stderr",
     "output_type": "stream",
     "text": [
      "\r",
      "Pandas Apply:  39%|███▉      | 388/1000 [02:22<05:04,  2.01it/s]"
     ]
    },
    {
     "name": "stderr",
     "output_type": "stream",
     "text": [
      "\r",
      "Pandas Apply:  39%|███▉      | 389/1000 [02:23<05:52,  1.74it/s]"
     ]
    },
    {
     "name": "stderr",
     "output_type": "stream",
     "text": [
      "\r",
      "Pandas Apply:  39%|███▉      | 390/1000 [02:23<04:48,  2.12it/s]"
     ]
    },
    {
     "name": "stderr",
     "output_type": "stream",
     "text": [
      "\r",
      "Pandas Apply:  39%|███▉      | 391/1000 [02:23<03:51,  2.63it/s]"
     ]
    },
    {
     "name": "stderr",
     "output_type": "stream",
     "text": [
      "\r",
      "Pandas Apply:  39%|███▉      | 392/1000 [02:24<05:26,  1.86it/s]"
     ]
    },
    {
     "name": "stderr",
     "output_type": "stream",
     "text": [
      "\r",
      "Pandas Apply:  39%|███▉      | 393/1000 [02:25<05:23,  1.88it/s]"
     ]
    },
    {
     "name": "stderr",
     "output_type": "stream",
     "text": [
      "\r",
      "Pandas Apply:  39%|███▉      | 394/1000 [02:25<05:32,  1.82it/s]"
     ]
    },
    {
     "name": "stderr",
     "output_type": "stream",
     "text": [
      "\r",
      "Pandas Apply:  40%|███▉      | 396/1000 [02:26<04:24,  2.28it/s]"
     ]
    },
    {
     "name": "stderr",
     "output_type": "stream",
     "text": [
      "\r",
      "Pandas Apply:  40%|███▉      | 397/1000 [02:26<04:25,  2.27it/s]"
     ]
    },
    {
     "name": "stderr",
     "output_type": "stream",
     "text": [
      "\r",
      "Pandas Apply:  40%|███▉      | 398/1000 [02:27<04:09,  2.41it/s]"
     ]
    },
    {
     "name": "stderr",
     "output_type": "stream",
     "text": [
      "\r",
      "Pandas Apply:  40%|████      | 400/1000 [02:27<03:16,  3.06it/s]"
     ]
    },
    {
     "name": "stderr",
     "output_type": "stream",
     "text": [
      "\r",
      "Pandas Apply:  40%|████      | 401/1000 [02:27<02:58,  3.36it/s]"
     ]
    },
    {
     "name": "stderr",
     "output_type": "stream",
     "text": [
      "\r",
      "Pandas Apply:  40%|████      | 402/1000 [02:28<03:40,  2.72it/s]"
     ]
    },
    {
     "name": "stderr",
     "output_type": "stream",
     "text": [
      "\r",
      "Pandas Apply:  40%|████      | 405/1000 [02:28<02:44,  3.62it/s]"
     ]
    },
    {
     "name": "stderr",
     "output_type": "stream",
     "text": [
      "\r",
      "Pandas Apply:  41%|████      | 406/1000 [02:30<06:57,  1.42it/s]"
     ]
    },
    {
     "name": "stderr",
     "output_type": "stream",
     "text": [
      "\r",
      "Pandas Apply:  41%|████      | 407/1000 [02:30<06:06,  1.62it/s]"
     ]
    },
    {
     "name": "stderr",
     "output_type": "stream",
     "text": [
      "\r",
      "Pandas Apply:  41%|████      | 408/1000 [02:30<04:47,  2.06it/s]"
     ]
    },
    {
     "name": "stderr",
     "output_type": "stream",
     "text": [
      "\r",
      "Pandas Apply:  41%|████      | 409/1000 [02:31<05:20,  1.84it/s]"
     ]
    },
    {
     "name": "stderr",
     "output_type": "stream",
     "text": [
      "\r",
      "Pandas Apply:  41%|████      | 410/1000 [02:31<04:21,  2.26it/s]"
     ]
    },
    {
     "name": "stderr",
     "output_type": "stream",
     "text": [
      "\r",
      "Pandas Apply:  41%|████      | 411/1000 [02:31<04:29,  2.18it/s]"
     ]
    },
    {
     "name": "stderr",
     "output_type": "stream",
     "text": [
      "\r",
      "Pandas Apply:  41%|████      | 412/1000 [02:32<04:51,  2.01it/s]"
     ]
    },
    {
     "name": "stderr",
     "output_type": "stream",
     "text": [
      "\r",
      "Pandas Apply:  42%|████▏     | 415/1000 [02:32<03:37,  2.69it/s]"
     ]
    },
    {
     "name": "stderr",
     "output_type": "stream",
     "text": [
      "\r",
      "Pandas Apply:  42%|████▏     | 416/1000 [02:33<03:36,  2.69it/s]"
     ]
    },
    {
     "name": "stderr",
     "output_type": "stream",
     "text": [
      "\r",
      "Pandas Apply:  42%|████▏     | 417/1000 [02:33<03:12,  3.03it/s]"
     ]
    },
    {
     "name": "stderr",
     "output_type": "stream",
     "text": [
      "\r",
      "Pandas Apply:  42%|████▏     | 418/1000 [02:33<03:21,  2.88it/s]"
     ]
    },
    {
     "name": "stderr",
     "output_type": "stream",
     "text": [
      "\r",
      "Pandas Apply:  42%|████▏     | 419/1000 [02:34<03:27,  2.80it/s]"
     ]
    },
    {
     "name": "stderr",
     "output_type": "stream",
     "text": [
      "\r",
      "Pandas Apply:  42%|████▏     | 420/1000 [02:34<03:16,  2.95it/s]"
     ]
    },
    {
     "name": "stderr",
     "output_type": "stream",
     "text": [
      "\r",
      "Pandas Apply:  42%|████▏     | 422/1000 [02:34<02:37,  3.67it/s]"
     ]
    },
    {
     "name": "stderr",
     "output_type": "stream",
     "text": [
      "\r",
      "Pandas Apply:  42%|████▏     | 423/1000 [02:34<02:27,  3.92it/s]"
     ]
    },
    {
     "name": "stderr",
     "output_type": "stream",
     "text": [
      "\r",
      "Pandas Apply:  42%|████▏     | 424/1000 [02:35<02:49,  3.40it/s]"
     ]
    },
    {
     "name": "stderr",
     "output_type": "stream",
     "text": [
      "\r",
      "Pandas Apply:  42%|████▎     | 425/1000 [02:40<17:16,  1.80s/it]"
     ]
    },
    {
     "name": "stderr",
     "output_type": "stream",
     "text": [
      "\r",
      "Pandas Apply:  43%|████▎     | 427/1000 [02:41<13:42,  1.44s/it]"
     ]
    },
    {
     "name": "stderr",
     "output_type": "stream",
     "text": [
      "\r",
      "Pandas Apply:  43%|████▎     | 428/1000 [02:42<10:12,  1.07s/it]"
     ]
    },
    {
     "name": "stderr",
     "output_type": "stream",
     "text": [
      "\r",
      "Pandas Apply:  43%|████▎     | 429/1000 [02:43<11:21,  1.19s/it]"
     ]
    },
    {
     "name": "stderr",
     "output_type": "stream",
     "text": [
      "\r",
      "Pandas Apply:  43%|████▎     | 430/1000 [02:45<12:46,  1.34s/it]"
     ]
    },
    {
     "name": "stderr",
     "output_type": "stream",
     "text": [
      "\r",
      "Pandas Apply:  43%|████▎     | 431/1000 [02:45<09:44,  1.03s/it]"
     ]
    },
    {
     "name": "stderr",
     "output_type": "stream",
     "text": [
      "\r",
      "Pandas Apply:  43%|████▎     | 432/1000 [02:45<07:31,  1.26it/s]"
     ]
    },
    {
     "name": "stderr",
     "output_type": "stream",
     "text": [
      "\r",
      "Pandas Apply:  43%|████▎     | 433/1000 [02:45<05:38,  1.68it/s]"
     ]
    },
    {
     "name": "stderr",
     "output_type": "stream",
     "text": [
      "\r",
      "Pandas Apply:  43%|████▎     | 434/1000 [02:46<05:02,  1.87it/s]"
     ]
    },
    {
     "name": "stderr",
     "output_type": "stream",
     "text": [
      "\r",
      "Pandas Apply:  44%|████▎     | 435/1000 [02:46<03:48,  2.47it/s]"
     ]
    },
    {
     "name": "stderr",
     "output_type": "stream",
     "text": [
      "\r",
      "Pandas Apply:  44%|████▎     | 436/1000 [02:47<04:52,  1.93it/s]"
     ]
    },
    {
     "name": "stderr",
     "output_type": "stream",
     "text": [
      "\r",
      "Pandas Apply:  44%|████▎     | 437/1000 [02:47<05:31,  1.70it/s]"
     ]
    },
    {
     "name": "stderr",
     "output_type": "stream",
     "text": [
      "\r",
      "Pandas Apply:  44%|████▍     | 438/1000 [02:48<04:17,  2.18it/s]"
     ]
    },
    {
     "name": "stderr",
     "output_type": "stream",
     "text": [
      "\r",
      "Pandas Apply:  44%|████▍     | 439/1000 [02:48<03:39,  2.56it/s]"
     ]
    },
    {
     "name": "stderr",
     "output_type": "stream",
     "text": [
      "\r",
      "Pandas Apply:  44%|████▍     | 442/1000 [02:48<02:39,  3.51it/s]"
     ]
    },
    {
     "name": "stderr",
     "output_type": "stream",
     "text": [
      "\r",
      "Pandas Apply:  44%|████▍     | 444/1000 [02:48<02:29,  3.71it/s]"
     ]
    },
    {
     "name": "stderr",
     "output_type": "stream",
     "text": [
      "\r",
      "Pandas Apply:  44%|████▍     | 445/1000 [02:49<02:28,  3.73it/s]"
     ]
    },
    {
     "name": "stderr",
     "output_type": "stream",
     "text": [
      "\r",
      "Pandas Apply:  45%|████▍     | 446/1000 [02:49<03:36,  2.55it/s]"
     ]
    },
    {
     "name": "stderr",
     "output_type": "stream",
     "text": [
      "\r",
      "Pandas Apply:  45%|████▍     | 447/1000 [02:50<03:22,  2.73it/s]"
     ]
    },
    {
     "name": "stderr",
     "output_type": "stream",
     "text": [
      "\r",
      "Pandas Apply:  45%|████▍     | 448/1000 [02:50<03:50,  2.39it/s]"
     ]
    },
    {
     "name": "stderr",
     "output_type": "stream",
     "text": [
      "\r",
      "Pandas Apply:  45%|████▍     | 449/1000 [02:50<03:00,  3.05it/s]"
     ]
    },
    {
     "name": "stderr",
     "output_type": "stream",
     "text": [
      "\r",
      "Pandas Apply:  45%|████▌     | 450/1000 [02:51<03:51,  2.38it/s]"
     ]
    },
    {
     "name": "stderr",
     "output_type": "stream",
     "text": [
      "\r",
      "Pandas Apply:  45%|████▌     | 451/1000 [02:51<04:09,  2.20it/s]"
     ]
    },
    {
     "name": "stderr",
     "output_type": "stream",
     "text": [
      "\r",
      "Pandas Apply:  45%|████▌     | 452/1000 [02:52<03:47,  2.41it/s]"
     ]
    },
    {
     "name": "stderr",
     "output_type": "stream",
     "text": [
      "\r",
      "Pandas Apply:  45%|████▌     | 453/1000 [02:52<03:00,  3.03it/s]"
     ]
    },
    {
     "name": "stderr",
     "output_type": "stream",
     "text": [
      "\r",
      "Pandas Apply:  45%|████▌     | 454/1000 [02:53<05:24,  1.68it/s]"
     ]
    },
    {
     "name": "stderr",
     "output_type": "stream",
     "text": [
      "\r",
      "Pandas Apply:  46%|████▌     | 455/1000 [02:53<04:05,  2.22it/s]"
     ]
    },
    {
     "name": "stderr",
     "output_type": "stream",
     "text": [
      "\r",
      "Pandas Apply:  46%|████▌     | 456/1000 [02:54<04:03,  2.23it/s]"
     ]
    },
    {
     "name": "stderr",
     "output_type": "stream",
     "text": [
      "\r",
      "Pandas Apply:  46%|████▌     | 457/1000 [02:54<04:31,  2.00it/s]"
     ]
    },
    {
     "name": "stderr",
     "output_type": "stream",
     "text": [
      "\r",
      "Pandas Apply:  46%|████▌     | 458/1000 [02:55<03:48,  2.37it/s]"
     ]
    },
    {
     "name": "stderr",
     "output_type": "stream",
     "text": [
      "\r",
      "Pandas Apply:  46%|████▌     | 459/1000 [02:56<06:52,  1.31it/s]"
     ]
    },
    {
     "name": "stderr",
     "output_type": "stream",
     "text": [
      "\r",
      "Pandas Apply:  46%|████▌     | 461/1000 [02:57<05:47,  1.55it/s]"
     ]
    },
    {
     "name": "stderr",
     "output_type": "stream",
     "text": [
      "\r",
      "Pandas Apply:  46%|████▋     | 463/1000 [02:57<04:40,  1.91it/s]"
     ]
    },
    {
     "name": "stderr",
     "output_type": "stream",
     "text": [
      "\r",
      "Pandas Apply:  46%|████▋     | 464/1000 [02:58<05:20,  1.67it/s]"
     ]
    },
    {
     "name": "stderr",
     "output_type": "stream",
     "text": [
      "\r",
      "Pandas Apply:  46%|████▋     | 465/1000 [02:59<05:30,  1.62it/s]"
     ]
    },
    {
     "name": "stderr",
     "output_type": "stream",
     "text": [
      "\r",
      "Pandas Apply:  47%|████▋     | 466/1000 [02:59<05:03,  1.76it/s]"
     ]
    },
    {
     "name": "stderr",
     "output_type": "stream",
     "text": [
      "\r",
      "Pandas Apply:  47%|████▋     | 467/1000 [02:59<04:10,  2.13it/s]"
     ]
    },
    {
     "name": "stderr",
     "output_type": "stream",
     "text": [
      "\r",
      "Pandas Apply:  47%|████▋     | 468/1000 [03:00<04:04,  2.18it/s]"
     ]
    },
    {
     "name": "stderr",
     "output_type": "stream",
     "text": [
      "\r",
      "Pandas Apply:  47%|████▋     | 469/1000 [03:00<03:14,  2.73it/s]"
     ]
    },
    {
     "name": "stderr",
     "output_type": "stream",
     "text": [
      "\r",
      "Pandas Apply:  47%|████▋     | 470/1000 [03:00<03:08,  2.81it/s]"
     ]
    },
    {
     "name": "stderr",
     "output_type": "stream",
     "text": [
      "\r",
      "Pandas Apply:  47%|████▋     | 471/1000 [03:01<02:50,  3.11it/s]"
     ]
    },
    {
     "name": "stderr",
     "output_type": "stream",
     "text": [
      "\r",
      "Pandas Apply:  47%|████▋     | 472/1000 [03:02<04:23,  2.00it/s]"
     ]
    },
    {
     "name": "stderr",
     "output_type": "stream",
     "text": [
      "\r",
      "Pandas Apply:  47%|████▋     | 473/1000 [03:02<03:47,  2.32it/s]"
     ]
    },
    {
     "name": "stderr",
     "output_type": "stream",
     "text": [
      "\r",
      "Pandas Apply:  47%|████▋     | 474/1000 [03:02<04:27,  1.97it/s]"
     ]
    },
    {
     "name": "stderr",
     "output_type": "stream",
     "text": [
      "\r",
      "Pandas Apply:  48%|████▊     | 475/1000 [03:03<04:28,  1.95it/s]"
     ]
    },
    {
     "name": "stderr",
     "output_type": "stream",
     "text": [
      "\r",
      "Pandas Apply:  48%|████▊     | 476/1000 [03:04<05:13,  1.67it/s]"
     ]
    },
    {
     "name": "stderr",
     "output_type": "stream",
     "text": [
      "\r",
      "Pandas Apply:  48%|████▊     | 477/1000 [03:04<04:18,  2.03it/s]"
     ]
    },
    {
     "name": "stderr",
     "output_type": "stream",
     "text": [
      "\r",
      "Pandas Apply:  48%|████▊     | 478/1000 [03:04<03:27,  2.51it/s]"
     ]
    },
    {
     "name": "stderr",
     "output_type": "stream",
     "text": [
      "\r",
      "Pandas Apply:  48%|████▊     | 479/1000 [03:04<02:47,  3.12it/s]"
     ]
    },
    {
     "name": "stderr",
     "output_type": "stream",
     "text": [
      "\r",
      "Pandas Apply:  48%|████▊     | 480/1000 [03:05<02:40,  3.25it/s]"
     ]
    },
    {
     "name": "stderr",
     "output_type": "stream",
     "text": [
      "\r",
      "Pandas Apply:  48%|████▊     | 481/1000 [03:05<02:23,  3.63it/s]"
     ]
    },
    {
     "name": "stderr",
     "output_type": "stream",
     "text": [
      "\r",
      "Pandas Apply:  48%|████▊     | 482/1000 [03:07<06:37,  1.30it/s]"
     ]
    },
    {
     "name": "stderr",
     "output_type": "stream",
     "text": [
      "\r",
      "Pandas Apply:  48%|████▊     | 483/1000 [03:07<05:36,  1.54it/s]"
     ]
    },
    {
     "name": "stderr",
     "output_type": "stream",
     "text": [
      "\r",
      "Pandas Apply:  48%|████▊     | 484/1000 [03:07<04:20,  1.98it/s]"
     ]
    },
    {
     "name": "stderr",
     "output_type": "stream",
     "text": [
      "\r",
      "Pandas Apply:  48%|████▊     | 485/1000 [03:08<03:49,  2.24it/s]"
     ]
    },
    {
     "name": "stderr",
     "output_type": "stream",
     "text": [
      "\r",
      "Pandas Apply:  49%|████▊     | 486/1000 [03:08<03:02,  2.81it/s]"
     ]
    },
    {
     "name": "stderr",
     "output_type": "stream",
     "text": [
      "\r",
      "Pandas Apply:  49%|████▊     | 487/1000 [03:08<02:28,  3.45it/s]"
     ]
    },
    {
     "name": "stderr",
     "output_type": "stream",
     "text": [
      "\r",
      "Pandas Apply:  49%|████▉     | 489/1000 [03:08<02:21,  3.60it/s]"
     ]
    },
    {
     "name": "stderr",
     "output_type": "stream",
     "text": [
      "\r",
      "Pandas Apply:  49%|████▉     | 490/1000 [03:09<04:19,  1.97it/s]"
     ]
    },
    {
     "name": "stderr",
     "output_type": "stream",
     "text": [
      "\r",
      "Pandas Apply:  49%|████▉     | 491/1000 [03:11<05:56,  1.43it/s]"
     ]
    },
    {
     "name": "stderr",
     "output_type": "stream",
     "text": [
      "\r",
      "Pandas Apply:  49%|████▉     | 492/1000 [03:11<04:30,  1.88it/s]"
     ]
    },
    {
     "name": "stderr",
     "output_type": "stream",
     "text": [
      "\r",
      "Pandas Apply:  49%|████▉     | 493/1000 [03:11<03:42,  2.28it/s]"
     ]
    },
    {
     "name": "stderr",
     "output_type": "stream",
     "text": [
      "\r",
      "Pandas Apply:  49%|████▉     | 494/1000 [03:11<02:58,  2.84it/s]"
     ]
    },
    {
     "name": "stderr",
     "output_type": "stream",
     "text": [
      "\r",
      "Pandas Apply:  50%|████▉     | 495/1000 [03:12<03:27,  2.44it/s]"
     ]
    },
    {
     "name": "stderr",
     "output_type": "stream",
     "text": [
      "\r",
      "Pandas Apply:  50%|████▉     | 497/1000 [03:12<02:45,  3.04it/s]"
     ]
    },
    {
     "name": "stderr",
     "output_type": "stream",
     "text": [
      "\r",
      "Pandas Apply:  50%|████▉     | 498/1000 [03:12<02:16,  3.67it/s]"
     ]
    },
    {
     "name": "stderr",
     "output_type": "stream",
     "text": [
      "\r",
      "Pandas Apply:  50%|████▉     | 499/1000 [03:13<03:29,  2.39it/s]"
     ]
    },
    {
     "name": "stderr",
     "output_type": "stream",
     "text": [
      "\r",
      "Pandas Apply:  50%|█████     | 500/1000 [03:13<02:56,  2.83it/s]"
     ]
    },
    {
     "name": "stderr",
     "output_type": "stream",
     "text": [
      "\r",
      "Pandas Apply:  50%|█████     | 501/1000 [03:13<02:29,  3.33it/s]"
     ]
    },
    {
     "name": "stderr",
     "output_type": "stream",
     "text": [
      "\r",
      "Pandas Apply:  50%|█████     | 502/1000 [03:13<02:14,  3.70it/s]"
     ]
    },
    {
     "name": "stderr",
     "output_type": "stream",
     "text": [
      "\r",
      "Pandas Apply:  50%|█████     | 503/1000 [03:14<03:59,  2.08it/s]"
     ]
    },
    {
     "name": "stderr",
     "output_type": "stream",
     "text": [
      "\r",
      "Pandas Apply:  50%|█████     | 504/1000 [03:16<06:08,  1.35it/s]"
     ]
    },
    {
     "name": "stderr",
     "output_type": "stream",
     "text": [
      "\r",
      "Pandas Apply:  50%|█████     | 505/1000 [03:16<05:19,  1.55it/s]"
     ]
    },
    {
     "name": "stderr",
     "output_type": "stream",
     "text": [
      "\r",
      "Pandas Apply:  51%|█████     | 506/1000 [03:16<04:27,  1.85it/s]"
     ]
    },
    {
     "name": "stderr",
     "output_type": "stream",
     "text": [
      "\r",
      "Pandas Apply:  51%|█████     | 507/1000 [03:17<04:13,  1.94it/s]"
     ]
    },
    {
     "name": "stderr",
     "output_type": "stream",
     "text": [
      "\r",
      "Pandas Apply:  51%|█████     | 508/1000 [03:17<03:30,  2.34it/s]"
     ]
    },
    {
     "name": "stderr",
     "output_type": "stream",
     "text": [
      "\r",
      "Pandas Apply:  51%|█████     | 509/1000 [03:17<02:48,  2.91it/s]"
     ]
    },
    {
     "name": "stderr",
     "output_type": "stream",
     "text": [
      "\r",
      "Pandas Apply:  51%|█████     | 510/1000 [03:18<03:40,  2.23it/s]"
     ]
    },
    {
     "name": "stderr",
     "output_type": "stream",
     "text": [
      "\r",
      "Pandas Apply:  51%|█████     | 511/1000 [03:18<03:27,  2.36it/s]"
     ]
    },
    {
     "name": "stderr",
     "output_type": "stream",
     "text": [
      "\r",
      "Pandas Apply:  51%|█████     | 512/1000 [03:19<02:58,  2.73it/s]"
     ]
    },
    {
     "name": "stderr",
     "output_type": "stream",
     "text": [
      "\r",
      "Pandas Apply:  51%|█████▏    | 513/1000 [03:19<02:53,  2.80it/s]"
     ]
    },
    {
     "name": "stderr",
     "output_type": "stream",
     "text": [
      "\r",
      "Pandas Apply:  52%|█████▏    | 515/1000 [03:19<02:11,  3.69it/s]"
     ]
    },
    {
     "name": "stderr",
     "output_type": "stream",
     "text": [
      "\r",
      "Pandas Apply:  52%|█████▏    | 516/1000 [03:20<02:59,  2.69it/s]"
     ]
    },
    {
     "name": "stderr",
     "output_type": "stream",
     "text": [
      "\r",
      "Pandas Apply:  52%|█████▏    | 517/1000 [03:20<02:32,  3.17it/s]"
     ]
    },
    {
     "name": "stderr",
     "output_type": "stream",
     "text": [
      "\r",
      "Pandas Apply:  52%|█████▏    | 519/1000 [03:20<02:16,  3.52it/s]"
     ]
    },
    {
     "name": "stderr",
     "output_type": "stream",
     "text": [
      "\r",
      "Pandas Apply:  52%|█████▏    | 521/1000 [03:21<02:00,  3.98it/s]"
     ]
    },
    {
     "name": "stderr",
     "output_type": "stream",
     "text": [
      "\r",
      "Pandas Apply:  52%|█████▏    | 522/1000 [03:21<02:11,  3.63it/s]"
     ]
    },
    {
     "name": "stderr",
     "output_type": "stream",
     "text": [
      "\r",
      "Pandas Apply:  52%|█████▏    | 523/1000 [03:21<01:56,  4.08it/s]"
     ]
    },
    {
     "name": "stderr",
     "output_type": "stream",
     "text": [
      "\r",
      "Pandas Apply:  52%|█████▏    | 524/1000 [03:22<02:42,  2.93it/s]"
     ]
    },
    {
     "name": "stderr",
     "output_type": "stream",
     "text": [
      "\r",
      "Pandas Apply:  52%|█████▎    | 525/1000 [03:22<02:37,  3.01it/s]"
     ]
    },
    {
     "name": "stderr",
     "output_type": "stream",
     "text": [
      "\r",
      "Pandas Apply:  53%|█████▎    | 526/1000 [03:22<02:12,  3.58it/s]"
     ]
    },
    {
     "name": "stderr",
     "output_type": "stream",
     "text": [
      "\r",
      "Pandas Apply:  53%|█████▎    | 528/1000 [03:22<01:53,  4.15it/s]"
     ]
    },
    {
     "name": "stderr",
     "output_type": "stream",
     "text": [
      "\r",
      "Pandas Apply:  53%|█████▎    | 529/1000 [03:23<01:46,  4.44it/s]"
     ]
    },
    {
     "name": "stderr",
     "output_type": "stream",
     "text": [
      "\r",
      "Pandas Apply:  53%|█████▎    | 530/1000 [03:24<04:04,  1.92it/s]"
     ]
    },
    {
     "name": "stderr",
     "output_type": "stream",
     "text": [
      "\r",
      "Pandas Apply:  53%|█████▎    | 532/1000 [03:24<03:34,  2.18it/s]"
     ]
    },
    {
     "name": "stderr",
     "output_type": "stream",
     "text": [
      "\r",
      "Pandas Apply:  53%|█████▎    | 533/1000 [03:25<03:51,  2.02it/s]"
     ]
    },
    {
     "name": "stderr",
     "output_type": "stream",
     "text": [
      "\r",
      "Pandas Apply:  53%|█████▎    | 534/1000 [03:25<03:40,  2.11it/s]"
     ]
    },
    {
     "name": "stderr",
     "output_type": "stream",
     "text": [
      "\r",
      "Pandas Apply:  54%|█████▎    | 535/1000 [03:26<03:01,  2.56it/s]"
     ]
    },
    {
     "name": "stderr",
     "output_type": "stream",
     "text": [
      "\r",
      "Pandas Apply:  54%|█████▎    | 536/1000 [03:26<03:08,  2.46it/s]"
     ]
    },
    {
     "name": "stderr",
     "output_type": "stream",
     "text": [
      "\r",
      "Pandas Apply:  54%|█████▎    | 537/1000 [03:26<02:59,  2.58it/s]"
     ]
    },
    {
     "name": "stderr",
     "output_type": "stream",
     "text": [
      "\r",
      "Pandas Apply:  54%|█████▍    | 538/1000 [03:27<03:51,  2.00it/s]"
     ]
    },
    {
     "name": "stderr",
     "output_type": "stream",
     "text": [
      "\r",
      "Pandas Apply:  54%|█████▍    | 539/1000 [03:28<04:38,  1.65it/s]"
     ]
    },
    {
     "name": "stderr",
     "output_type": "stream",
     "text": [
      "\r",
      "Pandas Apply:  54%|█████▍    | 540/1000 [03:28<03:51,  1.98it/s]"
     ]
    },
    {
     "name": "stderr",
     "output_type": "stream",
     "text": [
      "\r",
      "Pandas Apply:  54%|█████▍    | 541/1000 [03:29<04:14,  1.80it/s]"
     ]
    },
    {
     "name": "stderr",
     "output_type": "stream",
     "text": [
      "\r",
      "Pandas Apply:  54%|█████▍    | 542/1000 [03:29<03:27,  2.21it/s]"
     ]
    },
    {
     "name": "stderr",
     "output_type": "stream",
     "text": [
      "\r",
      "Pandas Apply:  54%|█████▍    | 543/1000 [03:30<04:13,  1.80it/s]"
     ]
    },
    {
     "name": "stderr",
     "output_type": "stream",
     "text": [
      "\r",
      "Pandas Apply:  54%|█████▍    | 544/1000 [03:30<03:52,  1.96it/s]"
     ]
    },
    {
     "name": "stderr",
     "output_type": "stream",
     "text": [
      "\r",
      "Pandas Apply:  55%|█████▍    | 545/1000 [03:31<03:09,  2.41it/s]"
     ]
    },
    {
     "name": "stderr",
     "output_type": "stream",
     "text": [
      "\r",
      "Pandas Apply:  55%|█████▍    | 546/1000 [03:31<02:52,  2.64it/s]"
     ]
    },
    {
     "name": "stderr",
     "output_type": "stream",
     "text": [
      "\r",
      "Pandas Apply:  55%|█████▍    | 547/1000 [03:31<02:41,  2.81it/s]"
     ]
    },
    {
     "name": "stderr",
     "output_type": "stream",
     "text": [
      "\r",
      "Pandas Apply:  55%|█████▍    | 548/1000 [03:31<02:23,  3.15it/s]"
     ]
    },
    {
     "name": "stderr",
     "output_type": "stream",
     "text": [
      "\r",
      "Pandas Apply:  55%|█████▍    | 549/1000 [03:32<01:54,  3.95it/s]"
     ]
    },
    {
     "name": "stderr",
     "output_type": "stream",
     "text": [
      "\r",
      "Pandas Apply:  55%|█████▌    | 550/1000 [03:32<02:46,  2.70it/s]"
     ]
    },
    {
     "name": "stderr",
     "output_type": "stream",
     "text": [
      "\r",
      "Pandas Apply:  55%|█████▌    | 552/1000 [03:32<02:13,  3.36it/s]"
     ]
    },
    {
     "name": "stderr",
     "output_type": "stream",
     "text": [
      "\r",
      "Pandas Apply:  55%|█████▌    | 553/1000 [03:34<04:44,  1.57it/s]"
     ]
    },
    {
     "name": "stderr",
     "output_type": "stream",
     "text": [
      "\r",
      "Pandas Apply:  55%|█████▌    | 554/1000 [03:35<04:48,  1.55it/s]"
     ]
    },
    {
     "name": "stderr",
     "output_type": "stream",
     "text": [
      "\r",
      "Pandas Apply:  56%|█████▌    | 555/1000 [03:35<05:11,  1.43it/s]"
     ]
    },
    {
     "name": "stderr",
     "output_type": "stream",
     "text": [
      "\r",
      "Pandas Apply:  56%|█████▌    | 556/1000 [03:35<03:52,  1.91it/s]"
     ]
    },
    {
     "name": "stderr",
     "output_type": "stream",
     "text": [
      "\r",
      "Pandas Apply:  56%|█████▌    | 557/1000 [03:37<05:25,  1.36it/s]"
     ]
    },
    {
     "name": "stderr",
     "output_type": "stream",
     "text": [
      "\r",
      "Pandas Apply:  56%|█████▌    | 558/1000 [03:37<04:13,  1.75it/s]"
     ]
    },
    {
     "name": "stderr",
     "output_type": "stream",
     "text": [
      "\r",
      "Pandas Apply:  56%|█████▌    | 559/1000 [03:37<03:22,  2.18it/s]"
     ]
    },
    {
     "name": "stderr",
     "output_type": "stream",
     "text": [
      "\r",
      "Pandas Apply:  56%|█████▌    | 560/1000 [03:38<03:23,  2.16it/s]"
     ]
    },
    {
     "name": "stderr",
     "output_type": "stream",
     "text": [
      "\r",
      "Pandas Apply:  56%|█████▌    | 561/1000 [03:39<04:42,  1.56it/s]"
     ]
    },
    {
     "name": "stderr",
     "output_type": "stream",
     "text": [
      "\r",
      "Pandas Apply:  56%|█████▌    | 562/1000 [03:41<09:00,  1.23s/it]"
     ]
    },
    {
     "name": "stderr",
     "output_type": "stream",
     "text": [
      "\r",
      "Pandas Apply:  56%|█████▋    | 564/1000 [03:41<06:30,  1.12it/s]"
     ]
    },
    {
     "name": "stderr",
     "output_type": "stream",
     "text": [
      "\r",
      "Pandas Apply:  56%|█████▋    | 565/1000 [03:42<05:32,  1.31it/s]"
     ]
    },
    {
     "name": "stderr",
     "output_type": "stream",
     "text": [
      "\r",
      "Pandas Apply:  57%|█████▋    | 566/1000 [03:43<07:18,  1.01s/it]"
     ]
    },
    {
     "name": "stderr",
     "output_type": "stream",
     "text": [
      "\r",
      "Pandas Apply:  57%|█████▋    | 567/1000 [03:44<06:44,  1.07it/s]"
     ]
    },
    {
     "name": "stderr",
     "output_type": "stream",
     "text": [
      "\r",
      "Pandas Apply:  57%|█████▋    | 568/1000 [03:44<05:01,  1.43it/s]"
     ]
    },
    {
     "name": "stderr",
     "output_type": "stream",
     "text": [
      "\r",
      "Pandas Apply:  57%|█████▋    | 570/1000 [03:44<03:37,  1.98it/s]"
     ]
    },
    {
     "name": "stderr",
     "output_type": "stream",
     "text": [
      "\r",
      "Pandas Apply:  57%|█████▋    | 572/1000 [03:45<02:44,  2.60it/s]"
     ]
    },
    {
     "name": "stderr",
     "output_type": "stream",
     "text": [
      "\r",
      "Pandas Apply:  57%|█████▋    | 573/1000 [03:45<02:14,  3.17it/s]"
     ]
    },
    {
     "name": "stderr",
     "output_type": "stream",
     "text": [
      "\r",
      "Pandas Apply:  57%|█████▋    | 574/1000 [03:45<02:01,  3.50it/s]"
     ]
    },
    {
     "name": "stderr",
     "output_type": "stream",
     "text": [
      "\r",
      "Pandas Apply:  58%|█████▊    | 576/1000 [03:45<01:39,  4.28it/s]"
     ]
    },
    {
     "name": "stderr",
     "output_type": "stream",
     "text": [
      "\r",
      "Pandas Apply:  58%|█████▊    | 577/1000 [03:46<02:18,  3.05it/s]"
     ]
    },
    {
     "name": "stderr",
     "output_type": "stream",
     "text": [
      "\r",
      "Pandas Apply:  58%|█████▊    | 578/1000 [03:46<02:19,  3.02it/s]"
     ]
    },
    {
     "name": "stderr",
     "output_type": "stream",
     "text": [
      "\r",
      "Pandas Apply:  58%|█████▊    | 579/1000 [03:47<02:22,  2.95it/s]"
     ]
    },
    {
     "name": "stderr",
     "output_type": "stream",
     "text": [
      "\r",
      "Pandas Apply:  58%|█████▊    | 580/1000 [03:47<03:16,  2.14it/s]"
     ]
    },
    {
     "name": "stderr",
     "output_type": "stream",
     "text": [
      "\r",
      "Pandas Apply:  58%|█████▊    | 581/1000 [03:48<03:23,  2.06it/s]"
     ]
    },
    {
     "name": "stderr",
     "output_type": "stream",
     "text": [
      "\r",
      "Pandas Apply:  58%|█████▊    | 582/1000 [03:48<03:07,  2.22it/s]"
     ]
    },
    {
     "name": "stderr",
     "output_type": "stream",
     "text": [
      "\r",
      "Pandas Apply:  58%|█████▊    | 583/1000 [03:49<02:58,  2.34it/s]"
     ]
    },
    {
     "name": "stderr",
     "output_type": "stream",
     "text": [
      "\r",
      "Pandas Apply:  58%|█████▊    | 584/1000 [03:49<02:33,  2.72it/s]"
     ]
    },
    {
     "name": "stderr",
     "output_type": "stream",
     "text": [
      "\r",
      "Pandas Apply:  58%|█████▊    | 585/1000 [03:49<02:31,  2.74it/s]"
     ]
    },
    {
     "name": "stderr",
     "output_type": "stream",
     "text": [
      "\r",
      "Pandas Apply:  59%|█████▊    | 586/1000 [03:49<02:14,  3.08it/s]"
     ]
    },
    {
     "name": "stderr",
     "output_type": "stream",
     "text": [
      "\r",
      "Pandas Apply:  59%|█████▊    | 587/1000 [03:50<02:02,  3.36it/s]"
     ]
    },
    {
     "name": "stderr",
     "output_type": "stream",
     "text": [
      "\r",
      "Pandas Apply:  59%|█████▉    | 588/1000 [03:50<01:58,  3.47it/s]"
     ]
    },
    {
     "name": "stderr",
     "output_type": "stream",
     "text": [
      "\r",
      "Pandas Apply:  59%|█████▉    | 589/1000 [03:50<02:17,  3.00it/s]"
     ]
    },
    {
     "name": "stderr",
     "output_type": "stream",
     "text": [
      "\r",
      "Pandas Apply:  59%|█████▉    | 590/1000 [03:51<02:09,  3.15it/s]"
     ]
    },
    {
     "name": "stderr",
     "output_type": "stream",
     "text": [
      "\r",
      "Pandas Apply:  59%|█████▉    | 591/1000 [03:51<01:57,  3.48it/s]"
     ]
    },
    {
     "name": "stderr",
     "output_type": "stream",
     "text": [
      "\r",
      "Pandas Apply:  59%|█████▉    | 592/1000 [03:52<02:53,  2.35it/s]"
     ]
    },
    {
     "name": "stderr",
     "output_type": "stream",
     "text": [
      "\r",
      "Pandas Apply:  59%|█████▉    | 593/1000 [03:52<03:05,  2.20it/s]"
     ]
    },
    {
     "name": "stderr",
     "output_type": "stream",
     "text": [
      "\r",
      "Pandas Apply:  59%|█████▉    | 594/1000 [03:52<02:54,  2.33it/s]"
     ]
    },
    {
     "name": "stderr",
     "output_type": "stream",
     "text": [
      "\r",
      "Pandas Apply:  60%|█████▉    | 595/1000 [03:53<03:03,  2.20it/s]"
     ]
    },
    {
     "name": "stderr",
     "output_type": "stream",
     "text": [
      "\r",
      "Pandas Apply:  60%|█████▉    | 596/1000 [03:53<02:59,  2.25it/s]"
     ]
    },
    {
     "name": "stderr",
     "output_type": "stream",
     "text": [
      "\r",
      "Pandas Apply:  60%|█████▉    | 597/1000 [03:54<02:50,  2.36it/s]"
     ]
    },
    {
     "name": "stderr",
     "output_type": "stream",
     "text": [
      "\r",
      "Pandas Apply:  60%|█████▉    | 598/1000 [03:54<02:45,  2.43it/s]"
     ]
    },
    {
     "name": "stderr",
     "output_type": "stream",
     "text": [
      "\r",
      "Pandas Apply:  60%|█████▉    | 599/1000 [03:54<02:18,  2.89it/s]"
     ]
    },
    {
     "name": "stderr",
     "output_type": "stream",
     "text": [
      "\r",
      "Pandas Apply:  60%|██████    | 600/1000 [03:55<02:10,  3.06it/s]"
     ]
    },
    {
     "name": "stderr",
     "output_type": "stream",
     "text": [
      "\r",
      "Pandas Apply:  60%|██████    | 601/1000 [03:55<02:21,  2.82it/s]"
     ]
    },
    {
     "name": "stderr",
     "output_type": "stream",
     "text": [
      "\r",
      "Pandas Apply:  60%|██████    | 602/1000 [03:55<02:02,  3.25it/s]"
     ]
    },
    {
     "name": "stderr",
     "output_type": "stream",
     "text": [
      "\r",
      "Pandas Apply:  60%|██████    | 604/1000 [03:56<02:11,  3.01it/s]"
     ]
    },
    {
     "name": "stderr",
     "output_type": "stream",
     "text": [
      "\r",
      "Pandas Apply:  60%|██████    | 605/1000 [03:58<04:41,  1.40it/s]"
     ]
    },
    {
     "name": "stderr",
     "output_type": "stream",
     "text": [
      "\r",
      "Pandas Apply:  61%|██████    | 606/1000 [03:58<04:39,  1.41it/s]"
     ]
    },
    {
     "name": "stderr",
     "output_type": "stream",
     "text": [
      "\r",
      "Pandas Apply:  61%|██████    | 607/1000 [03:58<03:31,  1.86it/s]"
     ]
    },
    {
     "name": "stderr",
     "output_type": "stream",
     "text": [
      "\r",
      "Pandas Apply:  61%|██████    | 608/1000 [03:59<03:05,  2.12it/s]"
     ]
    },
    {
     "name": "stderr",
     "output_type": "stream",
     "text": [
      "\r",
      "Pandas Apply:  61%|██████    | 609/1000 [03:59<02:56,  2.22it/s]"
     ]
    },
    {
     "name": "stderr",
     "output_type": "stream",
     "text": [
      "\r",
      "Pandas Apply:  61%|██████    | 610/1000 [04:00<02:41,  2.41it/s]"
     ]
    },
    {
     "name": "stderr",
     "output_type": "stream",
     "text": [
      "\r",
      "Pandas Apply:  61%|██████    | 611/1000 [04:00<03:05,  2.09it/s]"
     ]
    },
    {
     "name": "stderr",
     "output_type": "stream",
     "text": [
      "\r",
      "Pandas Apply:  61%|██████    | 612/1000 [04:00<02:31,  2.57it/s]"
     ]
    },
    {
     "name": "stderr",
     "output_type": "stream",
     "text": [
      "\r",
      "Pandas Apply:  61%|██████▏   | 613/1000 [04:01<02:29,  2.59it/s]"
     ]
    },
    {
     "name": "stderr",
     "output_type": "stream",
     "text": [
      "\r",
      "Pandas Apply:  61%|██████▏   | 614/1000 [04:01<02:42,  2.37it/s]"
     ]
    },
    {
     "name": "stderr",
     "output_type": "stream",
     "text": [
      "\r",
      "Pandas Apply:  62%|██████▏   | 615/1000 [04:02<04:06,  1.56it/s]"
     ]
    },
    {
     "name": "stderr",
     "output_type": "stream",
     "text": [
      "\r",
      "Pandas Apply:  62%|██████▏   | 616/1000 [04:03<03:22,  1.90it/s]"
     ]
    },
    {
     "name": "stderr",
     "output_type": "stream",
     "text": [
      "\r",
      "Pandas Apply:  62%|██████▏   | 617/1000 [04:03<03:02,  2.10it/s]"
     ]
    },
    {
     "name": "stderr",
     "output_type": "stream",
     "text": [
      "\r",
      "Pandas Apply:  62%|██████▏   | 618/1000 [04:03<02:43,  2.34it/s]"
     ]
    },
    {
     "name": "stderr",
     "output_type": "stream",
     "text": [
      "\r",
      "Pandas Apply:  62%|██████▏   | 620/1000 [04:04<02:07,  2.99it/s]"
     ]
    },
    {
     "name": "stderr",
     "output_type": "stream",
     "text": [
      "\r",
      "Pandas Apply:  62%|██████▏   | 621/1000 [04:04<02:09,  2.93it/s]"
     ]
    },
    {
     "name": "stderr",
     "output_type": "stream",
     "text": [
      "\r",
      "Pandas Apply:  62%|██████▏   | 622/1000 [04:04<02:01,  3.12it/s]"
     ]
    },
    {
     "name": "stderr",
     "output_type": "stream",
     "text": [
      "\r",
      "Pandas Apply:  62%|██████▏   | 624/1000 [04:05<02:09,  2.89it/s]"
     ]
    },
    {
     "name": "stderr",
     "output_type": "stream",
     "text": [
      "\r",
      "Pandas Apply:  62%|██████▎   | 625/1000 [04:05<02:00,  3.11it/s]"
     ]
    },
    {
     "name": "stderr",
     "output_type": "stream",
     "text": [
      "\r",
      "Pandas Apply:  63%|██████▎   | 626/1000 [04:06<01:54,  3.26it/s]"
     ]
    },
    {
     "name": "stderr",
     "output_type": "stream",
     "text": [
      "\r",
      "Pandas Apply:  63%|██████▎   | 627/1000 [04:06<01:56,  3.20it/s]"
     ]
    },
    {
     "name": "stderr",
     "output_type": "stream",
     "text": [
      "\r",
      "Pandas Apply:  63%|██████▎   | 628/1000 [04:06<01:53,  3.28it/s]"
     ]
    },
    {
     "name": "stderr",
     "output_type": "stream",
     "text": [
      "\r",
      "Pandas Apply:  63%|██████▎   | 629/1000 [04:07<02:04,  2.98it/s]"
     ]
    },
    {
     "name": "stderr",
     "output_type": "stream",
     "text": [
      "\r",
      "Pandas Apply:  63%|██████▎   | 630/1000 [04:07<01:44,  3.53it/s]"
     ]
    },
    {
     "name": "stderr",
     "output_type": "stream",
     "text": [
      "\r",
      "Pandas Apply:  63%|██████▎   | 631/1000 [04:07<01:50,  3.34it/s]"
     ]
    },
    {
     "name": "stderr",
     "output_type": "stream",
     "text": [
      "\r",
      "Pandas Apply:  63%|██████▎   | 632/1000 [04:07<01:42,  3.58it/s]"
     ]
    },
    {
     "name": "stderr",
     "output_type": "stream",
     "text": [
      "\r",
      "Pandas Apply:  63%|██████▎   | 633/1000 [04:07<01:32,  3.96it/s]"
     ]
    },
    {
     "name": "stderr",
     "output_type": "stream",
     "text": [
      "\r",
      "Pandas Apply:  64%|██████▎   | 635/1000 [04:08<01:29,  4.07it/s]"
     ]
    },
    {
     "name": "stderr",
     "output_type": "stream",
     "text": [
      "\r",
      "Pandas Apply:  64%|██████▎   | 636/1000 [04:08<01:28,  4.11it/s]"
     ]
    },
    {
     "name": "stderr",
     "output_type": "stream",
     "text": [
      "\r",
      "Pandas Apply:  64%|██████▎   | 637/1000 [04:09<01:59,  3.05it/s]"
     ]
    },
    {
     "name": "stderr",
     "output_type": "stream",
     "text": [
      "\r",
      "Pandas Apply:  64%|██████▍   | 638/1000 [04:09<02:04,  2.91it/s]"
     ]
    },
    {
     "name": "stderr",
     "output_type": "stream",
     "text": [
      "\r",
      "Pandas Apply:  64%|██████▍   | 639/1000 [04:10<02:30,  2.39it/s]"
     ]
    },
    {
     "name": "stderr",
     "output_type": "stream",
     "text": [
      "\r",
      "Pandas Apply:  64%|██████▍   | 640/1000 [04:11<03:36,  1.67it/s]"
     ]
    },
    {
     "name": "stderr",
     "output_type": "stream",
     "text": [
      "\r",
      "Pandas Apply:  64%|██████▍   | 641/1000 [04:11<02:43,  2.19it/s]"
     ]
    },
    {
     "name": "stderr",
     "output_type": "stream",
     "text": [
      "\r",
      "Pandas Apply:  64%|██████▍   | 642/1000 [04:11<02:08,  2.79it/s]"
     ]
    },
    {
     "name": "stderr",
     "output_type": "stream",
     "text": [
      "\r",
      "Pandas Apply:  64%|██████▍   | 643/1000 [04:11<02:00,  2.97it/s]"
     ]
    },
    {
     "name": "stderr",
     "output_type": "stream",
     "text": [
      "\r",
      "Pandas Apply:  64%|██████▍   | 644/1000 [04:12<02:14,  2.65it/s]"
     ]
    },
    {
     "name": "stderr",
     "output_type": "stream",
     "text": [
      "\r",
      "Pandas Apply:  64%|██████▍   | 645/1000 [04:12<02:02,  2.89it/s]"
     ]
    },
    {
     "name": "stderr",
     "output_type": "stream",
     "text": [
      "\r",
      "Pandas Apply:  65%|██████▍   | 646/1000 [04:13<02:24,  2.45it/s]"
     ]
    },
    {
     "name": "stderr",
     "output_type": "stream",
     "text": [
      "\r",
      "Pandas Apply:  65%|██████▍   | 647/1000 [04:13<02:09,  2.72it/s]"
     ]
    },
    {
     "name": "stderr",
     "output_type": "stream",
     "text": [
      "\r",
      "Pandas Apply:  65%|██████▍   | 648/1000 [04:14<03:07,  1.88it/s]"
     ]
    },
    {
     "name": "stderr",
     "output_type": "stream",
     "text": [
      "\r",
      "Pandas Apply:  65%|██████▌   | 650/1000 [04:14<02:25,  2.40it/s]"
     ]
    },
    {
     "name": "stderr",
     "output_type": "stream",
     "text": [
      "\r",
      "Pandas Apply:  65%|██████▌   | 651/1000 [04:14<01:57,  2.97it/s]"
     ]
    },
    {
     "name": "stderr",
     "output_type": "stream",
     "text": [
      "\r",
      "Pandas Apply:  65%|██████▌   | 652/1000 [04:15<02:04,  2.80it/s]"
     ]
    },
    {
     "name": "stderr",
     "output_type": "stream",
     "text": [
      "\r",
      "Pandas Apply:  65%|██████▌   | 653/1000 [04:15<01:59,  2.90it/s]"
     ]
    },
    {
     "name": "stderr",
     "output_type": "stream",
     "text": [
      "\r",
      "Pandas Apply:  65%|██████▌   | 654/1000 [04:15<01:48,  3.18it/s]"
     ]
    },
    {
     "name": "stderr",
     "output_type": "stream",
     "text": [
      "\r",
      "Pandas Apply:  66%|██████▌   | 655/1000 [04:15<01:30,  3.81it/s]"
     ]
    },
    {
     "name": "stderr",
     "output_type": "stream",
     "text": [
      "\r",
      "Pandas Apply:  66%|██████▌   | 656/1000 [04:15<01:21,  4.24it/s]"
     ]
    },
    {
     "name": "stderr",
     "output_type": "stream",
     "text": [
      "\r",
      "Pandas Apply:  66%|██████▌   | 657/1000 [04:16<01:45,  3.26it/s]"
     ]
    },
    {
     "name": "stderr",
     "output_type": "stream",
     "text": [
      "\r",
      "Pandas Apply:  66%|██████▌   | 658/1000 [04:16<02:11,  2.60it/s]"
     ]
    },
    {
     "name": "stderr",
     "output_type": "stream",
     "text": [
      "\r",
      "Pandas Apply:  66%|██████▌   | 659/1000 [04:18<03:21,  1.69it/s]"
     ]
    },
    {
     "name": "stderr",
     "output_type": "stream",
     "text": [
      "\r",
      "Pandas Apply:  66%|██████▌   | 660/1000 [04:18<02:45,  2.06it/s]"
     ]
    },
    {
     "name": "stderr",
     "output_type": "stream",
     "text": [
      "\r",
      "Pandas Apply:  66%|██████▌   | 661/1000 [04:18<02:38,  2.14it/s]"
     ]
    },
    {
     "name": "stderr",
     "output_type": "stream",
     "text": [
      "\r",
      "Pandas Apply:  66%|██████▌   | 662/1000 [04:19<02:31,  2.23it/s]"
     ]
    },
    {
     "name": "stderr",
     "output_type": "stream",
     "text": [
      "\r",
      "Pandas Apply:  66%|██████▋   | 664/1000 [04:19<01:51,  3.01it/s]"
     ]
    },
    {
     "name": "stderr",
     "output_type": "stream",
     "text": [
      "\r",
      "Pandas Apply:  66%|██████▋   | 665/1000 [04:20<02:40,  2.09it/s]"
     ]
    },
    {
     "name": "stderr",
     "output_type": "stream",
     "text": [
      "\r",
      "Pandas Apply:  67%|██████▋   | 666/1000 [04:20<02:23,  2.33it/s]"
     ]
    },
    {
     "name": "stderr",
     "output_type": "stream",
     "text": [
      "\r",
      "Pandas Apply:  67%|██████▋   | 667/1000 [04:20<02:06,  2.64it/s]"
     ]
    },
    {
     "name": "stderr",
     "output_type": "stream",
     "text": [
      "\r",
      "Pandas Apply:  67%|██████▋   | 668/1000 [04:20<01:42,  3.25it/s]"
     ]
    },
    {
     "name": "stderr",
     "output_type": "stream",
     "text": [
      "\r",
      "Pandas Apply:  67%|██████▋   | 669/1000 [04:21<01:42,  3.23it/s]"
     ]
    },
    {
     "name": "stderr",
     "output_type": "stream",
     "text": [
      "\r",
      "Pandas Apply:  67%|██████▋   | 670/1000 [04:21<01:52,  2.93it/s]"
     ]
    },
    {
     "name": "stderr",
     "output_type": "stream",
     "text": [
      "\r",
      "Pandas Apply:  67%|██████▋   | 671/1000 [04:21<01:29,  3.66it/s]"
     ]
    },
    {
     "name": "stderr",
     "output_type": "stream",
     "text": [
      "\r",
      "Pandas Apply:  67%|██████▋   | 672/1000 [04:21<01:19,  4.13it/s]"
     ]
    },
    {
     "name": "stderr",
     "output_type": "stream",
     "text": [
      "\r",
      "Pandas Apply:  67%|██████▋   | 673/1000 [04:22<02:13,  2.45it/s]"
     ]
    },
    {
     "name": "stderr",
     "output_type": "stream",
     "text": [
      "\r",
      "Pandas Apply:  67%|██████▋   | 674/1000 [04:23<02:28,  2.20it/s]"
     ]
    },
    {
     "name": "stderr",
     "output_type": "stream",
     "text": [
      "\r",
      "Pandas Apply:  68%|██████▊   | 675/1000 [04:23<02:18,  2.35it/s]"
     ]
    },
    {
     "name": "stderr",
     "output_type": "stream",
     "text": [
      "\r",
      "Pandas Apply:  68%|██████▊   | 676/1000 [04:24<03:37,  1.49it/s]"
     ]
    },
    {
     "name": "stderr",
     "output_type": "stream",
     "text": [
      "\r",
      "Pandas Apply:  68%|██████▊   | 677/1000 [04:25<03:07,  1.72it/s]"
     ]
    },
    {
     "name": "stderr",
     "output_type": "stream",
     "text": [
      "\r",
      "Pandas Apply:  68%|██████▊   | 678/1000 [04:25<03:21,  1.60it/s]"
     ]
    },
    {
     "name": "stderr",
     "output_type": "stream",
     "text": [
      "\r",
      "Pandas Apply:  68%|██████▊   | 679/1000 [04:26<02:47,  1.91it/s]"
     ]
    },
    {
     "name": "stderr",
     "output_type": "stream",
     "text": [
      "\r",
      "Pandas Apply:  68%|██████▊   | 680/1000 [04:26<02:35,  2.06it/s]"
     ]
    },
    {
     "name": "stderr",
     "output_type": "stream",
     "text": [
      "\r",
      "Pandas Apply:  68%|██████▊   | 681/1000 [04:27<02:41,  1.97it/s]"
     ]
    },
    {
     "name": "stderr",
     "output_type": "stream",
     "text": [
      "\r",
      "Pandas Apply:  68%|██████▊   | 682/1000 [04:27<02:18,  2.29it/s]"
     ]
    },
    {
     "name": "stderr",
     "output_type": "stream",
     "text": [
      "\r",
      "Pandas Apply:  68%|██████▊   | 683/1000 [04:27<02:25,  2.18it/s]"
     ]
    },
    {
     "name": "stderr",
     "output_type": "stream",
     "text": [
      "\r",
      "Pandas Apply:  68%|██████▊   | 684/1000 [04:28<02:01,  2.61it/s]"
     ]
    },
    {
     "name": "stderr",
     "output_type": "stream",
     "text": [
      "\r",
      "Pandas Apply:  68%|██████▊   | 685/1000 [04:28<02:03,  2.54it/s]"
     ]
    },
    {
     "name": "stderr",
     "output_type": "stream",
     "text": [
      "\r",
      "Pandas Apply:  69%|██████▊   | 686/1000 [04:28<02:07,  2.46it/s]"
     ]
    },
    {
     "name": "stderr",
     "output_type": "stream",
     "text": [
      "\r",
      "Pandas Apply:  69%|██████▊   | 687/1000 [04:29<01:43,  3.03it/s]"
     ]
    },
    {
     "name": "stderr",
     "output_type": "stream",
     "text": [
      "\r",
      "Pandas Apply:  69%|██████▉   | 688/1000 [04:29<01:42,  3.04it/s]"
     ]
    },
    {
     "name": "stderr",
     "output_type": "stream",
     "text": [
      "\r",
      "Pandas Apply:  69%|██████▉   | 689/1000 [04:30<03:16,  1.58it/s]"
     ]
    },
    {
     "name": "stderr",
     "output_type": "stream",
     "text": [
      "\r",
      "Pandas Apply:  69%|██████▉   | 690/1000 [04:31<03:34,  1.45it/s]"
     ]
    },
    {
     "name": "stderr",
     "output_type": "stream",
     "text": [
      "\r",
      "Pandas Apply:  69%|██████▉   | 692/1000 [04:32<03:17,  1.56it/s]"
     ]
    },
    {
     "name": "stderr",
     "output_type": "stream",
     "text": [
      "\r",
      "Pandas Apply:  69%|██████▉   | 693/1000 [04:33<03:13,  1.58it/s]"
     ]
    },
    {
     "name": "stderr",
     "output_type": "stream",
     "text": [
      "\r",
      "Pandas Apply:  69%|██████▉   | 694/1000 [04:33<02:41,  1.90it/s]"
     ]
    },
    {
     "name": "stderr",
     "output_type": "stream",
     "text": [
      "\r",
      "Pandas Apply:  70%|██████▉   | 695/1000 [04:33<02:13,  2.28it/s]"
     ]
    },
    {
     "name": "stderr",
     "output_type": "stream",
     "text": [
      "\r",
      "Pandas Apply:  70%|██████▉   | 696/1000 [04:33<01:50,  2.76it/s]"
     ]
    },
    {
     "name": "stderr",
     "output_type": "stream",
     "text": [
      "\r",
      "Pandas Apply:  70%|██████▉   | 697/1000 [04:34<01:34,  3.20it/s]"
     ]
    },
    {
     "name": "stderr",
     "output_type": "stream",
     "text": [
      "\r",
      "Pandas Apply:  70%|██████▉   | 698/1000 [04:34<01:22,  3.68it/s]"
     ]
    },
    {
     "name": "stderr",
     "output_type": "stream",
     "text": [
      "\r",
      "Pandas Apply:  70%|███████   | 700/1000 [04:34<01:14,  4.04it/s]"
     ]
    },
    {
     "name": "stderr",
     "output_type": "stream",
     "text": [
      "\r",
      "Pandas Apply:  70%|███████   | 701/1000 [04:35<01:22,  3.60it/s]"
     ]
    },
    {
     "name": "stderr",
     "output_type": "stream",
     "text": [
      "\r",
      "Pandas Apply:  70%|███████   | 703/1000 [04:35<01:16,  3.87it/s]"
     ]
    },
    {
     "name": "stderr",
     "output_type": "stream",
     "text": [
      "\r",
      "Pandas Apply:  70%|███████   | 704/1000 [04:35<01:21,  3.62it/s]"
     ]
    },
    {
     "name": "stderr",
     "output_type": "stream",
     "text": [
      "\r",
      "Pandas Apply:  70%|███████   | 705/1000 [04:36<02:03,  2.39it/s]"
     ]
    },
    {
     "name": "stderr",
     "output_type": "stream",
     "text": [
      "\r",
      "Pandas Apply:  71%|███████   | 706/1000 [04:36<02:03,  2.39it/s]"
     ]
    },
    {
     "name": "stderr",
     "output_type": "stream",
     "text": [
      "\r",
      "Pandas Apply:  71%|███████   | 708/1000 [04:37<01:34,  3.08it/s]"
     ]
    },
    {
     "name": "stderr",
     "output_type": "stream",
     "text": [
      "\r",
      "Pandas Apply:  71%|███████   | 709/1000 [04:37<01:43,  2.81it/s]"
     ]
    },
    {
     "name": "stderr",
     "output_type": "stream",
     "text": [
      "\r",
      "Pandas Apply:  71%|███████   | 710/1000 [04:38<02:27,  1.97it/s]"
     ]
    },
    {
     "name": "stderr",
     "output_type": "stream",
     "text": [
      "\r",
      "Pandas Apply:  71%|███████   | 711/1000 [04:38<02:18,  2.09it/s]"
     ]
    },
    {
     "name": "stderr",
     "output_type": "stream",
     "text": [
      "\r",
      "Pandas Apply:  71%|███████   | 712/1000 [04:39<02:23,  2.01it/s]"
     ]
    },
    {
     "name": "stderr",
     "output_type": "stream",
     "text": [
      "\r",
      "Pandas Apply:  71%|███████▏  | 713/1000 [04:39<02:10,  2.20it/s]"
     ]
    },
    {
     "name": "stderr",
     "output_type": "stream",
     "text": [
      "\r",
      "Pandas Apply:  71%|███████▏  | 714/1000 [04:39<01:44,  2.74it/s]"
     ]
    },
    {
     "name": "stderr",
     "output_type": "stream",
     "text": [
      "\r",
      "Pandas Apply:  72%|███████▏  | 715/1000 [04:40<01:30,  3.15it/s]"
     ]
    },
    {
     "name": "stderr",
     "output_type": "stream",
     "text": [
      "\r",
      "Pandas Apply:  72%|███████▏  | 716/1000 [04:40<01:49,  2.59it/s]"
     ]
    },
    {
     "name": "stderr",
     "output_type": "stream",
     "text": [
      "\r",
      "Pandas Apply:  72%|███████▏  | 718/1000 [04:41<02:02,  2.30it/s]"
     ]
    },
    {
     "name": "stderr",
     "output_type": "stream",
     "text": [
      "\r",
      "Pandas Apply:  72%|███████▏  | 719/1000 [04:42<02:06,  2.23it/s]"
     ]
    },
    {
     "name": "stderr",
     "output_type": "stream",
     "text": [
      "\r",
      "Pandas Apply:  72%|███████▏  | 720/1000 [04:42<01:41,  2.77it/s]"
     ]
    },
    {
     "name": "stderr",
     "output_type": "stream",
     "text": [
      "\r",
      "Pandas Apply:  72%|███████▏  | 722/1000 [04:42<01:26,  3.20it/s]"
     ]
    },
    {
     "name": "stderr",
     "output_type": "stream",
     "text": [
      "\r",
      "Pandas Apply:  72%|███████▏  | 723/1000 [04:43<01:35,  2.90it/s]"
     ]
    },
    {
     "name": "stderr",
     "output_type": "stream",
     "text": [
      "\r",
      "Pandas Apply:  72%|███████▏  | 724/1000 [04:43<01:33,  2.96it/s]"
     ]
    },
    {
     "name": "stderr",
     "output_type": "stream",
     "text": [
      "\r",
      "Pandas Apply:  72%|███████▎  | 725/1000 [04:43<01:26,  3.18it/s]"
     ]
    },
    {
     "name": "stderr",
     "output_type": "stream",
     "text": [
      "\r",
      "Pandas Apply:  73%|███████▎  | 727/1000 [04:44<01:25,  3.20it/s]"
     ]
    },
    {
     "name": "stderr",
     "output_type": "stream",
     "text": [
      "\r",
      "Pandas Apply:  73%|███████▎  | 729/1000 [04:44<01:21,  3.34it/s]"
     ]
    },
    {
     "name": "stderr",
     "output_type": "stream",
     "text": [
      "\r",
      "Pandas Apply:  73%|███████▎  | 730/1000 [04:45<01:37,  2.76it/s]"
     ]
    },
    {
     "name": "stderr",
     "output_type": "stream",
     "text": [
      "\r",
      "Pandas Apply:  73%|███████▎  | 731/1000 [04:45<01:38,  2.73it/s]"
     ]
    },
    {
     "name": "stderr",
     "output_type": "stream",
     "text": [
      "\r",
      "Pandas Apply:  73%|███████▎  | 733/1000 [04:46<01:27,  3.05it/s]"
     ]
    },
    {
     "name": "stderr",
     "output_type": "stream",
     "text": [
      "\r",
      "Pandas Apply:  73%|███████▎  | 734/1000 [04:47<02:17,  1.93it/s]"
     ]
    },
    {
     "name": "stderr",
     "output_type": "stream",
     "text": [
      "\r",
      "Pandas Apply:  74%|███████▎  | 735/1000 [04:47<01:49,  2.43it/s]"
     ]
    },
    {
     "name": "stderr",
     "output_type": "stream",
     "text": [
      "\r",
      "Pandas Apply:  74%|███████▎  | 736/1000 [04:47<01:24,  3.13it/s]"
     ]
    },
    {
     "name": "stderr",
     "output_type": "stream",
     "text": [
      "\r",
      "Pandas Apply:  74%|███████▎  | 737/1000 [04:47<01:12,  3.62it/s]"
     ]
    },
    {
     "name": "stderr",
     "output_type": "stream",
     "text": [
      "\r",
      "Pandas Apply:  74%|███████▍  | 739/1000 [04:47<01:01,  4.23it/s]"
     ]
    },
    {
     "name": "stderr",
     "output_type": "stream",
     "text": [
      "\r",
      "Pandas Apply:  74%|███████▍  | 740/1000 [04:49<02:40,  1.62it/s]"
     ]
    },
    {
     "name": "stderr",
     "output_type": "stream",
     "text": [
      "\r",
      "Pandas Apply:  74%|███████▍  | 742/1000 [04:50<02:30,  1.72it/s]"
     ]
    },
    {
     "name": "stderr",
     "output_type": "stream",
     "text": [
      "\r",
      "Pandas Apply:  74%|███████▍  | 743/1000 [04:50<02:04,  2.06it/s]"
     ]
    },
    {
     "name": "stderr",
     "output_type": "stream",
     "text": [
      "\r",
      "Pandas Apply:  74%|███████▍  | 744/1000 [04:51<02:33,  1.67it/s]"
     ]
    },
    {
     "name": "stderr",
     "output_type": "stream",
     "text": [
      "\r",
      "Pandas Apply:  74%|███████▍  | 745/1000 [04:52<02:28,  1.72it/s]"
     ]
    },
    {
     "name": "stderr",
     "output_type": "stream",
     "text": [
      "\r",
      "Pandas Apply:  75%|███████▍  | 746/1000 [04:52<02:33,  1.65it/s]"
     ]
    },
    {
     "name": "stderr",
     "output_type": "stream",
     "text": [
      "\r",
      "Pandas Apply:  75%|███████▍  | 748/1000 [04:53<01:59,  2.11it/s]"
     ]
    },
    {
     "name": "stderr",
     "output_type": "stream",
     "text": [
      "\r",
      "Pandas Apply:  75%|███████▍  | 749/1000 [04:53<01:40,  2.49it/s]"
     ]
    },
    {
     "name": "stderr",
     "output_type": "stream",
     "text": [
      "\r",
      "Pandas Apply:  75%|███████▌  | 750/1000 [04:54<02:35,  1.60it/s]"
     ]
    },
    {
     "name": "stderr",
     "output_type": "stream",
     "text": [
      "\r",
      "Pandas Apply:  75%|███████▌  | 751/1000 [04:55<03:21,  1.24it/s]"
     ]
    },
    {
     "name": "stderr",
     "output_type": "stream",
     "text": [
      "\r",
      "Pandas Apply:  75%|███████▌  | 752/1000 [04:56<02:48,  1.47it/s]"
     ]
    },
    {
     "name": "stderr",
     "output_type": "stream",
     "text": [
      "\r",
      "Pandas Apply:  75%|███████▌  | 753/1000 [04:56<02:14,  1.84it/s]"
     ]
    },
    {
     "name": "stderr",
     "output_type": "stream",
     "text": [
      "\r",
      "Pandas Apply:  75%|███████▌  | 754/1000 [04:56<01:45,  2.34it/s]"
     ]
    },
    {
     "name": "stderr",
     "output_type": "stream",
     "text": [
      "\r",
      "Pandas Apply:  76%|███████▌  | 755/1000 [04:56<01:26,  2.83it/s]"
     ]
    },
    {
     "name": "stderr",
     "output_type": "stream",
     "text": [
      "\r",
      "Pandas Apply:  76%|███████▌  | 756/1000 [04:56<01:11,  3.42it/s]"
     ]
    },
    {
     "name": "stderr",
     "output_type": "stream",
     "text": [
      "\r",
      "Pandas Apply:  76%|███████▌  | 757/1000 [04:57<01:15,  3.24it/s]"
     ]
    },
    {
     "name": "stderr",
     "output_type": "stream",
     "text": [
      "\r",
      "Pandas Apply:  76%|███████▌  | 758/1000 [04:57<01:21,  2.98it/s]"
     ]
    },
    {
     "name": "stderr",
     "output_type": "stream",
     "text": [
      "\r",
      "Pandas Apply:  76%|███████▌  | 759/1000 [04:57<01:08,  3.53it/s]"
     ]
    },
    {
     "name": "stderr",
     "output_type": "stream",
     "text": [
      "\r",
      "Pandas Apply:  76%|███████▌  | 760/1000 [04:57<00:57,  4.15it/s]"
     ]
    },
    {
     "name": "stderr",
     "output_type": "stream",
     "text": [
      "\r",
      "Pandas Apply:  76%|███████▌  | 761/1000 [04:58<00:53,  4.43it/s]"
     ]
    },
    {
     "name": "stderr",
     "output_type": "stream",
     "text": [
      "\r",
      "Pandas Apply:  76%|███████▌  | 762/1000 [04:58<00:50,  4.67it/s]"
     ]
    },
    {
     "name": "stderr",
     "output_type": "stream",
     "text": [
      "\r",
      "Pandas Apply:  76%|███████▋  | 763/1000 [04:59<02:08,  1.84it/s]"
     ]
    },
    {
     "name": "stderr",
     "output_type": "stream",
     "text": [
      "\r",
      "Pandas Apply:  76%|███████▋  | 764/1000 [05:00<02:35,  1.52it/s]"
     ]
    },
    {
     "name": "stderr",
     "output_type": "stream",
     "text": [
      "\r",
      "Pandas Apply:  76%|███████▋  | 765/1000 [05:00<02:08,  1.83it/s]"
     ]
    },
    {
     "name": "stderr",
     "output_type": "stream",
     "text": [
      "\r",
      "Pandas Apply:  77%|███████▋  | 766/1000 [05:01<02:02,  1.91it/s]"
     ]
    },
    {
     "name": "stderr",
     "output_type": "stream",
     "text": [
      "\r",
      "Pandas Apply:  77%|███████▋  | 767/1000 [05:01<01:43,  2.25it/s]"
     ]
    },
    {
     "name": "stderr",
     "output_type": "stream",
     "text": [
      "\r",
      "Pandas Apply:  77%|███████▋  | 768/1000 [05:01<01:24,  2.74it/s]"
     ]
    },
    {
     "name": "stderr",
     "output_type": "stream",
     "text": [
      "\r",
      "Pandas Apply:  77%|███████▋  | 769/1000 [05:02<01:19,  2.90it/s]"
     ]
    },
    {
     "name": "stderr",
     "output_type": "stream",
     "text": [
      "\r",
      "Pandas Apply:  77%|███████▋  | 770/1000 [05:02<01:09,  3.29it/s]"
     ]
    },
    {
     "name": "stderr",
     "output_type": "stream",
     "text": [
      "\r",
      "Pandas Apply:  77%|███████▋  | 771/1000 [05:02<01:02,  3.67it/s]"
     ]
    },
    {
     "name": "stderr",
     "output_type": "stream",
     "text": [
      "\r",
      "Pandas Apply:  77%|███████▋  | 772/1000 [05:02<01:08,  3.34it/s]"
     ]
    },
    {
     "name": "stderr",
     "output_type": "stream",
     "text": [
      "\r",
      "Pandas Apply:  77%|███████▋  | 773/1000 [05:03<01:16,  2.98it/s]"
     ]
    },
    {
     "name": "stderr",
     "output_type": "stream",
     "text": [
      "\r",
      "Pandas Apply:  77%|███████▋  | 774/1000 [05:03<01:22,  2.75it/s]"
     ]
    },
    {
     "name": "stderr",
     "output_type": "stream",
     "text": [
      "\r",
      "Pandas Apply:  78%|███████▊  | 777/1000 [05:04<01:13,  3.02it/s]"
     ]
    },
    {
     "name": "stderr",
     "output_type": "stream",
     "text": [
      "\r",
      "Pandas Apply:  78%|███████▊  | 779/1000 [05:04<01:00,  3.65it/s]"
     ]
    },
    {
     "name": "stderr",
     "output_type": "stream",
     "text": [
      "\r",
      "Pandas Apply:  78%|███████▊  | 780/1000 [05:05<01:14,  2.95it/s]"
     ]
    },
    {
     "name": "stderr",
     "output_type": "stream",
     "text": [
      "\r",
      "Pandas Apply:  78%|███████▊  | 781/1000 [05:05<01:08,  3.17it/s]"
     ]
    },
    {
     "name": "stderr",
     "output_type": "stream",
     "text": [
      "\r",
      "Pandas Apply:  78%|███████▊  | 782/1000 [05:05<01:17,  2.82it/s]"
     ]
    },
    {
     "name": "stderr",
     "output_type": "stream",
     "text": [
      "\r",
      "Pandas Apply:  78%|███████▊  | 783/1000 [05:06<01:39,  2.18it/s]"
     ]
    },
    {
     "name": "stderr",
     "output_type": "stream",
     "text": [
      "\r",
      "Pandas Apply:  78%|███████▊  | 784/1000 [05:06<01:21,  2.64it/s]"
     ]
    },
    {
     "name": "stderr",
     "output_type": "stream",
     "text": [
      "\r",
      "Pandas Apply:  78%|███████▊  | 785/1000 [05:07<01:22,  2.62it/s]"
     ]
    },
    {
     "name": "stderr",
     "output_type": "stream",
     "text": [
      "\r",
      "Pandas Apply:  79%|███████▊  | 786/1000 [05:07<01:05,  3.24it/s]"
     ]
    },
    {
     "name": "stderr",
     "output_type": "stream",
     "text": [
      "\r",
      "Pandas Apply:  79%|███████▊  | 787/1000 [05:07<01:00,  3.51it/s]"
     ]
    },
    {
     "name": "stderr",
     "output_type": "stream",
     "text": [
      "\r",
      "Pandas Apply:  79%|███████▉  | 788/1000 [05:08<01:22,  2.56it/s]"
     ]
    },
    {
     "name": "stderr",
     "output_type": "stream",
     "text": [
      "\r",
      "Pandas Apply:  79%|███████▉  | 789/1000 [05:08<01:16,  2.76it/s]"
     ]
    },
    {
     "name": "stderr",
     "output_type": "stream",
     "text": [
      "\r",
      "Pandas Apply:  79%|███████▉  | 790/1000 [05:08<01:22,  2.54it/s]"
     ]
    },
    {
     "name": "stderr",
     "output_type": "stream",
     "text": [
      "\r",
      "Pandas Apply:  79%|███████▉  | 792/1000 [05:09<01:02,  3.32it/s]"
     ]
    },
    {
     "name": "stderr",
     "output_type": "stream",
     "text": [
      "\r",
      "Pandas Apply:  79%|███████▉  | 794/1000 [05:09<01:00,  3.39it/s]"
     ]
    },
    {
     "name": "stderr",
     "output_type": "stream",
     "text": [
      "\r",
      "Pandas Apply:  80%|███████▉  | 795/1000 [05:10<01:07,  3.03it/s]"
     ]
    },
    {
     "name": "stderr",
     "output_type": "stream",
     "text": [
      "\r",
      "Pandas Apply:  80%|███████▉  | 796/1000 [05:10<00:59,  3.43it/s]"
     ]
    },
    {
     "name": "stderr",
     "output_type": "stream",
     "text": [
      "\r",
      "Pandas Apply:  80%|███████▉  | 797/1000 [05:10<00:48,  4.20it/s]"
     ]
    },
    {
     "name": "stderr",
     "output_type": "stream",
     "text": [
      "\r",
      "Pandas Apply:  80%|███████▉  | 798/1000 [05:10<00:44,  4.52it/s]"
     ]
    },
    {
     "name": "stderr",
     "output_type": "stream",
     "text": [
      "\r",
      "Pandas Apply:  80%|███████▉  | 799/1000 [05:10<00:51,  3.89it/s]"
     ]
    },
    {
     "name": "stderr",
     "output_type": "stream",
     "text": [
      "\r",
      "Pandas Apply:  80%|████████  | 800/1000 [05:11<00:49,  4.03it/s]"
     ]
    },
    {
     "name": "stderr",
     "output_type": "stream",
     "text": [
      "\r",
      "Pandas Apply:  80%|████████  | 801/1000 [05:12<01:37,  2.05it/s]"
     ]
    },
    {
     "name": "stderr",
     "output_type": "stream",
     "text": [
      "\r",
      "Pandas Apply:  80%|████████  | 803/1000 [05:12<01:10,  2.80it/s]"
     ]
    },
    {
     "name": "stderr",
     "output_type": "stream",
     "text": [
      "\r",
      "Pandas Apply:  80%|████████  | 804/1000 [05:12<01:03,  3.06it/s]"
     ]
    },
    {
     "name": "stderr",
     "output_type": "stream",
     "text": [
      "\r",
      "Pandas Apply:  80%|████████  | 805/1000 [05:12<01:07,  2.90it/s]"
     ]
    },
    {
     "name": "stderr",
     "output_type": "stream",
     "text": [
      "\r",
      "Pandas Apply:  81%|████████  | 806/1000 [05:13<01:04,  3.01it/s]"
     ]
    },
    {
     "name": "stderr",
     "output_type": "stream",
     "text": [
      "\r",
      "Pandas Apply:  81%|████████  | 808/1000 [05:13<00:57,  3.35it/s]"
     ]
    },
    {
     "name": "stderr",
     "output_type": "stream",
     "text": [
      "\r",
      "Pandas Apply:  81%|████████  | 809/1000 [05:13<00:47,  3.99it/s]"
     ]
    },
    {
     "name": "stderr",
     "output_type": "stream",
     "text": [
      "\r",
      "Pandas Apply:  81%|████████  | 810/1000 [05:14<01:00,  3.16it/s]"
     ]
    },
    {
     "name": "stderr",
     "output_type": "stream",
     "text": [
      "\r",
      "Pandas Apply:  81%|████████  | 811/1000 [05:14<01:00,  3.14it/s]"
     ]
    },
    {
     "name": "stderr",
     "output_type": "stream",
     "text": [
      "\r",
      "Pandas Apply:  81%|████████  | 812/1000 [05:14<01:02,  3.02it/s]"
     ]
    },
    {
     "name": "stderr",
     "output_type": "stream",
     "text": [
      "\r",
      "Pandas Apply:  81%|████████▏ | 813/1000 [05:15<00:58,  3.17it/s]"
     ]
    },
    {
     "name": "stderr",
     "output_type": "stream",
     "text": [
      "\r",
      "Pandas Apply:  81%|████████▏ | 814/1000 [05:15<00:59,  3.11it/s]"
     ]
    },
    {
     "name": "stderr",
     "output_type": "stream",
     "text": [
      "\r",
      "Pandas Apply:  82%|████████▏ | 815/1000 [05:15<00:55,  3.35it/s]"
     ]
    },
    {
     "name": "stderr",
     "output_type": "stream",
     "text": [
      "\r",
      "Pandas Apply:  82%|████████▏ | 816/1000 [05:16<01:19,  2.31it/s]"
     ]
    },
    {
     "name": "stderr",
     "output_type": "stream",
     "text": [
      "\r",
      "Pandas Apply:  82%|████████▏ | 817/1000 [05:16<01:14,  2.46it/s]"
     ]
    },
    {
     "name": "stderr",
     "output_type": "stream",
     "text": [
      "\r",
      "Pandas Apply:  82%|████████▏ | 818/1000 [05:17<00:58,  3.12it/s]"
     ]
    },
    {
     "name": "stderr",
     "output_type": "stream",
     "text": [
      "\r",
      "Pandas Apply:  82%|████████▏ | 819/1000 [05:17<01:14,  2.44it/s]"
     ]
    },
    {
     "name": "stderr",
     "output_type": "stream",
     "text": [
      "\r",
      "Pandas Apply:  82%|████████▏ | 820/1000 [05:17<01:05,  2.73it/s]"
     ]
    },
    {
     "name": "stderr",
     "output_type": "stream",
     "text": [
      "\r",
      "Pandas Apply:  82%|████████▏ | 822/1000 [05:18<00:59,  2.97it/s]"
     ]
    },
    {
     "name": "stderr",
     "output_type": "stream",
     "text": [
      "\r",
      "Pandas Apply:  82%|████████▏ | 824/1000 [05:19<00:58,  3.02it/s]"
     ]
    },
    {
     "name": "stderr",
     "output_type": "stream",
     "text": [
      "\r",
      "Pandas Apply:  82%|████████▎ | 825/1000 [05:19<01:01,  2.85it/s]"
     ]
    },
    {
     "name": "stderr",
     "output_type": "stream",
     "text": [
      "\r",
      "Pandas Apply:  83%|████████▎ | 826/1000 [05:20<01:13,  2.38it/s]"
     ]
    },
    {
     "name": "stderr",
     "output_type": "stream",
     "text": [
      "\r",
      "Pandas Apply:  83%|████████▎ | 827/1000 [05:20<00:58,  2.97it/s]"
     ]
    },
    {
     "name": "stderr",
     "output_type": "stream",
     "text": [
      "\r",
      "Pandas Apply:  83%|████████▎ | 828/1000 [05:20<00:54,  3.14it/s]"
     ]
    },
    {
     "name": "stderr",
     "output_type": "stream",
     "text": [
      "\r",
      "Pandas Apply:  83%|████████▎ | 829/1000 [05:20<00:46,  3.67it/s]"
     ]
    },
    {
     "name": "stderr",
     "output_type": "stream",
     "text": [
      "\r",
      "Pandas Apply:  83%|████████▎ | 830/1000 [05:20<00:40,  4.15it/s]"
     ]
    },
    {
     "name": "stderr",
     "output_type": "stream",
     "text": [
      "\r",
      "Pandas Apply:  83%|████████▎ | 831/1000 [05:21<00:40,  4.22it/s]"
     ]
    },
    {
     "name": "stderr",
     "output_type": "stream",
     "text": [
      "\r",
      "Pandas Apply:  83%|████████▎ | 832/1000 [05:21<00:37,  4.43it/s]"
     ]
    },
    {
     "name": "stderr",
     "output_type": "stream",
     "text": [
      "\r",
      "Pandas Apply:  83%|████████▎ | 833/1000 [05:21<00:44,  3.76it/s]"
     ]
    },
    {
     "name": "stderr",
     "output_type": "stream",
     "text": [
      "\r",
      "Pandas Apply:  83%|████████▎ | 834/1000 [05:21<00:47,  3.46it/s]"
     ]
    },
    {
     "name": "stderr",
     "output_type": "stream",
     "text": [
      "\r",
      "Pandas Apply:  84%|████████▎ | 835/1000 [05:22<00:54,  3.02it/s]"
     ]
    },
    {
     "name": "stderr",
     "output_type": "stream",
     "text": [
      "\r",
      "Pandas Apply:  84%|████████▎ | 836/1000 [05:22<00:49,  3.33it/s]"
     ]
    },
    {
     "name": "stderr",
     "output_type": "stream",
     "text": [
      "\r",
      "Pandas Apply:  84%|████████▍ | 838/1000 [05:23<00:48,  3.31it/s]"
     ]
    },
    {
     "name": "stderr",
     "output_type": "stream",
     "text": [
      "\r",
      "Pandas Apply:  84%|████████▍ | 839/1000 [05:23<00:42,  3.77it/s]"
     ]
    },
    {
     "name": "stderr",
     "output_type": "stream",
     "text": [
      "\r",
      "Pandas Apply:  84%|████████▍ | 840/1000 [05:24<01:10,  2.29it/s]"
     ]
    },
    {
     "name": "stderr",
     "output_type": "stream",
     "text": [
      "\r",
      "Pandas Apply:  84%|████████▍ | 842/1000 [05:24<01:03,  2.47it/s]"
     ]
    },
    {
     "name": "stderr",
     "output_type": "stream",
     "text": [
      "\r",
      "Pandas Apply:  84%|████████▍ | 843/1000 [05:25<00:55,  2.81it/s]"
     ]
    },
    {
     "name": "stderr",
     "output_type": "stream",
     "text": [
      "\r",
      "Pandas Apply:  84%|████████▍ | 845/1000 [05:25<00:45,  3.42it/s]"
     ]
    },
    {
     "name": "stderr",
     "output_type": "stream",
     "text": [
      "\r",
      "Pandas Apply:  85%|████████▍ | 846/1000 [05:26<01:16,  2.00it/s]"
     ]
    },
    {
     "name": "stderr",
     "output_type": "stream",
     "text": [
      "\r",
      "Pandas Apply:  85%|████████▍ | 847/1000 [05:26<01:03,  2.41it/s]"
     ]
    },
    {
     "name": "stderr",
     "output_type": "stream",
     "text": [
      "\r",
      "Pandas Apply:  85%|████████▍ | 848/1000 [05:27<01:06,  2.29it/s]"
     ]
    },
    {
     "name": "stderr",
     "output_type": "stream",
     "text": [
      "\r",
      "Pandas Apply:  85%|████████▌ | 850/1000 [05:27<00:59,  2.51it/s]"
     ]
    },
    {
     "name": "stderr",
     "output_type": "stream",
     "text": [
      "\r",
      "Pandas Apply:  85%|████████▌ | 851/1000 [05:28<00:58,  2.55it/s]"
     ]
    },
    {
     "name": "stderr",
     "output_type": "stream",
     "text": [
      "\r",
      "Pandas Apply:  85%|████████▌ | 852/1000 [05:29<01:21,  1.81it/s]"
     ]
    },
    {
     "name": "stderr",
     "output_type": "stream",
     "text": [
      "\r",
      "Pandas Apply:  85%|████████▌ | 853/1000 [05:29<01:12,  2.04it/s]"
     ]
    },
    {
     "name": "stderr",
     "output_type": "stream",
     "text": [
      "\r",
      "Pandas Apply:  85%|████████▌ | 854/1000 [05:29<01:00,  2.43it/s]"
     ]
    },
    {
     "name": "stderr",
     "output_type": "stream",
     "text": [
      "\r",
      "Pandas Apply:  86%|████████▌ | 855/1000 [05:29<00:49,  2.93it/s]"
     ]
    },
    {
     "name": "stderr",
     "output_type": "stream",
     "text": [
      "\r",
      "Pandas Apply:  86%|████████▌ | 856/1000 [05:30<01:14,  1.94it/s]"
     ]
    },
    {
     "name": "stderr",
     "output_type": "stream",
     "text": [
      "\r",
      "Pandas Apply:  86%|████████▌ | 857/1000 [05:31<01:40,  1.42it/s]"
     ]
    },
    {
     "name": "stderr",
     "output_type": "stream",
     "text": [
      "\r",
      "Pandas Apply:  86%|████████▌ | 858/1000 [05:32<01:15,  1.87it/s]"
     ]
    },
    {
     "name": "stderr",
     "output_type": "stream",
     "text": [
      "\r",
      "Pandas Apply:  86%|████████▌ | 859/1000 [05:32<00:57,  2.44it/s]"
     ]
    },
    {
     "name": "stderr",
     "output_type": "stream",
     "text": [
      "\r",
      "Pandas Apply:  86%|████████▌ | 860/1000 [05:32<00:47,  2.92it/s]"
     ]
    },
    {
     "name": "stderr",
     "output_type": "stream",
     "text": [
      "\r",
      "Pandas Apply:  86%|████████▌ | 861/1000 [05:32<00:39,  3.56it/s]"
     ]
    },
    {
     "name": "stderr",
     "output_type": "stream",
     "text": [
      "\r",
      "Pandas Apply:  86%|████████▋ | 863/1000 [05:32<00:30,  4.45it/s]"
     ]
    },
    {
     "name": "stderr",
     "output_type": "stream",
     "text": [
      "\r",
      "Pandas Apply:  86%|████████▋ | 864/1000 [05:33<00:52,  2.60it/s]"
     ]
    },
    {
     "name": "stderr",
     "output_type": "stream",
     "text": [
      "\r",
      "Pandas Apply:  86%|████████▋ | 865/1000 [05:33<00:45,  2.94it/s]"
     ]
    },
    {
     "name": "stderr",
     "output_type": "stream",
     "text": [
      "\r",
      "Pandas Apply:  87%|████████▋ | 866/1000 [05:34<00:53,  2.52it/s]"
     ]
    },
    {
     "name": "stderr",
     "output_type": "stream",
     "text": [
      "\r",
      "Pandas Apply:  87%|████████▋ | 867/1000 [05:34<00:42,  3.13it/s]"
     ]
    },
    {
     "name": "stderr",
     "output_type": "stream",
     "text": [
      "\r",
      "Pandas Apply:  87%|████████▋ | 868/1000 [05:34<00:39,  3.33it/s]"
     ]
    },
    {
     "name": "stderr",
     "output_type": "stream",
     "text": [
      "\r",
      "Pandas Apply:  87%|████████▋ | 870/1000 [05:35<00:48,  2.69it/s]"
     ]
    },
    {
     "name": "stderr",
     "output_type": "stream",
     "text": [
      "\r",
      "Pandas Apply:  87%|████████▋ | 871/1000 [05:35<00:44,  2.87it/s]"
     ]
    },
    {
     "name": "stderr",
     "output_type": "stream",
     "text": [
      "\r",
      "Pandas Apply:  87%|████████▋ | 872/1000 [05:36<00:40,  3.19it/s]"
     ]
    },
    {
     "name": "stderr",
     "output_type": "stream",
     "text": [
      "\r",
      "Pandas Apply:  87%|████████▋ | 873/1000 [05:36<00:38,  3.28it/s]"
     ]
    },
    {
     "name": "stderr",
     "output_type": "stream",
     "text": [
      "\r",
      "Pandas Apply:  87%|████████▋ | 874/1000 [05:36<00:38,  3.28it/s]"
     ]
    },
    {
     "name": "stderr",
     "output_type": "stream",
     "text": [
      "\r",
      "Pandas Apply:  88%|████████▊ | 875/1000 [05:37<00:37,  3.29it/s]"
     ]
    },
    {
     "name": "stderr",
     "output_type": "stream",
     "text": [
      "\r",
      "Pandas Apply:  88%|████████▊ | 876/1000 [05:37<00:40,  3.05it/s]"
     ]
    },
    {
     "name": "stderr",
     "output_type": "stream",
     "text": [
      "\r",
      "Pandas Apply:  88%|████████▊ | 877/1000 [05:37<00:36,  3.34it/s]"
     ]
    },
    {
     "name": "stderr",
     "output_type": "stream",
     "text": [
      "\r",
      "Pandas Apply:  88%|████████▊ | 878/1000 [05:37<00:32,  3.71it/s]"
     ]
    },
    {
     "name": "stderr",
     "output_type": "stream",
     "text": [
      "\r",
      "Pandas Apply:  88%|████████▊ | 880/1000 [05:38<00:31,  3.83it/s]"
     ]
    },
    {
     "name": "stderr",
     "output_type": "stream",
     "text": [
      "\r",
      "Pandas Apply:  88%|████████▊ | 881/1000 [05:38<00:29,  4.06it/s]"
     ]
    },
    {
     "name": "stderr",
     "output_type": "stream",
     "text": [
      "\r",
      "Pandas Apply:  88%|████████▊ | 882/1000 [05:39<00:48,  2.42it/s]"
     ]
    },
    {
     "name": "stderr",
     "output_type": "stream",
     "text": [
      "\r",
      "Pandas Apply:  88%|████████▊ | 884/1000 [05:39<00:36,  3.14it/s]"
     ]
    },
    {
     "name": "stderr",
     "output_type": "stream",
     "text": [
      "\r",
      "Pandas Apply:  88%|████████▊ | 885/1000 [05:39<00:32,  3.58it/s]"
     ]
    },
    {
     "name": "stderr",
     "output_type": "stream",
     "text": [
      "\r",
      "Pandas Apply:  89%|████████▊ | 886/1000 [05:39<00:29,  3.83it/s]"
     ]
    },
    {
     "name": "stderr",
     "output_type": "stream",
     "text": [
      "\r",
      "Pandas Apply:  89%|████████▊ | 887/1000 [05:40<00:36,  3.08it/s]"
     ]
    },
    {
     "name": "stderr",
     "output_type": "stream",
     "text": [
      "\r",
      "Pandas Apply:  89%|████████▉ | 888/1000 [05:40<00:36,  3.03it/s]"
     ]
    },
    {
     "name": "stderr",
     "output_type": "stream",
     "text": [
      "\r",
      "Pandas Apply:  89%|████████▉ | 889/1000 [05:41<00:38,  2.91it/s]"
     ]
    },
    {
     "name": "stderr",
     "output_type": "stream",
     "text": [
      "\r",
      "Pandas Apply:  89%|████████▉ | 890/1000 [05:41<00:53,  2.07it/s]"
     ]
    },
    {
     "name": "stderr",
     "output_type": "stream",
     "text": [
      "\r",
      "Pandas Apply:  89%|████████▉ | 892/1000 [05:42<00:45,  2.36it/s]"
     ]
    },
    {
     "name": "stderr",
     "output_type": "stream",
     "text": [
      "\r",
      "Pandas Apply:  89%|████████▉ | 893/1000 [05:43<01:10,  1.52it/s]"
     ]
    },
    {
     "name": "stderr",
     "output_type": "stream",
     "text": [
      "\r",
      "Pandas Apply:  89%|████████▉ | 894/1000 [05:43<00:52,  2.02it/s]"
     ]
    },
    {
     "name": "stderr",
     "output_type": "stream",
     "text": [
      "\r",
      "Pandas Apply:  90%|████████▉ | 895/1000 [05:44<00:48,  2.15it/s]"
     ]
    },
    {
     "name": "stderr",
     "output_type": "stream",
     "text": [
      "\r",
      "Pandas Apply:  90%|████████▉ | 896/1000 [05:44<00:53,  1.95it/s]"
     ]
    },
    {
     "name": "stderr",
     "output_type": "stream",
     "text": [
      "\r",
      "Pandas Apply:  90%|████████▉ | 897/1000 [05:45<00:43,  2.38it/s]"
     ]
    },
    {
     "name": "stderr",
     "output_type": "stream",
     "text": [
      "\r",
      "Pandas Apply:  90%|████████▉ | 899/1000 [05:45<00:36,  2.79it/s]"
     ]
    },
    {
     "name": "stderr",
     "output_type": "stream",
     "text": [
      "\r",
      "Pandas Apply:  90%|█████████ | 900/1000 [05:45<00:28,  3.54it/s]"
     ]
    },
    {
     "name": "stderr",
     "output_type": "stream",
     "text": [
      "\r",
      "Pandas Apply:  90%|█████████ | 901/1000 [05:45<00:27,  3.64it/s]"
     ]
    },
    {
     "name": "stderr",
     "output_type": "stream",
     "text": [
      "\r",
      "Pandas Apply:  90%|█████████ | 902/1000 [05:46<00:23,  4.25it/s]"
     ]
    },
    {
     "name": "stderr",
     "output_type": "stream",
     "text": [
      "\r",
      "Pandas Apply:  90%|█████████ | 903/1000 [05:46<00:19,  4.98it/s]"
     ]
    },
    {
     "name": "stderr",
     "output_type": "stream",
     "text": [
      "\r",
      "Pandas Apply:  90%|█████████ | 905/1000 [05:46<00:15,  6.14it/s]"
     ]
    },
    {
     "name": "stderr",
     "output_type": "stream",
     "text": [
      "\r",
      "Pandas Apply:  91%|█████████ | 906/1000 [05:46<00:18,  4.96it/s]"
     ]
    },
    {
     "name": "stderr",
     "output_type": "stream",
     "text": [
      "\r",
      "Pandas Apply:  91%|█████████ | 907/1000 [05:46<00:22,  4.07it/s]"
     ]
    },
    {
     "name": "stderr",
     "output_type": "stream",
     "text": [
      "\r",
      "Pandas Apply:  91%|█████████ | 908/1000 [05:47<00:38,  2.36it/s]"
     ]
    },
    {
     "name": "stderr",
     "output_type": "stream",
     "text": [
      "\r",
      "Pandas Apply:  91%|█████████ | 909/1000 [05:48<00:35,  2.56it/s]"
     ]
    },
    {
     "name": "stderr",
     "output_type": "stream",
     "text": [
      "\r",
      "Pandas Apply:  91%|█████████ | 910/1000 [05:48<00:30,  2.93it/s]"
     ]
    },
    {
     "name": "stderr",
     "output_type": "stream",
     "text": [
      "\r",
      "Pandas Apply:  91%|█████████ | 911/1000 [05:48<00:25,  3.47it/s]"
     ]
    },
    {
     "name": "stderr",
     "output_type": "stream",
     "text": [
      "\r",
      "Pandas Apply:  91%|█████████ | 912/1000 [05:48<00:21,  4.11it/s]"
     ]
    },
    {
     "name": "stderr",
     "output_type": "stream",
     "text": [
      "\r",
      "Pandas Apply:  91%|█████████▏| 913/1000 [05:48<00:17,  4.99it/s]"
     ]
    },
    {
     "name": "stderr",
     "output_type": "stream",
     "text": [
      "\r",
      "Pandas Apply:  91%|█████████▏| 914/1000 [05:49<00:19,  4.30it/s]"
     ]
    },
    {
     "name": "stderr",
     "output_type": "stream",
     "text": [
      "\r",
      "Pandas Apply:  92%|█████████▏| 915/1000 [05:49<00:30,  2.76it/s]"
     ]
    },
    {
     "name": "stderr",
     "output_type": "stream",
     "text": [
      "\r",
      "Pandas Apply:  92%|█████████▏| 916/1000 [05:50<00:47,  1.78it/s]"
     ]
    },
    {
     "name": "stderr",
     "output_type": "stream",
     "text": [
      "\r",
      "Pandas Apply:  92%|█████████▏| 918/1000 [05:51<00:36,  2.22it/s]"
     ]
    },
    {
     "name": "stderr",
     "output_type": "stream",
     "text": [
      "\r",
      "Pandas Apply:  92%|█████████▏| 919/1000 [05:51<00:37,  2.18it/s]"
     ]
    },
    {
     "name": "stderr",
     "output_type": "stream",
     "text": [
      "\r",
      "Pandas Apply:  92%|█████████▏| 920/1000 [05:52<00:48,  1.65it/s]"
     ]
    },
    {
     "name": "stderr",
     "output_type": "stream",
     "text": [
      "\r",
      "Pandas Apply:  92%|█████████▏| 921/1000 [05:52<00:35,  2.20it/s]"
     ]
    },
    {
     "name": "stderr",
     "output_type": "stream",
     "text": [
      "\r",
      "Pandas Apply:  92%|█████████▏| 922/1000 [05:52<00:32,  2.43it/s]"
     ]
    },
    {
     "name": "stderr",
     "output_type": "stream",
     "text": [
      "\r",
      "Pandas Apply:  92%|█████████▏| 923/1000 [05:53<00:29,  2.59it/s]"
     ]
    },
    {
     "name": "stderr",
     "output_type": "stream",
     "text": [
      "\r",
      "Pandas Apply:  92%|█████████▏| 924/1000 [05:53<00:30,  2.47it/s]"
     ]
    },
    {
     "name": "stderr",
     "output_type": "stream",
     "text": [
      "\r",
      "Pandas Apply:  93%|█████████▎| 926/1000 [05:54<00:26,  2.78it/s]"
     ]
    },
    {
     "name": "stderr",
     "output_type": "stream",
     "text": [
      "\r",
      "Pandas Apply:  93%|█████████▎| 927/1000 [05:54<00:24,  2.93it/s]"
     ]
    },
    {
     "name": "stderr",
     "output_type": "stream",
     "text": [
      "\r",
      "Pandas Apply:  93%|█████████▎| 928/1000 [05:54<00:27,  2.58it/s]"
     ]
    },
    {
     "name": "stderr",
     "output_type": "stream",
     "text": [
      "\r",
      "Pandas Apply:  93%|█████████▎| 929/1000 [05:55<00:27,  2.61it/s]"
     ]
    },
    {
     "name": "stderr",
     "output_type": "stream",
     "text": [
      "\r",
      "Pandas Apply:  93%|█████████▎| 930/1000 [05:55<00:23,  3.00it/s]"
     ]
    },
    {
     "name": "stderr",
     "output_type": "stream",
     "text": [
      "\r",
      "Pandas Apply:  93%|█████████▎| 932/1000 [05:55<00:18,  3.76it/s]"
     ]
    },
    {
     "name": "stderr",
     "output_type": "stream",
     "text": [
      "\r",
      "Pandas Apply:  93%|█████████▎| 933/1000 [05:55<00:15,  4.40it/s]"
     ]
    },
    {
     "name": "stderr",
     "output_type": "stream",
     "text": [
      "\r",
      "Pandas Apply:  93%|█████████▎| 934/1000 [05:56<00:30,  2.14it/s]"
     ]
    },
    {
     "name": "stderr",
     "output_type": "stream",
     "text": [
      "\r",
      "Pandas Apply:  94%|█████████▎| 935/1000 [05:57<00:33,  1.93it/s]"
     ]
    },
    {
     "name": "stderr",
     "output_type": "stream",
     "text": [
      "\r",
      "Pandas Apply:  94%|█████████▎| 936/1000 [05:58<00:32,  2.00it/s]"
     ]
    },
    {
     "name": "stderr",
     "output_type": "stream",
     "text": [
      "\r",
      "Pandas Apply:  94%|█████████▍| 938/1000 [05:58<00:24,  2.56it/s]"
     ]
    },
    {
     "name": "stderr",
     "output_type": "stream",
     "text": [
      "\r",
      "Pandas Apply:  94%|█████████▍| 939/1000 [05:59<00:34,  1.77it/s]"
     ]
    },
    {
     "name": "stderr",
     "output_type": "stream",
     "text": [
      "\r",
      "Pandas Apply:  94%|█████████▍| 940/1000 [05:59<00:33,  1.79it/s]"
     ]
    },
    {
     "name": "stderr",
     "output_type": "stream",
     "text": [
      "\r",
      "Pandas Apply:  94%|█████████▍| 941/1000 [06:01<00:44,  1.34it/s]"
     ]
    },
    {
     "name": "stderr",
     "output_type": "stream",
     "text": [
      "\r",
      "Pandas Apply:  94%|█████████▍| 942/1000 [06:01<00:34,  1.67it/s]"
     ]
    },
    {
     "name": "stderr",
     "output_type": "stream",
     "text": [
      "\r",
      "Pandas Apply:  94%|█████████▍| 943/1000 [06:01<00:32,  1.74it/s]"
     ]
    },
    {
     "name": "stderr",
     "output_type": "stream",
     "text": [
      "\r",
      "Pandas Apply:  94%|█████████▍| 944/1000 [06:02<00:28,  1.99it/s]"
     ]
    },
    {
     "name": "stderr",
     "output_type": "stream",
     "text": [
      "\r",
      "Pandas Apply:  94%|█████████▍| 945/1000 [06:02<00:27,  2.03it/s]"
     ]
    },
    {
     "name": "stderr",
     "output_type": "stream",
     "text": [
      "\r",
      "Pandas Apply:  95%|█████████▍| 946/1000 [06:03<00:29,  1.85it/s]"
     ]
    },
    {
     "name": "stderr",
     "output_type": "stream",
     "text": [
      "\r",
      "Pandas Apply:  95%|█████████▍| 948/1000 [06:03<00:24,  2.11it/s]"
     ]
    },
    {
     "name": "stderr",
     "output_type": "stream",
     "text": [
      "\r",
      "Pandas Apply:  95%|█████████▍| 949/1000 [06:04<00:23,  2.18it/s]"
     ]
    },
    {
     "name": "stderr",
     "output_type": "stream",
     "text": [
      "\r",
      "Pandas Apply:  95%|█████████▌| 950/1000 [06:04<00:22,  2.22it/s]"
     ]
    },
    {
     "name": "stderr",
     "output_type": "stream",
     "text": [
      "\r",
      "Pandas Apply:  95%|█████████▌| 951/1000 [06:05<00:19,  2.53it/s]"
     ]
    },
    {
     "name": "stderr",
     "output_type": "stream",
     "text": [
      "\r",
      "Pandas Apply:  95%|█████████▌| 952/1000 [06:05<00:15,  3.04it/s]"
     ]
    },
    {
     "name": "stderr",
     "output_type": "stream",
     "text": [
      "\r",
      "Pandas Apply:  95%|█████████▌| 953/1000 [06:05<00:13,  3.38it/s]"
     ]
    },
    {
     "name": "stderr",
     "output_type": "stream",
     "text": [
      "\r",
      "Pandas Apply:  95%|█████████▌| 954/1000 [06:05<00:12,  3.74it/s]"
     ]
    },
    {
     "name": "stderr",
     "output_type": "stream",
     "text": [
      "\r",
      "Pandas Apply:  96%|█████████▌| 956/1000 [06:05<00:10,  4.35it/s]"
     ]
    },
    {
     "name": "stderr",
     "output_type": "stream",
     "text": [
      "\r",
      "Pandas Apply:  96%|█████████▌| 957/1000 [06:06<00:08,  4.96it/s]"
     ]
    },
    {
     "name": "stderr",
     "output_type": "stream",
     "text": [
      "\r",
      "Pandas Apply:  96%|█████████▌| 958/1000 [06:06<00:08,  5.04it/s]"
     ]
    },
    {
     "name": "stderr",
     "output_type": "stream",
     "text": [
      "\r",
      "Pandas Apply:  96%|█████████▌| 959/1000 [06:06<00:09,  4.35it/s]"
     ]
    },
    {
     "name": "stderr",
     "output_type": "stream",
     "text": [
      "\r",
      "Pandas Apply:  96%|█████████▌| 960/1000 [06:06<00:09,  4.30it/s]"
     ]
    },
    {
     "name": "stderr",
     "output_type": "stream",
     "text": [
      "\r",
      "Pandas Apply:  96%|█████████▌| 961/1000 [06:07<00:09,  4.33it/s]"
     ]
    },
    {
     "name": "stderr",
     "output_type": "stream",
     "text": [
      "\r",
      "Pandas Apply:  96%|█████████▌| 962/1000 [06:07<00:07,  4.85it/s]"
     ]
    },
    {
     "name": "stderr",
     "output_type": "stream",
     "text": [
      "\r",
      "Pandas Apply:  96%|█████████▋| 963/1000 [06:07<00:07,  4.86it/s]"
     ]
    },
    {
     "name": "stderr",
     "output_type": "stream",
     "text": [
      "\r",
      "Pandas Apply:  96%|█████████▋| 964/1000 [06:07<00:07,  4.65it/s]"
     ]
    },
    {
     "name": "stderr",
     "output_type": "stream",
     "text": [
      "\r",
      "Pandas Apply:  96%|█████████▋| 965/1000 [06:07<00:08,  4.03it/s]"
     ]
    },
    {
     "name": "stderr",
     "output_type": "stream",
     "text": [
      "\r",
      "Pandas Apply:  97%|█████████▋| 967/1000 [06:08<00:07,  4.57it/s]"
     ]
    },
    {
     "name": "stderr",
     "output_type": "stream",
     "text": [
      "\r",
      "Pandas Apply:  97%|█████████▋| 968/1000 [06:08<00:06,  4.81it/s]"
     ]
    },
    {
     "name": "stderr",
     "output_type": "stream",
     "text": [
      "\r",
      "Pandas Apply:  97%|█████████▋| 969/1000 [06:08<00:05,  5.35it/s]"
     ]
    },
    {
     "name": "stderr",
     "output_type": "stream",
     "text": [
      "\r",
      "Pandas Apply:  97%|█████████▋| 970/1000 [06:09<00:10,  2.75it/s]"
     ]
    },
    {
     "name": "stderr",
     "output_type": "stream",
     "text": [
      "\r",
      "Pandas Apply:  97%|█████████▋| 972/1000 [06:10<00:10,  2.62it/s]"
     ]
    },
    {
     "name": "stderr",
     "output_type": "stream",
     "text": [
      "\r",
      "Pandas Apply:  97%|█████████▋| 973/1000 [06:10<00:08,  3.13it/s]"
     ]
    },
    {
     "name": "stderr",
     "output_type": "stream",
     "text": [
      "\r",
      "Pandas Apply:  97%|█████████▋| 974/1000 [06:10<00:07,  3.42it/s]"
     ]
    },
    {
     "name": "stderr",
     "output_type": "stream",
     "text": [
      "\r",
      "Pandas Apply:  98%|█████████▊| 975/1000 [06:12<00:18,  1.35it/s]"
     ]
    },
    {
     "name": "stderr",
     "output_type": "stream",
     "text": [
      "\r",
      "Pandas Apply:  98%|█████████▊| 976/1000 [06:13<00:18,  1.32it/s]"
     ]
    },
    {
     "name": "stderr",
     "output_type": "stream",
     "text": [
      "\r",
      "Pandas Apply:  98%|█████████▊| 977/1000 [06:13<00:13,  1.76it/s]"
     ]
    },
    {
     "name": "stderr",
     "output_type": "stream",
     "text": [
      "\r",
      "Pandas Apply:  98%|█████████▊| 978/1000 [06:13<00:10,  2.07it/s]"
     ]
    },
    {
     "name": "stderr",
     "output_type": "stream",
     "text": [
      "\r",
      "Pandas Apply:  98%|█████████▊| 979/1000 [06:14<00:10,  2.10it/s]"
     ]
    },
    {
     "name": "stderr",
     "output_type": "stream",
     "text": [
      "\r",
      "Pandas Apply:  98%|█████████▊| 980/1000 [06:15<00:12,  1.57it/s]"
     ]
    },
    {
     "name": "stderr",
     "output_type": "stream",
     "text": [
      "\r",
      "Pandas Apply:  98%|█████████▊| 981/1000 [06:15<00:10,  1.87it/s]"
     ]
    },
    {
     "name": "stderr",
     "output_type": "stream",
     "text": [
      "\r",
      "Pandas Apply:  98%|█████████▊| 982/1000 [06:16<00:12,  1.39it/s]"
     ]
    },
    {
     "name": "stderr",
     "output_type": "stream",
     "text": [
      "\r",
      "Pandas Apply:  99%|█████████▊| 986/1000 [06:16<00:07,  1.92it/s]"
     ]
    },
    {
     "name": "stderr",
     "output_type": "stream",
     "text": [
      "\r",
      "Pandas Apply:  99%|█████████▊| 987/1000 [06:16<00:05,  2.34it/s]"
     ]
    },
    {
     "name": "stderr",
     "output_type": "stream",
     "text": [
      "\r",
      "Pandas Apply:  99%|█████████▉| 988/1000 [06:17<00:05,  2.32it/s]"
     ]
    },
    {
     "name": "stderr",
     "output_type": "stream",
     "text": [
      "\r",
      "Pandas Apply:  99%|█████████▉| 989/1000 [06:18<00:06,  1.78it/s]"
     ]
    },
    {
     "name": "stderr",
     "output_type": "stream",
     "text": [
      "\r",
      "Pandas Apply:  99%|█████████▉| 990/1000 [06:18<00:06,  1.64it/s]"
     ]
    },
    {
     "name": "stderr",
     "output_type": "stream",
     "text": [
      "\r",
      "Pandas Apply:  99%|█████████▉| 991/1000 [06:19<00:04,  2.03it/s]"
     ]
    },
    {
     "name": "stderr",
     "output_type": "stream",
     "text": [
      "\r",
      "Pandas Apply:  99%|█████████▉| 992/1000 [06:19<00:03,  2.25it/s]"
     ]
    },
    {
     "name": "stderr",
     "output_type": "stream",
     "text": [
      "\r",
      "Pandas Apply:  99%|█████████▉| 993/1000 [06:24<00:12,  1.85s/it]"
     ]
    },
    {
     "name": "stderr",
     "output_type": "stream",
     "text": [
      "\r",
      "Pandas Apply:  99%|█████████▉| 994/1000 [06:24<00:08,  1.35s/it]"
     ]
    },
    {
     "name": "stderr",
     "output_type": "stream",
     "text": [
      "\r",
      "Pandas Apply: 100%|█████████▉| 995/1000 [06:25<00:05,  1.15s/it]"
     ]
    },
    {
     "name": "stderr",
     "output_type": "stream",
     "text": [
      "\r",
      "Pandas Apply: 100%|█████████▉| 996/1000 [06:25<00:03,  1.10it/s]"
     ]
    },
    {
     "name": "stderr",
     "output_type": "stream",
     "text": [
      "\r",
      "Pandas Apply: 100%|█████████▉| 997/1000 [06:26<00:02,  1.33it/s]"
     ]
    },
    {
     "name": "stderr",
     "output_type": "stream",
     "text": [
      "\r",
      "Pandas Apply: 100%|█████████▉| 998/1000 [06:26<00:01,  1.55it/s]"
     ]
    },
    {
     "name": "stderr",
     "output_type": "stream",
     "text": [
      "\r",
      "Pandas Apply: 100%|█████████▉| 999/1000 [06:26<00:00,  1.92it/s]"
     ]
    },
    {
     "name": "stderr",
     "output_type": "stream",
     "text": [
      "\r",
      "Pandas Apply: 100%|██████████| 1000/1000 [06:27<00:00,  2.16it/s]"
     ]
    },
    {
     "name": "stderr",
     "output_type": "stream",
     "text": [
      "\n"
     ]
    }
   ],
   "source": [
    "import re\n",
    "import swifter\n",
    "import spacy\n",
    "import pandas as pd\n",
    "from pathlib import Path\n",
    "from typing import Tuple\n",
    "\n",
    "nlp = spacy.load('en')\n",
    "\n",
    "def parse_case_filename(fname: str) -> Tuple[int, str]:\n",
    "    m = re.search(r'cases/(\\d+)_(\\w+).txt', str(fname))\n",
    "    year = m.group(1)\n",
    "    id = m.group(2)\n",
    "    return year, id\n",
    "\n",
    "case_files = [x for x in Path('cases').iterdir()]\n",
    "\n",
    "years = []\n",
    "ids = []\n",
    "for x in case_files:\n",
    "    year, id = parse_case_filename(x)\n",
    "    years.append(year)\n",
    "    ids.append(id)\n",
    "\n",
    "df = pd.DataFrame(data={\n",
    "    'id': ids,\n",
    "    'year': years,\n",
    "    'file': case_files},\n",
    "    columns=['id', 'year', 'file'])\n",
    "\n",
    "df = df.sample(n=1000)\n",
    "\n",
    "df_rev = pd.read_csv('case_reversed.csv')\n",
    "\n",
    "def get_reversed(caseid: str) -> int:\n",
    "    ret = df_rev.loc[df_rev['caseid'] == caseid]\n",
    "    assert ret.shape[0] == 1\n",
    "    ret = ret.iloc[0]\n",
    "    ret = ret['case_reversed']\n",
    "    return ret\n",
    "\n",
    "df['reversed'] = df['id'].apply(get_reversed)\n",
    "\n",
    "def parse_file(fname: str):\n",
    "    text = Path(fname).read_text()\n",
    "    doc = nlp(text)\n",
    "    return doc\n",
    "\n",
    "df['doc'] = df['file'].swifter.apply(parse_file)"
   ]
  },
  {
   "cell_type": "markdown",
   "metadata": {
    "ein.tags": "worksheet-0",
    "slideshow": {
     "slide_type": "-"
    }
   },
   "source": [
    "##  Plot sentence distribution"
   ]
  },
  {
   "cell_type": "code",
   "execution_count": 2,
   "metadata": {
    "autoscroll": false,
    "collapsed": false,
    "ein.hycell": false,
    "ein.tags": "worksheet-0",
    "slideshow": {
     "slide_type": "-"
    }
   },
   "outputs": [
    {
     "data": {
      "text/plain": [
       "(array([851., 118.,  24.,   5.,   0.,   0.,   0.,   1.,   0.,   1.]),\n",
       " array([1.0000e+00, 2.9020e+02, 5.7940e+02, 8.6860e+02, 1.1578e+03,\n",
       "        1.4470e+03, 1.7362e+03, 2.0254e+03, 2.3146e+03, 2.6038e+03,\n",
       "        2.8930e+03]),\n",
       " <a list of 10 Patch objects>)"
      ]
     },
     "execution_count": 2,
     "metadata": {},
     "output_type": "execute_result"
    }
   ],
   "source": [
    "import matplotlib.pyplot as plt\n",
    "import numpy as np\n",
    "\n",
    "def nsentences_for_doc(doc):\n",
    "    return len(list(doc.sents))\n",
    "\n",
    "plt.hist(df['doc'].apply(nsentences_for_doc))\n"
   ]
  },
  {
   "cell_type": "markdown",
   "metadata": {
    "ein.tags": "worksheet-0",
    "slideshow": {
     "slide_type": "-"
    }
   },
   "source": [
    "##  Plot word distribution"
   ]
  },
  {
   "cell_type": "code",
   "execution_count": 3,
   "metadata": {
    "autoscroll": false,
    "collapsed": false,
    "ein.hycell": false,
    "ein.tags": "worksheet-0",
    "scrolled": false,
    "slideshow": {
     "slide_type": "-"
    }
   },
   "outputs": [
    {
     "data": {
      "text/plain": [
       "(array([780., 169.,  38.,  10.,   1.,   0.,   0.,   0.,   0.,   2.]),\n",
       " array([9.0000e+00, 5.4280e+03, 1.0847e+04, 1.6266e+04, 2.1685e+04,\n",
       "        2.7104e+04, 3.2523e+04, 3.7942e+04, 4.3361e+04, 4.8780e+04,\n",
       "        5.4199e+04]),\n",
       " <a list of 10 Patch objects>)"
      ]
     },
     "execution_count": 3,
     "metadata": {},
     "output_type": "execute_result"
    },
    {
     "data": {
      "image/png": "[encoded data removed]",
      "text/plain": [
       "<Figure size 432x288 with 1 Axes>"
      ]
     },
     "metadata": {},
     "output_type": "display_data"
    }
   ],
   "source": [
    "\n",
    "def nwords_for_doc(doc):\n",
    "    ret = 0\n",
    "    for token in doc:\n",
    "        ret += 1\n",
    "    return ret\n",
    "\n",
    "plt.hist(df['doc'].apply(nwords_for_doc))\n"
   ]
  },
  {
   "cell_type": "markdown",
   "metadata": {
    "ein.tags": "worksheet-0",
    "slideshow": {
     "slide_type": "-"
    }
   },
   "source": [
    "##  Plot letter distribution"
   ]
  },
  {
   "cell_type": "code",
   "execution_count": 4,
   "metadata": {
    "autoscroll": false,
    "collapsed": false,
    "ein.hycell": false,
    "ein.tags": "worksheet-0",
    "slideshow": {
     "slide_type": "-"
    }
   },
   "outputs": [
    {
     "data": {
      "text/plain": [
       "(array([770., 172.,  41.,  14.,   1.,   0.,   0.,   0.,   0.,   2.]),\n",
       " array([2.700000e+01, 2.225680e+04, 4.448660e+04, 6.671640e+04,\n",
       "        8.894620e+04, 1.111760e+05, 1.334058e+05, 1.556356e+05,\n",
       "        1.778654e+05, 2.000952e+05, 2.223250e+05]),\n",
       " <a list of 10 Patch objects>)"
      ]
     },
     "execution_count": 4,
     "metadata": {},
     "output_type": "execute_result"
    },
    {
     "data": {
      "image/png": "[encoded data removed]",
      "text/plain": [
       "<Figure size 432x288 with 1 Axes>"
      ]
     },
     "metadata": {},
     "output_type": "display_data"
    }
   ],
   "source": [
    "\n",
    "def nletters_for_doc(doc):\n",
    "    ret = 0\n",
    "    for token in doc:\n",
    "        ret += len(token)\n",
    "    return ret\n",
    "\n",
    "plt.hist(df['doc'].apply(nletters_for_doc))\n"
   ]
  },
  {
   "cell_type": "code",
   "execution_count": 5,
   "metadata": {
    "autoscroll": false,
    "collapsed": false,
    "ein.hycell": false,
    "ein.tags": "worksheet-0",
    "slideshow": {
     "slide_type": "-"
    }
   },
   "outputs": [],
   "source": [
    "## POS - Nouns"
   ]
  },
  {
   "cell_type": "code",
   "execution_count": 6,
   "metadata": {
    "autoscroll": false,
    "collapsed": false,
    "ein.hycell": false,
    "ein.tags": "worksheet-0",
    "slideshow": {
     "slide_type": "-"
    }
   },
   "outputs": [
    {
     "data": {
      "text/plain": [
       "(array([768., 175.,  40.,  13.,   1.,   1.,   0.,   0.,   0.,   2.]),\n",
       " array([   0. ,  930.7, 1861.4, 2792.1, 3722.8, 4653.5, 5584.2, 6514.9,\n",
       "        7445.6, 8376.3, 9307. ]),\n",
       " <a list of 10 Patch objects>)"
      ]
     },
     "execution_count": 6,
     "metadata": {},
     "output_type": "execute_result"
    },
    {
     "data": {
      "image/png": "[encoded data removed]",
      "text/plain": [
       "<Figure size 432x288 with 1 Axes>"
      ]
     },
     "metadata": {},
     "output_type": "display_data"
    }
   ],
   "source": [
    "\n",
    "def nnouns_for_doc(doc):\n",
    "    ret = 0\n",
    "    for token in doc:\n",
    "        if token.pos_ == 'NOUN':\n",
    "            ret += 1\n",
    "    return ret\n",
    "\n",
    "plt.hist(df['doc'].apply(nnouns_for_doc))"
   ]
  },
  {
   "cell_type": "markdown",
   "metadata": {
    "ein.tags": "worksheet-0",
    "slideshow": {
     "slide_type": "-"
    }
   },
   "source": [
    "## POS - Verbs"
   ]
  },
  {
   "cell_type": "code",
   "execution_count": 7,
   "metadata": {
    "autoscroll": false,
    "collapsed": false,
    "ein.hycell": false,
    "ein.tags": "worksheet-0",
    "slideshow": {
     "slide_type": "-"
    }
   },
   "outputs": [
    {
     "data": {
      "text/plain": [
       "(array([733., 202.,  45.,  16.,   1.,   1.,   0.,   0.,   0.,   2.]),\n",
       " array([   0. ,  619.6, 1239.2, 1858.8, 2478.4, 3098. , 3717.6, 4337.2,\n",
       "        4956.8, 5576.4, 6196. ]),\n",
       " <a list of 10 Patch objects>)"
      ]
     },
     "execution_count": 7,
     "metadata": {},
     "output_type": "execute_result"
    },
    {
     "data": {
      "image/png": "[encoded data removed]",
      "text/plain": [
       "<Figure size 432x288 with 1 Axes>"
      ]
     },
     "metadata": {},
     "output_type": "display_data"
    }
   ],
   "source": [
    "\n",
    "def nverbs_for_doc(doc):\n",
    "    ret = 0\n",
    "    for token in doc:\n",
    "        if token.pos_ == 'VERB':\n",
    "            ret += 1\n",
    "    return ret\n",
    "\n",
    "plt.hist(df['doc'].apply(nverbs_for_doc))"
   ]
  },
  {
   "cell_type": "markdown",
   "metadata": {
    "ein.tags": "worksheet-0",
    "slideshow": {
     "slide_type": "-"
    }
   },
   "source": [
    "## POS - Adjectives"
   ]
  },
  {
   "cell_type": "code",
   "execution_count": 8,
   "metadata": {
    "autoscroll": false,
    "collapsed": false,
    "ein.hycell": false,
    "ein.tags": "worksheet-0",
    "slideshow": {
     "slide_type": "-"
    }
   },
   "outputs": [
    {
     "data": {
      "text/plain": [
       "(array([810., 150.,  27.,  10.,   1.,   0.,   0.,   0.,   1.,   1.]),\n",
       " array([   0. ,  393.6,  787.2, 1180.8, 1574.4, 1968. , 2361.6, 2755.2,\n",
       "        3148.8, 3542.4, 3936. ]),\n",
       " <a list of 10 Patch objects>)"
      ]
     },
     "execution_count": 8,
     "metadata": {},
     "output_type": "execute_result"
    },
    {
     "data": {
      "image/png": "[encoded data removed]",
      "text/plain": [
       "<Figure size 432x288 with 1 Axes>"
      ]
     },
     "metadata": {},
     "output_type": "display_data"
    }
   ],
   "source": [
    "\n",
    "def nadjectives_for_doc(doc):\n",
    "    ret = 0\n",
    "    for token in doc:\n",
    "        if token.pos_ == 'ADJ':\n",
    "            ret += 1\n",
    "    return ret\n",
    "\n",
    "plt.hist(df['doc'].apply(nadjectives_for_doc))"
   ]
  },
  {
   "cell_type": "markdown",
   "metadata": {
    "ein.tags": "worksheet-0",
    "slideshow": {
     "slide_type": "-"
    }
   },
   "source": [
    "## Generate trigrams of the relevant words"
   ]
  },
  {
   "cell_type": "code",
   "execution_count": 9,
   "metadata": {
    "autoscroll": false,
    "collapsed": false,
    "ein.hycell": false,
    "ein.tags": "worksheet-0",
    "slideshow": {
     "slide_type": "-"
    }
   },
   "outputs": [],
   "source": [
    "\n",
    "def process_doc(doc):\n",
    "    trigrams = []\n",
    "\n",
    "    last = []\n",
    "    for t in doc:\n",
    "        if t.is_stop:\n",
    "            continue\n",
    "        if t.is_punct:\n",
    "            continue\n",
    "        if t.is_space:\n",
    "            continue\n",
    "\n",
    "        norm = t.lemma_\n",
    "\n",
    "        if len(norm) == 0:\n",
    "            continue\n",
    "\n",
    "        last.append(norm)\n",
    "        if len(last) > 3:\n",
    "            last = last[1:]\n",
    "\n",
    "        if len(last) < 3:\n",
    "            continue\n",
    "\n",
    "        if t.pos_ != 'NOUN':\n",
    "            continue\n",
    "\n",
    "        trigrams.append(tuple(last))\n",
    "    return trigrams\n",
    "\n",
    "df['trigrams'] = df['doc'].apply(process_doc)\n"
   ]
  },
  {
   "cell_type": "markdown",
   "metadata": {
    "ein.tags": "worksheet-0",
    "slideshow": {
     "slide_type": "-"
    }
   },
   "source": [
    "### Pick most common 1000 trigrams"
   ]
  },
  {
   "cell_type": "code",
   "execution_count": 10,
   "metadata": {
    "autoscroll": false,
    "collapsed": false,
    "ein.hycell": false,
    "ein.tags": "worksheet-0",
    "slideshow": {
     "slide_type": "-"
    }
   },
   "outputs": [],
   "source": [
    "from collections import Counter\n",
    "import itertools\n",
    "\n",
    "nfeatures = 1000\n",
    "\n",
    "all_trigrams = []\n",
    "for x in df['trigrams']:\n",
    "    all_trigrams.extend(x)\n",
    "\n",
    "c = Counter(all_trigrams)\n",
    "\n",
    "selected_trigrams = [x for x, y in c.most_common(nfeatures)]\n"
   ]
  },
  {
   "cell_type": "markdown",
   "metadata": {
    "ein.tags": "worksheet-0",
    "slideshow": {
     "slide_type": "-"
    }
   },
   "source": [
    "### Create feature vectors based on trigram frequency"
   ]
  },
  {
   "cell_type": "code",
   "execution_count": 11,
   "metadata": {
    "autoscroll": false,
    "collapsed": false,
    "ein.hycell": false,
    "ein.tags": "worksheet-0",
    "slideshow": {
     "slide_type": "-"
    }
   },
   "outputs": [],
   "source": [
    "def extract_feature(trigrams):\n",
    "    c = Counter(trigrams)\n",
    "    ft = np.zeros(nfeatures)\n",
    "    for i, t in enumerate(selected_trigrams):\n",
    "        if t in c:\n",
    "            ft[i] = c[t]\n",
    "    return ft\n",
    "\n",
    "df['feature'] = df['trigrams'].apply(extract_feature)\n"
   ]
  },
  {
   "cell_type": "markdown",
   "metadata": {
    "ein.tags": "worksheet-0",
    "slideshow": {
     "slide_type": "-"
    }
   },
   "source": [
    "## Train logistic regression"
   ]
  },
  {
   "cell_type": "code",
   "execution_count": 12,
   "metadata": {
    "autoscroll": false,
    "collapsed": false,
    "ein.hycell": false,
    "ein.tags": "worksheet-0",
    "slideshow": {
     "slide_type": "-"
    }
   },
   "outputs": [],
   "source": [
    "import numpy as np\n",
    "\n",
    "X = df.iloc[:, 6].values\n",
    "y = np.array(df['reversed'])\n",
    "\n",
    "X = np.array([np.array(x) for x in X])\n",
    "\n",
    "# Bring the variance to 1 on every column.\n",
    "X /= np.std(X, axis=0)\n",
    "\n"
   ]
  },
  {
   "cell_type": "code",
   "execution_count": 13,
   "metadata": {
    "autoscroll": false,
    "collapsed": false,
    "ein.hycell": false,
    "ein.tags": "worksheet-0",
    "slideshow": {
     "slide_type": "-"
    }
   },
   "outputs": [
    {
     "name": "stdout",
     "output_type": "stream",
     "text": [
      "Accuracy = 0.46\n",
      "F1 =  0.564516129032258\n"
     ]
    }
   ],
   "source": [
    "import sklearn.linear_model\n",
    "import sklearn.model_selection\n",
    "import sklearn.metrics\n",
    "\n",
    "assert X.shape[0] == y.shape[0]\n",
    "assert X.shape[1] == nfeatures\n",
    "\n",
    "X_train, X_test, y_train, y_test = sklearn.model_selection.train_test_split(X, y, test_size=0.1)\n",
    "\n",
    "model = sklearn.linear_model.LogisticRegression(solver='liblinear')\n",
    "model.fit(X_train, y_train)\n",
    "\n",
    "print('Accuracy =', model.score(X_test, y_test))\n",
    "print('F1 = ', sklearn.metrics.f1_score(y_test, model.predict(X_test)))\n"
   ]
  },
  {
   "cell_type": "markdown",
   "metadata": {
    "ein.tags": "worksheet-0",
    "slideshow": {
     "slide_type": "-"
    }
   },
   "source": [
    "## Perform grid search for best hyperparams"
   ]
  },
  {
   "cell_type": "code",
   "execution_count": 14,
   "metadata": {
    "autoscroll": false,
    "collapsed": false,
    "ein.hycell": false,
    "ein.tags": "worksheet-0",
    "slideshow": {
     "slide_type": "-"
    }
   },
   "outputs": [
    {
     "name": "stdout",
     "output_type": "stream",
     "text": [
      "Got a best score of 0.6311075115887061 with params {'C': 1e-05, 'penalty': 'l2'}\n"
     ]
    }
   ],
   "source": [
    "logreg = sklearn.linear_model.LogisticRegression(solver='liblinear')\n",
    "\n",
    "parameters = {\n",
    "    'penalty': ('l1', 'l2'),\n",
    "    'C': [ 10**i for i in range(-5, 5)],\n",
    "}\n",
    "\n",
    "model = sklearn.model_selection.GridSearchCV(\n",
    "    logreg,\n",
    "    parameters,\n",
    "    cv=4,\n",
    "    error_score='raise',\n",
    "    iid=False,\n",
    ")\n",
    "model.fit(X_train, y_train)\n",
    "\n",
    "print('Got a best score of {} with params {}'.format(model.best_score_, model.best_params_))\n"
   ]
  },
  {
   "cell_type": "markdown",
   "metadata": {
    "ein.tags": "worksheet-0",
    "slideshow": {
     "slide_type": "-"
    }
   },
   "source": [
    "## Make each doc a sentence"
   ]
  },
  {
   "cell_type": "code",
   "execution_count": 126,
   "metadata": {
    "autoscroll": false,
    "collapsed": false,
    "ein.hycell": false,
    "ein.tags": "worksheet-0",
    "slideshow": {
     "slide_type": "-"
    }
   },
   "outputs": [
    {
     "name": "stdout",
     "output_type": "stream",
     "text": [
      "We have 10000 sentences\n"
     ]
    }
   ],
   "source": [
    "dfs = df\n",
    "\n",
    "dfs = dfs.drop(['year', 'file', 'trigrams', 'feature'], axis=1)\n",
    "\n",
    "def expand_row_to_sents(row):\n",
    "    doc = row['doc']\n",
    "    sents = list(doc.sents)\n",
    "    ret = []\n",
    "    for s in sents:\n",
    "        cur_row = row.copy()\n",
    "        cur_row['sent'] = s\n",
    "        ret.append(cur_row)\n",
    "    return ret\n",
    "\n",
    "\n",
    "def flatmap(df, func):\n",
    "    rows = []\n",
    "    cols = df.columns\n",
    "    for r in df.values:\n",
    "        index = 0\n",
    "        row = {}\n",
    "        for col in cols:\n",
    "            row[col] = r[index]\n",
    "            index += 1\n",
    "        multrows = func(row)\n",
    "        for rr in multrows:\n",
    "            rows.append(rr)\n",
    "    return pd.DataFrame.from_records(rows)\n",
    "\n",
    "dfs = flatmap(dfs, expand_row_to_sents)\n",
    "\n",
    "dfs = dfs.sample(n=10000)\n",
    "\n",
    "print('We have {} sentences'.format(dfs.shape[0]))\n"
   ]
  },
  {
   "cell_type": "markdown",
   "metadata": {
    "ein.tags": "worksheet-0",
    "slideshow": {
     "slide_type": "-"
    }
   },
   "source": [
    "### Employ Vader"
   ]
  },
  {
   "cell_type": "markdown",
   "metadata": {
    "ein.tags": "worksheet-0",
    "slideshow": {
     "slide_type": "-"
    }
   },
   "source": [
    "#### Compute vader scores\n",
    "We will treat each document as being a single sentence, and then classify them using Vader."
   ]
  },
  {
   "cell_type": "code",
   "execution_count": 127,
   "metadata": {
    "autoscroll": false,
    "collapsed": false,
    "ein.hycell": false,
    "ein.tags": "worksheet-0",
    "slideshow": {
     "slide_type": "-"
    }
   },
   "outputs": [
    {
     "name": "stderr",
     "output_type": "stream",
     "text": [
      "\r",
      "Pandas Apply:   0%|          | 0/10000 [00:00<?, ?it/s]"
     ]
    },
    {
     "name": "stderr",
     "output_type": "stream",
     "text": [
      "\r",
      "Pandas Apply:   5%|▍         | 495/10000 [00:00<00:01, 4948.18it/s]"
     ]
    },
    {
     "name": "stderr",
     "output_type": "stream",
     "text": [
      "\r",
      "Pandas Apply:   9%|▉         | 935/10000 [00:00<00:01, 4765.75it/s]"
     ]
    },
    {
     "name": "stderr",
     "output_type": "stream",
     "text": [
      "\r",
      "Pandas Apply:  14%|█▍        | 1387/10000 [00:00<00:01, 4688.63it/s]"
     ]
    },
    {
     "name": "stderr",
     "output_type": "stream",
     "text": [
      "\r",
      "Pandas Apply:  19%|█▊        | 1852/10000 [00:00<00:01, 4675.87it/s]"
     ]
    },
    {
     "name": "stderr",
     "output_type": "stream",
     "text": [
      "\r",
      "Pandas Apply:  23%|██▎       | 2265/10000 [00:00<00:01, 4497.14it/s]"
     ]
    },
    {
     "name": "stderr",
     "output_type": "stream",
     "text": [
      "\r",
      "Pandas Apply:  27%|██▋       | 2733/10000 [00:00<00:01, 4547.22it/s]"
     ]
    },
    {
     "name": "stderr",
     "output_type": "stream",
     "text": [
      "\r",
      "Pandas Apply:  32%|███▏      | 3175/10000 [00:00<00:01, 4506.91it/s]"
     ]
    },
    {
     "name": "stderr",
     "output_type": "stream",
     "text": [
      "\r",
      "Pandas Apply:  36%|███▋      | 3643/10000 [00:00<00:01, 4556.35it/s]"
     ]
    },
    {
     "name": "stderr",
     "output_type": "stream",
     "text": [
      "\r",
      "Pandas Apply:  41%|████      | 4114/10000 [00:00<00:01, 4598.65it/s]"
     ]
    },
    {
     "name": "stderr",
     "output_type": "stream",
     "text": [
      "\r",
      "Pandas Apply:  46%|████▌     | 4564/10000 [00:01<00:01, 4567.49it/s]"
     ]
    },
    {
     "name": "stderr",
     "output_type": "stream",
     "text": [
      "\r",
      "Pandas Apply:  50%|█████     | 5017/10000 [00:01<00:01, 4556.10it/s]"
     ]
    },
    {
     "name": "stderr",
     "output_type": "stream",
     "text": [
      "\r",
      "Pandas Apply:  55%|█████▍    | 5464/10000 [00:01<00:01, 4482.93it/s]"
     ]
    },
    {
     "name": "stderr",
     "output_type": "stream",
     "text": [
      "\r",
      "Pandas Apply:  59%|█████▉    | 5915/10000 [00:01<00:00, 4489.26it/s]"
     ]
    },
    {
     "name": "stderr",
     "output_type": "stream",
     "text": [
      "\r",
      "Pandas Apply:  64%|██████▍   | 6391/10000 [00:01<00:00, 4564.52it/s]"
     ]
    },
    {
     "name": "stderr",
     "output_type": "stream",
     "text": [
      "\r",
      "Pandas Apply:  69%|██████▊   | 6855/10000 [00:01<00:00, 4582.65it/s]"
     ]
    },
    {
     "name": "stderr",
     "output_type": "stream",
     "text": [
      "\r",
      "Pandas Apply:  73%|███████▎  | 7312/10000 [00:01<00:00, 4548.73it/s]"
     ]
    },
    {
     "name": "stderr",
     "output_type": "stream",
     "text": [
      "\r",
      "Pandas Apply:  78%|███████▊  | 7779/10000 [00:01<00:00, 4579.03it/s]"
     ]
    },
    {
     "name": "stderr",
     "output_type": "stream",
     "text": [
      "\r",
      "Pandas Apply:  82%|████████▏ | 8237/10000 [00:01<00:00, 4498.04it/s]"
     ]
    },
    {
     "name": "stderr",
     "output_type": "stream",
     "text": [
      "\r",
      "Pandas Apply:  87%|████████▋ | 8687/10000 [00:01<00:00, 4445.46it/s]"
     ]
    },
    {
     "name": "stderr",
     "output_type": "stream",
     "text": [
      "\r",
      "Pandas Apply:  91%|█████████▏| 9132/10000 [00:02<00:00, 4394.71it/s]"
     ]
    },
    {
     "name": "stderr",
     "output_type": "stream",
     "text": [
      "\r",
      "Pandas Apply:  96%|█████████▌| 9572/10000 [00:02<00:00, 4365.29it/s]"
     ]
    },
    {
     "name": "stderr",
     "output_type": "stream",
     "text": [
      "\r",
      "Pandas Apply: 100%|██████████| 10000/10000 [00:02<00:00, 4495.95it/s]"
     ]
    },
    {
     "name": "stderr",
     "output_type": "stream",
     "text": [
      "\n"
     ]
    }
   ],
   "source": [
    "from nltk.sentiment.vader import SentimentIntensityAnalyzer\n",
    "\n",
    "sid = SentimentIntensityAnalyzer()\n",
    "\n",
    "def vader_sentiment_score(sent):\n",
    "    return sid.polarity_scores(str(sent))['compound']\n",
    "\n",
    "dfs['vader_score'] = dfs['sent'].swifter.apply(vader_sentiment_score)\n"
   ]
  },
  {
   "cell_type": "markdown",
   "metadata": {
    "ein.tags": "worksheet-0",
    "slideshow": {
     "slide_type": "-"
    }
   },
   "source": [
    "#### Show top 10 and bottom 10 sentences"
   ]
  },
  {
   "cell_type": "code",
   "execution_count": 128,
   "metadata": {
    "autoscroll": false,
    "collapsed": false,
    "ein.hycell": false,
    "ein.tags": "worksheet-0",
    "slideshow": {
     "slide_type": "-"
    }
   },
   "outputs": [
    {
     "name": "stdout",
     "output_type": "stream",
     "text": [
      "Highest rated sentences: \n",
      "Thus, where an element of aggravated murder is a felony such as rape or armed robbery, the court must determine which felony the state is trying to prove to determine whether there is double jeopardy.\n",
      "\n",
      "----------------------------------------------------------------------------------------------------\n",
      "The most horrifying involved the murder of four prisoners of war by South Vietnamese police in the presence of an American advisor, who callously failed to intervene.\n",
      "\n",
      "----------------------------------------------------------------------------------------------------\n",
      "The district court rejected Cole's evidence of organic neurological deficiency because the \"[t]estimony from Dr. Jarvis Wright fail[ed] to establish that Cole actually suffers from any organic brain damage, let alone that the disorder constitutes a `uniquely severe handicap' to which Cole's criminal act was attributable.\n",
      "----------------------------------------------------------------------------------------------------\n",
      "The only ostensible missing link in this analysis lies in the answer to the question whether, when Williams was sentenced to life imprisonment for murder, the sentencing court considered the kidnaping of the murder victim.\n",
      "\n",
      "----------------------------------------------------------------------------------------------------\n",
      "1 Authority for the condemnation is contained in Title II of the Second War Powers Act of March 27, 1942, 56 Stat. 177, 50 U.S.C.A.Appendix, 632, which provides: \"The Secretary of War may cause proceedings to be instituted to acquire by condemnation, any real property, temporary use thereof, or other interest therein that shall be deemed necessary, for military or other war purposes *.\n",
      "----------------------------------------------------------------------------------------------------\n",
      "After trial, the court found that plaintiff had suffered no actual damages but assessed punitive damages of $250; the prayer for attorney's fees was denied.\n",
      "\n",
      "----------------------------------------------------------------------------------------------------\n",
      "At trial, the jury was offered potential verdicts of murder, murder while committing or attempting to commit rape, and murder while committing or attempting to commit deviate sexual conduct.\n",
      "\n",
      "----------------------------------------------------------------------------------------------------\n",
      "C. Vouching Kindler claimed that the prosecutor's argument during the penalty phase violated his constitutional rights by improperly vouching for the death penalty.\n",
      "\n",
      "----------------------------------------------------------------------------------------------------\n",
      "It is then alleged that defendants have filed proof of loss against all of said insurance companies, claiming the total loss, although the loss was not total, and they have threatened to sue complainant upon the two policies issued, to recover the face amount of the policies; that complainant has denied liability, after tendering the premiums paid, together with interest thereon; that it is the intention of defendants to use these policies as a means of consummating their fraudulent scheme, and that unless restrained they will institute two actions at law against complainant on these two policies; that title to the real estate stands in the name of Pete Di Giovanni and Mary Di Giovanni, husband and wife, as an estate by the entirety.\n",
      "\n",
      "----------------------------------------------------------------------------------------------------\n",
      "The prosecutor's improper summation remarks violated numerous constitutional rights guaranteed to state criminal defendants, and were so prejudicial to Agard as to be considered harmful error.\n",
      "\n",
      "----------------------------------------------------------------------------------------------------\n",
      "====================================================================================================\n",
      "====================================================================================================\n",
      "Lowest rated sentences: \n",
      "But the state of Tennessee has held that Cone's lawyer's behavior was not ineffective under Strickland and we may not disturb that ruling unless we are convinced that it constitutes a \"decision that is contrary to, or involved an unreasonable application of, clearly established Federal law, as determined by the Supreme Court of the United States.\n",
      "----------------------------------------------------------------------------------------------------\n",
      "The first sentence of that agreement states that: The last sentence of the agreement states that: The plain language of the agreement thus states that the Youakims' home has been approved for the care of a foster child.\n",
      "\n",
      "----------------------------------------------------------------------------------------------------\n",
      "\"The trustee shall have full and exclusive power and authority to conduct the business and affairs of this trust, to purchase, etc., any property necessary or proper for the purpose of the trust; to sell and convey all property, etc., to borrow money on the credit of the trust to execute notes therefor and generally to do things which in his judgment are necessary and prudent in the management and conduct of the business of the Company.\n",
      "----------------------------------------------------------------------------------------------------\n",
      "A few days after these transactions were completed the president of the Unopco Corporation at a meeting of shareholders declared that \"during these years while we were struggling and moving forward, we had had the loyal support of a number of employees most particularly, and he thought it would be a nice and generous thing for us to show our appreciation and to remember them in the form of a gift or honorarium; all of the stockholders acquiesced and were glad to do it; and the result was that it was understood that we would come forward and make these presents or gifts to these employees that were to be slated for it.\n",
      "----------------------------------------------------------------------------------------------------\n",
      "In a manifest attempt to protect the American Potato Market in which this price support program was operating from an influx of Canadian grown potatoes, the Acting Secretary of State of the United States, on November 23, 1948, entered into an executive agreement with the Canadian Ambassador, who was acting for the Canadian Government, to the effect that the Canadian Government would place potatoes in the list of commodities for which export permits were required and that export permits would be granted therefor only to Canadian exporters who could give evidence that they had firm orders from legitimate United States users of Canadian seed potatoes and that \"Canadian exporters would also be required to have included in any contract into which they might enter with a United States seed potato importer a clause in which the importer would give an assurance that the potatoes would not be diverted or reconsigned for table stock purposes\".\n",
      "\n",
      "----------------------------------------------------------------------------------------------------\n",
      "Taxpayer, to the contrary, asserts that whatever may have once been the meaning of useful life \"and whatever meaning it may have under current Treasury Regulations promulgated following enactment of the 1954 Code, at the time here in question 'useful life' meant the whole useful life of the property itself without regard to the length of time it was intended by the taxpayer that it would be used by him; that the salvage value should properly be that value at the end of the life of the automobiles after they had served their total useful life in the hands of all owners; that total useful life of these automobiles was three years, and that no salvage value would remain thereafter.\n",
      "----------------------------------------------------------------------------------------------------\n",
      "It has been said that the Commission's task under the Natural Gas Act is to effect \"a balancing of the investor and the consumer interests,\" on the one hand, to see that \"the return to the equity owner [is] sufficient to maintain confidence in the financial integrity of the enterprise, so as to maintain its credit and attract capital,\" and, on the other, to \"protect consumers against exploitation at the hands of natural gas companies.\n",
      "----------------------------------------------------------------------------------------------------\n",
      "The United States Supreme Court emphasized that 28 of the Enabling Act required that trust lands be sold or leased only to \"the highest and best bidder\"; that no lands be sold for less than their appraised value; that disposal of trust lands be \"only in manner as herein provided\"; and that disposition in any other way shall be a breach of trust.\n",
      "\n",
      "----------------------------------------------------------------------------------------------------\n",
      "the owners agree to sell and convey to the United States for a consideration of $70,000 the land, together with the right of immediate occupancy and use of the land for any purpose whatsoever from and after acceptance by the United States of the purchase contract until such land is conveyed to the United States by the owners and title approved by the Attorney General of the United States and the agreed purchase price paid by the United States to the owners.\n",
      "\n",
      "----------------------------------------------------------------------------------------------------\n",
      "(1) Subject to sections 1103(c) and (d) , 1342 , and 1344 of this title, a fiduciary shall discharge his duties with respect to a plan solely in the interest of the participants and [**4] beneficiaries and — (A) for the exclusive purpose of: (i) providing benefits to participants and their beneficiaries; and (ii) defraying reasonable expenses of administering the plan; (B) with the care, skill, prudence, and diligence under the circumstances then prevailing that a prudent man acting in a like capacity and familiar with such matters would use in the conduct of an enterprise of a like character and with like aims; (C) by diversifying the investments of the plan so as to minimize the risk of large losses, unless under the circumstances it is clearly prudent not to do so; and (D) in accordance with the documents and instruments governing the plan insofar as such documents and instruments are consistent with the provisions of this subchapter and subchapter III of this chapter.\n",
      "\n",
      "----------------------------------------------------------------------------------------------------\n"
     ]
    }
   ],
   "source": [
    "\n",
    "dfs = dfs.sort_values('vader_score')\n",
    "\n",
    "print('Highest rated sentences: ')\n",
    "for r in dfs[:10]['sent']:\n",
    "    print(str(r))\n",
    "    print('-' * 100)\n",
    "\n",
    "print('=' * 100)\n",
    "print('=' * 100)\n",
    "\n",
    "print('Lowest rated sentences: ')\n",
    "for r in dfs[-10:]['sent']:\n",
    "    print(str(r))\n",
    "    print('-' * 100)\n"
   ]
  },
  {
   "cell_type": "markdown",
   "metadata": {
    "ein.tags": "worksheet-0",
    "slideshow": {
     "slide_type": "-"
    }
   },
   "source": [
    "## Compute TfIdf frequencies"
   ]
  },
  {
   "cell_type": "code",
   "execution_count": 153,
   "metadata": {
    "autoscroll": false,
    "collapsed": false,
    "ein.hycell": false,
    "ein.tags": "worksheet-0",
    "slideshow": {
     "slide_type": "-"
    }
   },
   "outputs": [
    {
     "name": "stderr",
     "output_type": "stream",
     "text": [
      "\r",
      "Pandas Apply:   0%|          | 0/10000 [00:00<?, ?it/s]"
     ]
    },
    {
     "name": "stderr",
     "output_type": "stream",
     "text": [
      "\r",
      "Pandas Apply:   0%|          | 1/10000 [00:00<22:17,  7.48it/s]"
     ]
    },
    {
     "name": "stderr",
     "output_type": "stream",
     "text": [
      "\r",
      "Pandas Apply:  11%|█▏        | 1131/10000 [00:00<13:50, 10.68it/s]"
     ]
    },
    {
     "name": "stderr",
     "output_type": "stream",
     "text": [
      "\r",
      "Pandas Apply:  15%|█▍        | 1468/10000 [00:00<09:21, 15.20it/s]"
     ]
    },
    {
     "name": "stderr",
     "output_type": "stream",
     "text": [
      "\r",
      "Pandas Apply:  17%|█▋        | 1742/10000 [00:00<06:21, 21.64it/s]"
     ]
    },
    {
     "name": "stderr",
     "output_type": "stream",
     "text": [
      "\r",
      "Pandas Apply:  20%|█▉        | 1987/10000 [00:00<04:20, 30.70it/s]"
     ]
    },
    {
     "name": "stderr",
     "output_type": "stream",
     "text": [
      "\r",
      "Pandas Apply:  22%|██▏       | 2200/10000 [00:00<02:59, 43.44it/s]"
     ]
    },
    {
     "name": "stderr",
     "output_type": "stream",
     "text": [
      "\r",
      "Pandas Apply:  25%|██▌       | 2516/10000 [00:01<02:01, 61.69it/s]"
     ]
    },
    {
     "name": "stderr",
     "output_type": "stream",
     "text": [
      "\r",
      "Pandas Apply:  28%|██▊       | 2775/10000 [00:01<01:22, 87.23it/s]"
     ]
    },
    {
     "name": "stderr",
     "output_type": "stream",
     "text": [
      "\r",
      "Pandas Apply:  31%|███       | 3062/10000 [00:01<00:56, 123.01it/s]"
     ]
    },
    {
     "name": "stderr",
     "output_type": "stream",
     "text": [
      "\r",
      "Pandas Apply:  33%|███▎      | 3314/10000 [00:01<00:38, 171.88it/s]"
     ]
    },
    {
     "name": "stderr",
     "output_type": "stream",
     "text": [
      "\r",
      "Pandas Apply:  36%|███▌      | 3561/10000 [00:01<00:27, 238.37it/s]"
     ]
    },
    {
     "name": "stderr",
     "output_type": "stream",
     "text": [
      "\r",
      "Pandas Apply:  38%|███▊      | 3811/10000 [00:01<00:18, 327.15it/s]"
     ]
    },
    {
     "name": "stderr",
     "output_type": "stream",
     "text": [
      "\r",
      "Pandas Apply:  41%|████      | 4067/10000 [00:01<00:13, 443.01it/s]"
     ]
    },
    {
     "name": "stderr",
     "output_type": "stream",
     "text": [
      "\r",
      "Pandas Apply:  43%|████▎     | 4317/10000 [00:01<00:09, 584.22it/s]"
     ]
    },
    {
     "name": "stderr",
     "output_type": "stream",
     "text": [
      "\r",
      "Pandas Apply:  46%|████▌     | 4602/10000 [00:01<00:07, 767.08it/s]"
     ]
    },
    {
     "name": "stderr",
     "output_type": "stream",
     "text": [
      "\r",
      "Pandas Apply:  49%|████▉     | 4901/10000 [00:02<00:05, 987.12it/s]"
     ]
    },
    {
     "name": "stderr",
     "output_type": "stream",
     "text": [
      "\r",
      "Pandas Apply:  52%|█████▏    | 5170/10000 [00:02<00:03, 1216.48it/s]"
     ]
    },
    {
     "name": "stderr",
     "output_type": "stream",
     "text": [
      "\r",
      "Pandas Apply:  55%|█████▍    | 5456/10000 [00:02<00:03, 1469.59it/s]"
     ]
    },
    {
     "name": "stderr",
     "output_type": "stream",
     "text": [
      "\r",
      "Pandas Apply:  58%|█████▊    | 5769/10000 [00:02<00:02, 1747.71it/s]"
     ]
    },
    {
     "name": "stderr",
     "output_type": "stream",
     "text": [
      "\r",
      "Pandas Apply:  61%|██████    | 6054/10000 [00:02<00:02, 1942.24it/s]"
     ]
    },
    {
     "name": "stderr",
     "output_type": "stream",
     "text": [
      "\r",
      "Pandas Apply:  63%|██████▎   | 6333/10000 [00:02<00:01, 2098.01it/s]"
     ]
    },
    {
     "name": "stderr",
     "output_type": "stream",
     "text": [
      "\r",
      "Pandas Apply:  66%|██████▋   | 6631/10000 [00:02<00:01, 2300.76it/s]"
     ]
    },
    {
     "name": "stderr",
     "output_type": "stream",
     "text": [
      "\r",
      "Pandas Apply:  69%|██████▉   | 6940/10000 [00:02<00:01, 2490.84it/s]"
     ]
    },
    {
     "name": "stderr",
     "output_type": "stream",
     "text": [
      "\r",
      "Pandas Apply:  73%|███████▎  | 7255/10000 [00:02<00:01, 2657.32it/s]"
     ]
    },
    {
     "name": "stderr",
     "output_type": "stream",
     "text": [
      "\r",
      "Pandas Apply:  76%|███████▌  | 7552/10000 [00:02<00:01, 2413.13it/s]"
     ]
    },
    {
     "name": "stderr",
     "output_type": "stream",
     "text": [
      "\r",
      "Pandas Apply:  78%|███████▊  | 7820/10000 [00:03<00:00, 2246.58it/s]"
     ]
    },
    {
     "name": "stderr",
     "output_type": "stream",
     "text": [
      "\r",
      "Pandas Apply:  81%|████████  | 8065/10000 [00:03<00:00, 2140.61it/s]"
     ]
    },
    {
     "name": "stderr",
     "output_type": "stream",
     "text": [
      "\r",
      "Pandas Apply:  83%|████████▎ | 8295/10000 [00:03<00:00, 2076.14it/s]"
     ]
    },
    {
     "name": "stderr",
     "output_type": "stream",
     "text": [
      "\r",
      "Pandas Apply:  85%|████████▌ | 8514/10000 [00:03<00:00, 2008.83it/s]"
     ]
    },
    {
     "name": "stderr",
     "output_type": "stream",
     "text": [
      "\r",
      "Pandas Apply:  87%|████████▋ | 8745/10000 [00:03<00:00, 2089.36it/s]"
     ]
    },
    {
     "name": "stderr",
     "output_type": "stream",
     "text": [
      "\r",
      "Pandas Apply:  90%|████████▉ | 8993/10000 [00:03<00:00, 2190.64it/s]"
     ]
    },
    {
     "name": "stderr",
     "output_type": "stream",
     "text": [
      "\r",
      "Pandas Apply:  92%|█████████▏| 9218/10000 [00:03<00:00, 2050.27it/s]"
     ]
    },
    {
     "name": "stderr",
     "output_type": "stream",
     "text": [
      "\r",
      "Pandas Apply:  94%|█████████▍| 9429/10000 [00:03<00:00, 2027.57it/s]"
     ]
    },
    {
     "name": "stderr",
     "output_type": "stream",
     "text": [
      "\r",
      "Pandas Apply:  96%|█████████▋| 9636/10000 [00:04<00:00, 1995.64it/s]"
     ]
    },
    {
     "name": "stderr",
     "output_type": "stream",
     "text": [
      "\r",
      "Pandas Apply:  99%|█████████▊| 9867/10000 [00:04<00:00, 2076.58it/s]"
     ]
    },
    {
     "name": "stderr",
     "output_type": "stream",
     "text": [
      "\r",
      "Pandas Apply: 100%|██████████| 10000/10000 [00:04<00:00, 2381.53it/s]"
     ]
    },
    {
     "name": "stderr",
     "output_type": "stream",
     "text": [
      "\n"
     ]
    }
   ],
   "source": [
    "from sklearn.feature_extraction.text import TfidfVectorizer\n",
    "\n",
    "vectorizer = TfidfVectorizer()\n",
    "\n",
    "corpus = dfs['sent'].swifter.apply(str)\n",
    "\n",
    "X_tfidf = vectorizer.fit_transform(corpus)\n"
   ]
  },
  {
   "cell_type": "markdown",
   "metadata": {
    "ein.tags": "worksheet-0",
    "slideshow": {
     "slide_type": "-"
    }
   },
   "source": [
    "### Compute sosine similarities"
   ]
  },
  {
   "cell_type": "code",
   "execution_count": 154,
   "metadata": {
    "autoscroll": false,
    "collapsed": false,
    "ein.hycell": false,
    "ein.tags": "worksheet-0",
    "slideshow": {
     "slide_type": "-"
    }
   },
   "outputs": [
    {
     "name": "stdout",
     "output_type": "stream",
     "text": [
      "Looking for similar docs\n"
     ]
    },
    {
     "name": "stdout",
     "output_type": "stream",
     "text": [
      "====================================================================================================\n",
      "(emphasis in original).\n",
      "\n",
      "----------------------------------------------------------------------------------------------------\n",
      "Id. (emphasis in original).\n",
      "\n",
      "====================================================================================================\n",
      "====================================================================================================\n",
      "Id .\n",
      "\n",
      "----------------------------------------------------------------------------------------------------\n",
      "Id. at 4-5 .\n",
      "\n",
      "====================================================================================================\n",
      "====================================================================================================\n",
      "(1964) (emphasis supplied).\n",
      "\n",
      "----------------------------------------------------------------------------------------------------\n",
      "(Emphasis supplied.)\n",
      "\n",
      "====================================================================================================\n"
     ]
    },
    {
     "name": "stdout",
     "output_type": "stream",
     "text": [
      "====================================================================================================\n",
      "53\n",
      "----------------------------------------------------------------------------------------------------\n",
      "53 S.Ct.\n",
      "====================================================================================================\n",
      "====================================================================================================\n",
      "Accordingly, the judgment of the district court is affirmed.\n",
      "\n",
      "----------------------------------------------------------------------------------------------------\n",
      "The judgment of the District Court is affirmed.\n",
      "\n",
      "====================================================================================================\n",
      "====================================================================================================\n",
      "Rep.\n",
      "----------------------------------------------------------------------------------------------------\n",
      "See H.R.Rep.\n",
      "\n",
      "====================================================================================================\n",
      "====================================================================================================\n",
      "It is so ordered.\n",
      "\n",
      "----------------------------------------------------------------------------------------------------\n",
      "So ordered .\n",
      "\n",
      "====================================================================================================\n"
     ]
    },
    {
     "name": "stdout",
     "output_type": "stream",
     "text": [
      "====================================================================================================\n",
      "61\n",
      "----------------------------------------------------------------------------------------------------\n",
      "61 S.Ct.\n",
      "====================================================================================================\n"
     ]
    },
    {
     "name": "stdout",
     "output_type": "stream",
     "text": [
      "====================================================================================================\n",
      "\"\n",
      "Id. at 3 .\n",
      "\n",
      "----------------------------------------------------------------------------------------------------\n",
      "\"\n",
      "Id.\n",
      "====================================================================================================\n",
      "====================================================================================================\n",
      "\"\n",
      "Id. at 3 .\n",
      "\n",
      "----------------------------------------------------------------------------------------------------\n",
      "Id .\n",
      "\n",
      "====================================================================================================\n",
      "====================================================================================================\n",
      "\"\n",
      "Id. at 3 .\n",
      "\n",
      "----------------------------------------------------------------------------------------------------\n",
      "Id .\n",
      "\n",
      "====================================================================================================\n",
      "Looking for different docs\n",
      "====================================================================================================\n",
      "t]he murder was especially heinous, atrocious, or cruel in that it involved torture or depravity of mind.\n",
      "----------------------------------------------------------------------------------------------------\n",
      "The prosecutor's improper summation remarks violated numerous constitutional rights guaranteed to state criminal defendants, and were so prejudicial to Agard as to be considered harmful error.\n",
      "\n",
      "====================================================================================================\n",
      "====================================================================================================\n",
      "Obsolescence may and does occur, resulting in an estate more obsolete, when less used or more neglected, without forthwith rendering it entirely obsolete, useless, and fit only to be abandoned.\n",
      "\n",
      "----------------------------------------------------------------------------------------------------\n",
      "After trial, the court found that plaintiff had suffered no actual damages but assessed punitive damages of $250; the prayer for attorney's fees was denied.\n",
      "\n",
      "====================================================================================================\n",
      "====================================================================================================\n",
      "Obsolescence may and does occur, resulting in an estate more obsolete, when less used or more neglected, without forthwith rendering it entirely obsolete, useless, and fit only to be abandoned.\n",
      "\n",
      "----------------------------------------------------------------------------------------------------\n",
      "C. Vouching Kindler claimed that the prosecutor's argument during the penalty phase violated his constitutional rights by improperly vouching for the death penalty.\n",
      "\n",
      "====================================================================================================\n",
      "====================================================================================================\n",
      "He contends that as a prison official he was immune from liability unless there was evidence that he was guilty of gross negligence or reckless misconduct.\n",
      "\n",
      "----------------------------------------------------------------------------------------------------\n",
      "The jury recommended a death sentence based on the murder conviction, and the trial court followed the jury's recommendation and imposed a death sentence.\n",
      "\n",
      "====================================================================================================\n",
      "====================================================================================================\n",
      "On December 14, 2005, a grand jury indicted Rehberg on charges of aggravated assault, burglary, and six counts of \"harassing phone calls.\n",
      "----------------------------------------------------------------------------------------------------\n",
      "We now address the substantive issue whether punitive damages in a products liability action for wrongful death are excludable from gross income under 104(a)(2) .\n",
      "\n",
      "====================================================================================================\n",
      "====================================================================================================\n",
      "On December 14, 2005, a grand jury indicted Rehberg on charges of aggravated assault, burglary, and six counts of \"harassing phone calls.\n",
      "----------------------------------------------------------------------------------------------------\n",
      "The amended language, which became section 7 , limited treble damages to any person injured in his business or property by an antitrust violation.\n",
      "\n",
      "====================================================================================================\n",
      "====================================================================================================\n",
      "Accordingly, \"[w]here pleadings are not sufficiently particularized or where, taken as a whole, they do not raise a 'strong inference' that misleading statements were knowingly or deliberate recklessness [sic] made to investors, a private securities fraud complaint is properly dismissed under Rule 12(b)(6) .\n",
      "----------------------------------------------------------------------------------------------------\n",
      "On appeal Smith challenges (1) the overall sufficiency of the evidence; (2) the trial court's instruction on cruel and unusual punishment; (3) the trial court's ruling on cross-examination by plaintiff's counsel and closing argument; (4) the exclusion of documentary evidence; (5) the use of expert testimony; and (6) the award of punitive damages.\n",
      "\n",
      "====================================================================================================\n",
      "====================================================================================================\n",
      "Under this formulation, a misdemeanor crime of domestic violence is part of a subset [\n",
      "----------------------------------------------------------------------------------------------------\n",
      "The Amendment, however, recognizes the right to punish for criminal conduct as long as that punishment does not escalate to the cruel and unusual.\n",
      "\n",
      "====================================================================================================\n",
      "====================================================================================================\n",
      "Under this formulation, a misdemeanor crime of domestic violence is part of a subset [\n",
      "----------------------------------------------------------------------------------------------------\n",
      "They contended that the proposal \"totally disregards the injury plaintiffs have suffered due to the defendants' four-and-a-half year delay [a reference to the 1979 Decree] and fails to provide any mechanism that will insure the present scenario will not reoccur.\n",
      "====================================================================================================\n",
      "====================================================================================================\n",
      "Under this formulation, a misdemeanor crime of domestic violence is part of a subset [\n",
      "----------------------------------------------------------------------------------------------------\n",
      "Plaintiffs have failed to demonstrate that the trial court abused its discretion in denying the injunction here sought.\n",
      "\n",
      "====================================================================================================\n",
      "====================================================================================================\n",
      "Under this formulation, a misdemeanor crime of domestic violence is part of a subset [\n",
      "----------------------------------------------------------------------------------------------------\n",
      "In the instant case, the record reveals no indication that the government intended to pursue the civil forfeiture action and the criminal prosecution as a coordinated proceeding.\n",
      "\n",
      "====================================================================================================\n"
     ]
    }
   ],
   "source": [
    "from sklearn.metrics.pairwise import cosine_similarity\n",
    "\n",
    "S = cosine_similarity(X_tfidf)\n",
    "\n",
    "used = {}\n",
    "threshold = 0.8\n",
    "print('Looking for similar docs')\n",
    "found = 0\n",
    "for i in range(S.shape[0]):\n",
    "    if found > 10 or i in used:\n",
    "        continue\n",
    "    for j in range(i):\n",
    "        # Some phrases maybe are repeated, so we do not want them to have similarity 1.0 exactly.\n",
    "        if found > 10 or j in used or S[i, j] < threshold or S[i, j] > 0.9:\n",
    "            continue\n",
    "        used[i] = True\n",
    "        used[j] = True\n",
    "        found += 1\n",
    "        print('=' * 100)\n",
    "        print(dfs.iloc[i]['sent'])\n",
    "        print('-' * 100)\n",
    "        print(dfs.iloc[j]['sent'])\n",
    "        print('=' * 100)\n",
    "\n",
    "\n",
    "threshold = 0\n",
    "print('Looking for different docs')\n",
    "used = {}\n",
    "found = 0\n",
    "for i in range(S.shape[0]):\n",
    "    if found > 10 or i in used:\n",
    "        continue\n",
    "    for j in range(i):\n",
    "        if found > 10 or j in used or S[i, j] > threshold:\n",
    "            continue\n",
    "        used[i] = True\n",
    "        used[j] = True\n",
    "        found += 1\n",
    "        print('=' * 100)\n",
    "        print(dfs.iloc[i]['sent'])\n",
    "        print('-' * 100)\n",
    "        print(dfs.iloc[j]['sent'])\n",
    "        print('=' * 100)\n"
   ]
  },
  {
   "cell_type": "markdown",
   "metadata": {
    "ein.tags": "worksheet-0",
    "slideshow": {
     "slide_type": "-"
    }
   },
   "source": [
    "## Use KMeans to assign the sentences to 10 clusters"
   ]
  },
  {
   "cell_type": "code",
   "execution_count": 164,
   "metadata": {
    "autoscroll": false,
    "collapsed": false,
    "ein.hycell": false,
    "ein.tags": "worksheet-0",
    "slideshow": {
     "slide_type": "-"
    }
   },
   "outputs": [
    {
     "data": {
      "text/plain": [
       "KMeans(algorithm='auto', copy_x=True, init='k-means++', max_iter=300,\n    n_clusters=20, n_init=10, n_jobs=None, precompute_distances='auto',\n    random_state=None, tol=0.0001, verbose=0)"
      ]
     },
     "execution_count": 162,
     "metadata": {},
     "output_type": "execute_result"
    },
    {
     "data": {
      "text/plain": [
       "KMeans(algorithm='auto', copy_x=True, init='k-means++', max_iter=300,\n    n_clusters=20, n_init=10, n_jobs=None, precompute_distances='auto',\n    random_state=None, tol=0.0001, verbose=0)"
      ]
     },
     "execution_count": 164,
     "metadata": {},
     "output_type": "execute_result"
    }
   ],
   "source": [
    "from sklearn.cluster import KMeans\n",
    "\n",
    "model = KMeans(n_clusters=20)\n",
    "model.fit(X_tfidf)\n"
   ]
  },
  {
   "cell_type": "code",
   "execution_count": 182,
   "metadata": {
    "autoscroll": false,
    "collapsed": false,
    "ein.hycell": false,
    "ein.tags": "worksheet-0",
    "slideshow": {
     "slide_type": "-"
    }
   },
   "outputs": [
    {
     "name": "stdout",
     "output_type": "stream",
     "text": [
      "====================================================================================================\n",
      "Samples of sentences in cluster 0\n",
      "Covert practices are as efficient as overt action.\n",
      "\n",
      "====================================================================================================\n",
      "====================================================================================================\n",
      "Samples of sentences in cluster 1\n",
      "Janz testified that she did not specifically monitor for religious symbols in the special education classrooms, but that if she observed a religious symbol in the classrooms, she \"would ask that they remove it.\"\n",
      "Barbara Turner Windhorst, the director of special education from June of 1982 to January of 1987, was not aware of any JPPSS policy which required the director of special education to observe whether religious symbols were present in the special education classrooms.\n",
      "\n",
      "====================================================================================================\n",
      "====================================================================================================\n",
      "Samples of sentences in cluster 2\n",
      "Williams concerned the refusal of the trial court to furnish the defendant with an independent pathologist to serve as an expert witness concerning the cause of the victim's death.\n",
      "\n",
      "====================================================================================================\n",
      "====================================================================================================\n",
      "Samples of sentences in cluster 3\n",
      "Rush is the HMO provider for the plan.\n",
      "\n",
      "(when there is question as to whether client or attorney is at fault, interests of two become adverse and client will need new counsel to represent him).\n",
      "\n",
      "As to the Application of the Act to the Suit at Bar.\n",
      "\n",
      "Surely the district court's order enforcing the terms of the 1979 and 1981 Decrees is consistent with the purposes of Title VII.\n",
      "\n",
      "that a plan must be operated for the exclusive benefit of employees and their beneficiaries.\n",
      "\n",
      "====================================================================================================\n",
      "====================================================================================================\n",
      "Samples of sentences in cluster 4\n",
      "Thus, applying harmless error analysis to the denial of the right to counsel of choice would effectively \"obliterate\" the criminal defendant's Sixth Amendment right to be represented by counsel of his choice, a right the Supreme Court recognized in Wheat , by collapsing the right to counsel of choice into the right to receive effective assistance of counsel at trial.\n",
      "\n",
      "====================================================================================================\n",
      "====================================================================================================\n",
      "Samples of sentences in cluster 5\n",
      "\"\n",
      "501 F.2d at 518 .\n",
      "\n",
      "at 1510 and 1511 , 75 L.Ed.2d at 938 and 939 .\n",
      "\n",
      "L.Ed.2d 577\n",
      "L.Ed. 131 .\n",
      "\n",
      "n. 3, 101 L.Ed.2d 442 (1988)\n",
      "====================================================================================================\n",
      "====================================================================================================\n",
      "Samples of sentences in cluster 6\n",
      "-34 n. 14, 97 S.Ct. at 2069 .\n",
      "\n",
      "[**34]\n",
      "Order 34 at 2].\n",
      "\n",
      "When Death Is Sought , supra , at 133-34.\n",
      "\n",
      "\"\n",
      "Id. at 1433-34 .\n",
      "\n",
      "====================================================================================================\n",
      "====================================================================================================\n",
      "Samples of sentences in cluster 7\n",
      "903 , 5 L.Ed.2d 859 ; Pavlou v. Ocean Traders Marine Corp. , S.D.N.Y.\n",
      "1962,\n",
      "====================================================================================================\n",
      "====================================================================================================\n",
      "Samples of sentences in cluster 8\n",
      "This, however, the Judge refused to do.\n",
      "\n",
      "====================================================================================================\n",
      "====================================================================================================\n",
      "Samples of sentences in cluster 9\n",
      "89 S.Ct.\n",
      "982, 985 , 89\n",
      ", 89 L.Ed. 1372 , applies.\n",
      "\n",
      ", 89 S.Ct.\n",
      "89 S.Ct.\n",
      "====================================================================================================\n",
      "====================================================================================================\n",
      "Samples of sentences in cluster 10\n",
      "This argument is unpersuasive.\n",
      "\n",
      "We find this contention unpersuasive.\n",
      "\n",
      "====================================================================================================\n",
      "====================================================================================================\n",
      "Samples of sentences in cluster 11\n",
      "Id. at 99 .\n",
      "\n",
      "\"\n",
      "Id. at 989-90 .\n",
      "\n",
      "\"\n",
      "Id. at 768 , 70 S.Ct.\n",
      "Id. at 650-51 .\n",
      "\n",
      "Id.\n",
      "====================================================================================================\n",
      "====================================================================================================\n",
      "Samples of sentences in cluster 12\n",
      "Cir., 1953, 205 F.2d 104 .\n",
      "\n",
      "Warden , 7 Cir., 237 F.2d 953 .\n",
      "\n",
      "(5th Cir. 1998); Glass v. Petro-Tex Chemical Corp. , 757 F.2d 1554, 1561\n",
      "(5th Cir. 2007); Moore v. Ashland Chem.\n",
      "Cir., 1957, 248 F.2d 196, 200 ; United States v. Brisbane , 3\n",
      "====================================================================================================\n",
      "====================================================================================================\n",
      "Samples of sentences in cluster 13\n",
      "It provides: In bringing its suit for specific performance of an agreement to arbitrate the appellant must of course, show that the collective bargaining agreement places on appellee the duty to arbitrate.\n",
      "\n",
      "====================================================================================================\n",
      "====================================================================================================\n",
      "Samples of sentences in cluster 14\n",
      "(1) of the Act.\n",
      "\n",
      "(2) of the Act.\n",
      "\n",
      "Then too it was provided that the Act should not affect the application of the National Labor Relations Act, the Fair Labor Standards Act or the Merchant Marine Act to the business of insurance.\n",
      "\n",
      "====================================================================================================\n",
      "====================================================================================================\n",
      "Samples of sentences in cluster 15\n",
      "See also The Prins Frederik, 2 Dods.\n",
      "\n",
      "In 1928 he was informed that he had been born in Texas.\n",
      "\n",
      "In support of his claim, Wallace tries to distinguish a \"continuing Fourth Amendment violation\" from the \"continuing seizure\" theory discussed in Justice Ginsburg's concurring opinion in Albright v. Oliver, 510 U.S. 266 , 114 S.Ct.\n",
      "444 U.S. at 636 , 100 S.Ct.\n",
      "at 4362 .\n",
      "\n",
      "====================================================================================================\n",
      "====================================================================================================\n",
      "Samples of sentences in cluster 16\n",
      "(7th Cir.), cert.\n",
      "(2d Cir. 1970), cert.\n",
      ", cert.\n",
      "(D.C. Cir. 1981), cert.\n",
      "(10th Cir.), cert.\n",
      "====================================================================================================\n",
      "====================================================================================================\n",
      "Samples of sentences in cluster 17\n",
      "Dickerson then identified Jimmy Rochester as the actual bank robber.\n",
      "\n",
      "====================================================================================================\n",
      "====================================================================================================\n",
      "Samples of sentences in cluster 18\n",
      "at 1019 ; see also Tashjian , 107 S.Ct.\n",
      ", 39 L.Ed.2d 714 (1974); see also Tashjian , 107 S.Ct.\n",
      "====================================================================================================\n",
      "====================================================================================================\n",
      "Samples of sentences in cluster 19\n",
      "On motions by Piper and Avco based on diversity of citizenship, the case was removed from the California state court to the federal district court in California.\n",
      "\n",
      "====================================================================================================\n"
     ]
    }
   ],
   "source": [
    "\n",
    "for i in range(20):\n",
    "    print('=' * 100)\n",
    "    print('Samples of sentences in cluster {}'.format(i))\n",
    "    cur_df = corpus[model.labels_ == i]\n",
    "    if cur_df.shape[0] > 5:\n",
    "        cur_df = cur_df.sample(5)\n",
    "    for s in cur_df:\n",
    "        print(str(s))\n",
    "    print('=' * 100)\n"
   ]
  }
 ],
 "metadata": {
  "kernelspec": {
   "display_name": "Python 3",
   "name": "python3"
  },
  "language_info": {
   "codemirror_mode": {
    "name": "ipython",
    "version": 3
   },
   "file_extension": ".py",
   "mimetype": "text/x-python",
   "name": "python",
   "nbconvert_exporter": "python",
   "pygments_lexer": "ipython3",
   "version": "3.7.2+"
  },
  "name": "Untitled.ipynb"
 },
 "nbformat": 4,
 "nbformat_minor": 2
}
